{
  "nbformat": 4,
  "nbformat_minor": 0,
  "metadata": {
    "colab": {
      "name": "pfeDataset3.ipynb",
      "provenance": [],
      "collapsed_sections": []
    },
    "kernelspec": {
      "name": "python3",
      "display_name": "Python 3"
    },
    "language_info": {
      "name": "python"
    }
  },
  "cells": [
    {
      "cell_type": "code",
      "metadata": {
        "id": "SjGTTsz-04tj"
      },
      "source": [
        "import os\n",
        "import pprint as pp\n",
        "import pandas as pd\n",
        "import numpy as np\n",
        "import matplotlib.pyplot as plt\n",
        "import re\n",
        "import csv\n",
        "import glob\n",
        "import hashlib\n",
        "import sys\n",
        "import struct\n",
        "from sklearn import model_selection\n",
        "from sklearn.metrics import classification_report\n",
        "from sklearn.metrics import confusion_matrix\n",
        "from sklearn.metrics import accuracy_score\n",
        "from sklearn.linear_model import LogisticRegression\n",
        "from sklearn.tree import DecisionTreeClassifier\n",
        "from sklearn.neighbors import KNeighborsClassifier\n",
        "from sklearn.discriminant_analysis import LinearDiscriminantAnalysis\n",
        "from sklearn.naive_bayes import GaussianNB\n",
        "from sklearn.svm import SVC"
      ],
      "execution_count": null,
      "outputs": []
    },
    {
      "cell_type": "code",
      "metadata": {
        "colab": {
          "base_uri": "https://localhost:8080/"
        },
        "id": "_gVGFyIQuQTA",
        "outputId": "2045b050-f3b7-4b68-880b-cfe746c93920"
      },
      "source": [
        "from google.colab import drive\n",
        "drive.mount('/content/drive')"
      ],
      "execution_count": null,
      "outputs": [
        {
          "output_type": "stream",
          "name": "stdout",
          "text": [
            "Mounted at /content/drive\n"
          ]
        }
      ]
    },
    {
      "cell_type": "code",
      "metadata": {
        "id": "36H_EdgkuSM9"
      },
      "source": [
        "# Importing the dataset\n",
        "from sklearn.model_selection import train_test_split\n",
        "dataset = pd.read_csv('/content/drive/MyDrive/PfePhishing/3Detecting Phishing Websites Using Machine Learning/dataset.csv')"
      ],
      "execution_count": null,
      "outputs": []
    },
    {
      "cell_type": "code",
      "metadata": {
        "colab": {
          "base_uri": "https://localhost:8080/",
          "height": 243
        },
        "id": "lgD-PI4Buyjn",
        "outputId": "5e24607f-c740-49ee-b932-469a20f8505a"
      },
      "source": [
        "dataset.head()"
      ],
      "execution_count": null,
      "outputs": [
        {
          "output_type": "execute_result",
          "data": {
            "text/html": [
              "<div>\n",
              "<style scoped>\n",
              "    .dataframe tbody tr th:only-of-type {\n",
              "        vertical-align: middle;\n",
              "    }\n",
              "\n",
              "    .dataframe tbody tr th {\n",
              "        vertical-align: top;\n",
              "    }\n",
              "\n",
              "    .dataframe thead th {\n",
              "        text-align: right;\n",
              "    }\n",
              "</style>\n",
              "<table border=\"1\" class=\"dataframe\">\n",
              "  <thead>\n",
              "    <tr style=\"text-align: right;\">\n",
              "      <th></th>\n",
              "      <th>securLayer</th>\n",
              "      <th>HEXinURL</th>\n",
              "      <th>IPinURL</th>\n",
              "      <th>hostLength</th>\n",
              "      <th>URLlength</th>\n",
              "      <th>pathLength</th>\n",
              "      <th>dashInHOST</th>\n",
              "      <th>dotInHOST</th>\n",
              "      <th>dotInPATH</th>\n",
              "      <th>slashInURL</th>\n",
              "      <th>DigitInHOST</th>\n",
              "      <th>NumOfCertainKeyword</th>\n",
              "      <th>numOfSpecialCharacters</th>\n",
              "      <th>AtInURL</th>\n",
              "      <th>underscoreInHOST</th>\n",
              "      <th>underscoreInPATH</th>\n",
              "      <th>PresenceOfWWW</th>\n",
              "      <th>portRedirect</th>\n",
              "      <th>numOfHexWithePersent</th>\n",
              "      <th>NumberOfForms</th>\n",
              "      <th>numGet</th>\n",
              "      <th>numpost</th>\n",
              "      <th>numberOfOuterSRCinScript</th>\n",
              "      <th>numberOfScript</th>\n",
              "      <th>NumberOfIframe</th>\n",
              "      <th>NumberOfApplet</th>\n",
              "      <th>NumberOfEmbed</th>\n",
              "      <th>NumberOfFrame</th>\n",
              "      <th>NumberOflink</th>\n",
              "      <th>NumberOfNonlink</th>\n",
              "      <th>NumberOfFsubmint</th>\n",
              "      <th>NumberOfInputEmail</th>\n",
              "      <th>NumberOfInputpassword</th>\n",
              "      <th>NumberOfFbutton</th>\n",
              "      <th>alexa</th>\n",
              "      <th>age</th>\n",
              "      <th>target label</th>\n",
              "    </tr>\n",
              "  </thead>\n",
              "  <tbody>\n",
              "    <tr>\n",
              "      <th>0</th>\n",
              "      <td>1</td>\n",
              "      <td>0</td>\n",
              "      <td>0</td>\n",
              "      <td>18</td>\n",
              "      <td>30</td>\n",
              "      <td>4</td>\n",
              "      <td>0</td>\n",
              "      <td>2</td>\n",
              "      <td>0</td>\n",
              "      <td>4</td>\n",
              "      <td>0</td>\n",
              "      <td>0</td>\n",
              "      <td>0</td>\n",
              "      <td>0</td>\n",
              "      <td>0</td>\n",
              "      <td>0</td>\n",
              "      <td>1</td>\n",
              "      <td>0</td>\n",
              "      <td>0</td>\n",
              "      <td>21</td>\n",
              "      <td>1</td>\n",
              "      <td>20</td>\n",
              "      <td>40</td>\n",
              "      <td>61</td>\n",
              "      <td>0</td>\n",
              "      <td>0</td>\n",
              "      <td>0</td>\n",
              "      <td>0</td>\n",
              "      <td>396</td>\n",
              "      <td>4</td>\n",
              "      <td>19</td>\n",
              "      <td>0</td>\n",
              "      <td>1</td>\n",
              "      <td>34</td>\n",
              "      <td>-1</td>\n",
              "      <td>9.00</td>\n",
              "      <td>1</td>\n",
              "    </tr>\n",
              "    <tr>\n",
              "      <th>1</th>\n",
              "      <td>1</td>\n",
              "      <td>1</td>\n",
              "      <td>0</td>\n",
              "      <td>12</td>\n",
              "      <td>64</td>\n",
              "      <td>44</td>\n",
              "      <td>1</td>\n",
              "      <td>1</td>\n",
              "      <td>0</td>\n",
              "      <td>6</td>\n",
              "      <td>0</td>\n",
              "      <td>1</td>\n",
              "      <td>0</td>\n",
              "      <td>0</td>\n",
              "      <td>0</td>\n",
              "      <td>0</td>\n",
              "      <td>0</td>\n",
              "      <td>0</td>\n",
              "      <td>0</td>\n",
              "      <td>0</td>\n",
              "      <td>0</td>\n",
              "      <td>0</td>\n",
              "      <td>10</td>\n",
              "      <td>12</td>\n",
              "      <td>0</td>\n",
              "      <td>0</td>\n",
              "      <td>0</td>\n",
              "      <td>0</td>\n",
              "      <td>83</td>\n",
              "      <td>1</td>\n",
              "      <td>0</td>\n",
              "      <td>0</td>\n",
              "      <td>0</td>\n",
              "      <td>19</td>\n",
              "      <td>6033072</td>\n",
              "      <td>6.00</td>\n",
              "      <td>1</td>\n",
              "    </tr>\n",
              "    <tr>\n",
              "      <th>2</th>\n",
              "      <td>0</td>\n",
              "      <td>0</td>\n",
              "      <td>0</td>\n",
              "      <td>25</td>\n",
              "      <td>58</td>\n",
              "      <td>26</td>\n",
              "      <td>0</td>\n",
              "      <td>1</td>\n",
              "      <td>1</td>\n",
              "      <td>4</td>\n",
              "      <td>0</td>\n",
              "      <td>4</td>\n",
              "      <td>0</td>\n",
              "      <td>0</td>\n",
              "      <td>0</td>\n",
              "      <td>0</td>\n",
              "      <td>0</td>\n",
              "      <td>0</td>\n",
              "      <td>0</td>\n",
              "      <td>1</td>\n",
              "      <td>0</td>\n",
              "      <td>1</td>\n",
              "      <td>1</td>\n",
              "      <td>3</td>\n",
              "      <td>0</td>\n",
              "      <td>0</td>\n",
              "      <td>0</td>\n",
              "      <td>0</td>\n",
              "      <td>67</td>\n",
              "      <td>0</td>\n",
              "      <td>0</td>\n",
              "      <td>0</td>\n",
              "      <td>0</td>\n",
              "      <td>19</td>\n",
              "      <td>-1</td>\n",
              "      <td>2.00</td>\n",
              "      <td>1</td>\n",
              "    </tr>\n",
              "    <tr>\n",
              "      <th>3</th>\n",
              "      <td>0</td>\n",
              "      <td>0</td>\n",
              "      <td>0</td>\n",
              "      <td>16</td>\n",
              "      <td>42</td>\n",
              "      <td>19</td>\n",
              "      <td>0</td>\n",
              "      <td>1</td>\n",
              "      <td>0</td>\n",
              "      <td>4</td>\n",
              "      <td>0</td>\n",
              "      <td>0</td>\n",
              "      <td>0</td>\n",
              "      <td>0</td>\n",
              "      <td>0</td>\n",
              "      <td>0</td>\n",
              "      <td>0</td>\n",
              "      <td>0</td>\n",
              "      <td>0</td>\n",
              "      <td>1</td>\n",
              "      <td>0</td>\n",
              "      <td>1</td>\n",
              "      <td>4</td>\n",
              "      <td>4</td>\n",
              "      <td>0</td>\n",
              "      <td>0</td>\n",
              "      <td>0</td>\n",
              "      <td>0</td>\n",
              "      <td>0</td>\n",
              "      <td>0</td>\n",
              "      <td>1</td>\n",
              "      <td>0</td>\n",
              "      <td>1</td>\n",
              "      <td>10</td>\n",
              "      <td>-1</td>\n",
              "      <td>0.11</td>\n",
              "      <td>1</td>\n",
              "    </tr>\n",
              "    <tr>\n",
              "      <th>4</th>\n",
              "      <td>1</td>\n",
              "      <td>0</td>\n",
              "      <td>0</td>\n",
              "      <td>14</td>\n",
              "      <td>45</td>\n",
              "      <td>23</td>\n",
              "      <td>0</td>\n",
              "      <td>2</td>\n",
              "      <td>1</td>\n",
              "      <td>6</td>\n",
              "      <td>0</td>\n",
              "      <td>1</td>\n",
              "      <td>0</td>\n",
              "      <td>0</td>\n",
              "      <td>0</td>\n",
              "      <td>0</td>\n",
              "      <td>1</td>\n",
              "      <td>0</td>\n",
              "      <td>0</td>\n",
              "      <td>1</td>\n",
              "      <td>1</td>\n",
              "      <td>0</td>\n",
              "      <td>18</td>\n",
              "      <td>22</td>\n",
              "      <td>1</td>\n",
              "      <td>0</td>\n",
              "      <td>0</td>\n",
              "      <td>0</td>\n",
              "      <td>115</td>\n",
              "      <td>26</td>\n",
              "      <td>0</td>\n",
              "      <td>1</td>\n",
              "      <td>6</td>\n",
              "      <td>5</td>\n",
              "      <td>838451</td>\n",
              "      <td>22.00</td>\n",
              "      <td>1</td>\n",
              "    </tr>\n",
              "  </tbody>\n",
              "</table>\n",
              "</div>"
            ],
            "text/plain": [
              "   securLayer  HEXinURL  IPinURL  ...    alexa    age  target label\n",
              "0           1         0        0  ...       -1   9.00             1\n",
              "1           1         1        0  ...  6033072   6.00             1\n",
              "2           0         0        0  ...       -1   2.00             1\n",
              "3           0         0        0  ...       -1   0.11             1\n",
              "4           1         0        0  ...   838451  22.00             1\n",
              "\n",
              "[5 rows x 37 columns]"
            ]
          },
          "metadata": {},
          "execution_count": 4
        }
      ]
    },
    {
      "cell_type": "code",
      "metadata": {
        "colab": {
          "base_uri": "https://localhost:8080/",
          "height": 180
        },
        "id": "px5f0AhBFmm3",
        "outputId": "73f71940-5a85-4c8f-a6d7-e78154c5198a"
      },
      "source": [
        "dataset.groupby('target label').count()"
      ],
      "execution_count": null,
      "outputs": [
        {
          "output_type": "execute_result",
          "data": {
            "text/html": [
              "<div>\n",
              "<style scoped>\n",
              "    .dataframe tbody tr th:only-of-type {\n",
              "        vertical-align: middle;\n",
              "    }\n",
              "\n",
              "    .dataframe tbody tr th {\n",
              "        vertical-align: top;\n",
              "    }\n",
              "\n",
              "    .dataframe thead th {\n",
              "        text-align: right;\n",
              "    }\n",
              "</style>\n",
              "<table border=\"1\" class=\"dataframe\">\n",
              "  <thead>\n",
              "    <tr style=\"text-align: right;\">\n",
              "      <th></th>\n",
              "      <th>securLayer</th>\n",
              "      <th>HEXinURL</th>\n",
              "      <th>IPinURL</th>\n",
              "      <th>hostLength</th>\n",
              "      <th>URLlength</th>\n",
              "      <th>pathLength</th>\n",
              "      <th>dashInHOST</th>\n",
              "      <th>dotInHOST</th>\n",
              "      <th>dotInPATH</th>\n",
              "      <th>slashInURL</th>\n",
              "      <th>DigitInHOST</th>\n",
              "      <th>NumOfCertainKeyword</th>\n",
              "      <th>numOfSpecialCharacters</th>\n",
              "      <th>AtInURL</th>\n",
              "      <th>underscoreInHOST</th>\n",
              "      <th>underscoreInPATH</th>\n",
              "      <th>PresenceOfWWW</th>\n",
              "      <th>portRedirect</th>\n",
              "      <th>numOfHexWithePersent</th>\n",
              "      <th>NumberOfForms</th>\n",
              "      <th>numGet</th>\n",
              "      <th>numpost</th>\n",
              "      <th>numberOfOuterSRCinScript</th>\n",
              "      <th>numberOfScript</th>\n",
              "      <th>NumberOfIframe</th>\n",
              "      <th>NumberOfApplet</th>\n",
              "      <th>NumberOfEmbed</th>\n",
              "      <th>NumberOfFrame</th>\n",
              "      <th>NumberOflink</th>\n",
              "      <th>NumberOfNonlink</th>\n",
              "      <th>NumberOfFsubmint</th>\n",
              "      <th>NumberOfInputEmail</th>\n",
              "      <th>NumberOfInputpassword</th>\n",
              "      <th>NumberOfFbutton</th>\n",
              "      <th>alexa</th>\n",
              "      <th>age</th>\n",
              "    </tr>\n",
              "    <tr>\n",
              "      <th>target label</th>\n",
              "      <th></th>\n",
              "      <th></th>\n",
              "      <th></th>\n",
              "      <th></th>\n",
              "      <th></th>\n",
              "      <th></th>\n",
              "      <th></th>\n",
              "      <th></th>\n",
              "      <th></th>\n",
              "      <th></th>\n",
              "      <th></th>\n",
              "      <th></th>\n",
              "      <th></th>\n",
              "      <th></th>\n",
              "      <th></th>\n",
              "      <th></th>\n",
              "      <th></th>\n",
              "      <th></th>\n",
              "      <th></th>\n",
              "      <th></th>\n",
              "      <th></th>\n",
              "      <th></th>\n",
              "      <th></th>\n",
              "      <th></th>\n",
              "      <th></th>\n",
              "      <th></th>\n",
              "      <th></th>\n",
              "      <th></th>\n",
              "      <th></th>\n",
              "      <th></th>\n",
              "      <th></th>\n",
              "      <th></th>\n",
              "      <th></th>\n",
              "      <th></th>\n",
              "      <th></th>\n",
              "      <th></th>\n",
              "    </tr>\n",
              "  </thead>\n",
              "  <tbody>\n",
              "    <tr>\n",
              "      <th>0</th>\n",
              "      <td>2566</td>\n",
              "      <td>2566</td>\n",
              "      <td>2566</td>\n",
              "      <td>2566</td>\n",
              "      <td>2566</td>\n",
              "      <td>2566</td>\n",
              "      <td>2566</td>\n",
              "      <td>2566</td>\n",
              "      <td>2566</td>\n",
              "      <td>2566</td>\n",
              "      <td>2566</td>\n",
              "      <td>2566</td>\n",
              "      <td>2566</td>\n",
              "      <td>2566</td>\n",
              "      <td>2566</td>\n",
              "      <td>2566</td>\n",
              "      <td>2566</td>\n",
              "      <td>2566</td>\n",
              "      <td>2566</td>\n",
              "      <td>2566</td>\n",
              "      <td>2566</td>\n",
              "      <td>2566</td>\n",
              "      <td>2566</td>\n",
              "      <td>2566</td>\n",
              "      <td>2566</td>\n",
              "      <td>2566</td>\n",
              "      <td>2566</td>\n",
              "      <td>2566</td>\n",
              "      <td>2566</td>\n",
              "      <td>2566</td>\n",
              "      <td>2566</td>\n",
              "      <td>2566</td>\n",
              "      <td>2566</td>\n",
              "      <td>2566</td>\n",
              "      <td>2566</td>\n",
              "      <td>2566</td>\n",
              "    </tr>\n",
              "    <tr>\n",
              "      <th>1</th>\n",
              "      <td>3550</td>\n",
              "      <td>3550</td>\n",
              "      <td>3550</td>\n",
              "      <td>3550</td>\n",
              "      <td>3550</td>\n",
              "      <td>3550</td>\n",
              "      <td>3550</td>\n",
              "      <td>3550</td>\n",
              "      <td>3550</td>\n",
              "      <td>3550</td>\n",
              "      <td>3550</td>\n",
              "      <td>3550</td>\n",
              "      <td>3550</td>\n",
              "      <td>3550</td>\n",
              "      <td>3550</td>\n",
              "      <td>3550</td>\n",
              "      <td>3550</td>\n",
              "      <td>3550</td>\n",
              "      <td>3550</td>\n",
              "      <td>3550</td>\n",
              "      <td>3550</td>\n",
              "      <td>3550</td>\n",
              "      <td>3550</td>\n",
              "      <td>3550</td>\n",
              "      <td>3550</td>\n",
              "      <td>3550</td>\n",
              "      <td>3550</td>\n",
              "      <td>3550</td>\n",
              "      <td>3550</td>\n",
              "      <td>3550</td>\n",
              "      <td>3550</td>\n",
              "      <td>3550</td>\n",
              "      <td>3550</td>\n",
              "      <td>3550</td>\n",
              "      <td>3550</td>\n",
              "      <td>3550</td>\n",
              "    </tr>\n",
              "  </tbody>\n",
              "</table>\n",
              "</div>"
            ],
            "text/plain": [
              "              securLayer  HEXinURL  IPinURL  ...  NumberOfFbutton  alexa   age\n",
              "target label                                 ...                              \n",
              "0                   2566      2566     2566  ...             2566   2566  2566\n",
              "1                   3550      3550     3550  ...             3550   3550  3550\n",
              "\n",
              "[2 rows x 36 columns]"
            ]
          },
          "metadata": {},
          "execution_count": 5
        }
      ]
    },
    {
      "cell_type": "code",
      "metadata": {
        "colab": {
          "base_uri": "https://localhost:8080/"
        },
        "id": "Wq-I9Ue36XIm",
        "outputId": "4ce4429c-ace3-4642-8888-1b754765e4d7"
      },
      "source": [
        "# Sepratating & assigning features and target columns to X & y\n",
        "from numpy import asarray\n",
        "from sklearn.preprocessing import OrdinalEncoder\n",
        "from sklearn.preprocessing import LabelEncoder\n",
        "\n",
        "y = dataset['target label']\n",
        "X = dataset.drop('target label',axis=1)\n",
        "X = X.fillna(0)\n",
        "\n",
        "\n",
        "lb_make = LabelEncoder()\n",
        "y = lb_make.fit_transform(y)\n",
        "y\n"
      ],
      "execution_count": null,
      "outputs": [
        {
          "output_type": "execute_result",
          "data": {
            "text/plain": [
              "array([1, 1, 1, ..., 0, 0, 0])"
            ]
          },
          "metadata": {},
          "execution_count": 6
        }
      ]
    },
    {
      "cell_type": "code",
      "metadata": {
        "colab": {
          "base_uri": "https://localhost:8080/"
        },
        "id": "Yd6-fAwj6zdd",
        "outputId": "0c07ba7c-9a80-49c5-847d-afcc55601d2e"
      },
      "source": [
        "# Splitting the dataset into train and test sets: 80-20 split\n",
        "from sklearn.model_selection import train_test_split\n",
        "\n",
        "X_train, X_test, y_train, y_test = train_test_split(X, y,test_size = 0.2, random_state = 12)\n",
        "X_train.shape, X_test.shape"
      ],
      "execution_count": null,
      "outputs": [
        {
          "output_type": "execute_result",
          "data": {
            "text/plain": [
              "((4892, 36), (1224, 36))"
            ]
          },
          "metadata": {},
          "execution_count": 7
        }
      ]
    },
    {
      "cell_type": "markdown",
      "metadata": {
        "id": "7D9NACivuVbd"
      },
      "source": [
        "# This section is for Performance results"
      ]
    },
    {
      "cell_type": "code",
      "metadata": {
        "id": "ud0Jm3KAuVbd"
      },
      "source": [
        "#importing packages\n",
        "from sklearn.metrics import accuracy_score\n",
        "from sklearn.model_selection import cross_val_score"
      ],
      "execution_count": null,
      "outputs": []
    },
    {
      "cell_type": "code",
      "metadata": {
        "id": "uS5J7uCRuVbd"
      },
      "source": [
        "# Creating holders to store the model performance results\n",
        "ML_Model = []\n",
        "acc_train = []\n",
        "acc_test = []\n",
        "\n",
        "#function to call for storing the results\n",
        "def storeResults(model, a,b):\n",
        "  ML_Model.append(model)\n",
        "  acc_train.append(round(a, 3))\n",
        "  acc_test.append(round(b, 3))"
      ],
      "execution_count": null,
      "outputs": []
    },
    {
      "cell_type": "markdown",
      "metadata": {
        "id": "qDf_vqo6uVbd"
      },
      "source": [
        "# Classifier: Decision Tree"
      ]
    },
    {
      "cell_type": "code",
      "metadata": {
        "id": "w8cIJbyzuVbe",
        "colab": {
          "base_uri": "https://localhost:8080/"
        },
        "outputId": "657cbbbf-7400-41f6-d590-135b377dd257"
      },
      "source": [
        "# Decision Tree model \n",
        "import time\n",
        "from sklearn.tree import DecisionTreeClassifier\n",
        "start_time = time.time()\n",
        "\n",
        "# instantiate the model \n",
        "tree = DecisionTreeClassifier(max_depth = 10)\n",
        "# fit the model \n",
        "tree.fit(X_train, y_train)\n",
        "scores = cross_val_score(tree, X_train, y_train, cv=10)\n",
        "scores.mean()\n",
        "print(\"--- %s seconds ----\" %(time.time() - start_time ))"
      ],
      "execution_count": null,
      "outputs": [
        {
          "output_type": "stream",
          "name": "stdout",
          "text": [
            "--- 0.3501725196838379 seconds ----\n"
          ]
        }
      ]
    },
    {
      "cell_type": "code",
      "metadata": {
        "id": "3Xq_p3gnuVbe"
      },
      "source": [
        "#predicting the target value from the model for the samples\n",
        "y_test_tree = tree.predict(X_test)\n",
        "y_train_tree = tree.predict(X_train)"
      ],
      "execution_count": null,
      "outputs": []
    },
    {
      "cell_type": "markdown",
      "metadata": {
        "id": "0We8kHYCuVbe"
      },
      "source": [
        "Performance Evaluation"
      ]
    },
    {
      "cell_type": "code",
      "metadata": {
        "id": "EE3P0CM5uVbe",
        "colab": {
          "base_uri": "https://localhost:8080/"
        },
        "outputId": "0afadd12-7787-4202-d8be-84a48ac3e0c4"
      },
      "source": [
        "#computing the accuracy of the model performance\n",
        "acc_train_tree = scores.mean()\n",
        "acc_test_tree = accuracy_score(y_test,y_test_tree)\n",
        "\n",
        "print(\"Decision Tree: Accuracy on training Data: {:.3f}\".format(acc_train_tree))\n",
        "print(\"Decision Tree: Accuracy on test Data: {:.3f}\".format(acc_test_tree))"
      ],
      "execution_count": null,
      "outputs": [
        {
          "output_type": "stream",
          "name": "stdout",
          "text": [
            "Decision Tree: Accuracy on training Data: 0.949\n",
            "Decision Tree: Accuracy on test Data: 0.961\n"
          ]
        }
      ]
    },
    {
      "cell_type": "markdown",
      "metadata": {
        "id": "IphDtyjluVbe"
      },
      "source": [
        "Storing the results"
      ]
    },
    {
      "cell_type": "code",
      "metadata": {
        "id": "17Bkt1uquVbe"
      },
      "source": [
        "#storing the results. The below mentioned order of parameter passing is important.\n",
        "#Caution: Execute only once to avoid duplications.\n",
        "storeResults('Decision Tree', acc_train_tree, acc_test_tree)"
      ],
      "execution_count": null,
      "outputs": []
    },
    {
      "cell_type": "markdown",
      "metadata": {
        "id": "BmduNZpRuVbf"
      },
      "source": [
        "# Classifier: Random Forest"
      ]
    },
    {
      "cell_type": "code",
      "metadata": {
        "id": "WN6tXU7ruVbf",
        "colab": {
          "base_uri": "https://localhost:8080/"
        },
        "outputId": "b428d18c-b41f-4c0b-bd88-65c6b3e774df"
      },
      "source": [
        "# Random Forest model\n",
        "from sklearn.ensemble import RandomForestClassifier\n",
        "start_time = time.time()\n",
        "# instantiate the model\n",
        "forest = RandomForestClassifier(max_depth=10)\n",
        "\n",
        "# fit the model \n",
        "forest.fit(X_train, y_train)\n",
        "scores = cross_val_score(forest, X_train, y_train, cv=10)\n",
        "scores.mean()\n",
        "print(\"--- %s seconds ----\" %(time.time() - start_time ))"
      ],
      "execution_count": null,
      "outputs": [
        {
          "output_type": "stream",
          "name": "stdout",
          "text": [
            "--- 5.527318239212036 seconds ----\n"
          ]
        }
      ]
    },
    {
      "cell_type": "code",
      "metadata": {
        "id": "DrUGrU-ouVbf"
      },
      "source": [
        "#predicting the target value from the model for the samples\n",
        "y_test_forest = forest.predict(X_test)\n",
        "y_train_forest = forest.predict(X_train)"
      ],
      "execution_count": null,
      "outputs": []
    },
    {
      "cell_type": "markdown",
      "metadata": {
        "id": "UaBsn0GCuVbf"
      },
      "source": [
        "Performance Evaluation"
      ]
    },
    {
      "cell_type": "code",
      "metadata": {
        "id": "-sukyjSOuVbf",
        "colab": {
          "base_uri": "https://localhost:8080/"
        },
        "outputId": "c620b64b-1583-4bb3-82b2-9c34fc67d76a"
      },
      "source": [
        "#computing the accuracy of the model performance\n",
        "acc_train_forest = scores.mean()\n",
        "acc_test_forest = accuracy_score(y_test,y_test_forest)\n",
        "\n",
        "print(\"Random forest: Accuracy on training Data: {:.3f}\".format(acc_train_forest))\n",
        "print(\"Random forest: Accuracy on test Data: {:.3f}\".format(acc_test_forest))"
      ],
      "execution_count": null,
      "outputs": [
        {
          "output_type": "stream",
          "name": "stdout",
          "text": [
            "Random forest: Accuracy on training Data: 0.962\n",
            "Random forest: Accuracy on test Data: 0.977\n"
          ]
        }
      ]
    },
    {
      "cell_type": "markdown",
      "metadata": {
        "id": "DujdJmppuVbg"
      },
      "source": [
        "Storing the results"
      ]
    },
    {
      "cell_type": "code",
      "metadata": {
        "id": "vteUM5gTuVbg"
      },
      "source": [
        "#storing the results. The below mentioned order of parameter passing is important.\n",
        "#Caution: Execute only once to avoid duplications.\n",
        "storeResults('Random Forest', acc_train_forest, acc_test_forest)"
      ],
      "execution_count": null,
      "outputs": []
    },
    {
      "cell_type": "markdown",
      "metadata": {
        "id": "E771Lg8DuVbg"
      },
      "source": [
        "# XGBoost Classifier "
      ]
    },
    {
      "cell_type": "code",
      "metadata": {
        "id": "BwYTGGMtuVbg",
        "colab": {
          "base_uri": "https://localhost:8080/"
        },
        "outputId": "2f89440e-0226-4741-e8d6-0512345949a0"
      },
      "source": [
        "#XGBoost Classification model\n",
        "from xgboost import XGBClassifier\n",
        "start_time = time.time()\n",
        "# instantiate the model\n",
        "xgb = XGBClassifier(learning_rate=0.4,max_depth=10)\n",
        "#fit the model\n",
        "xgb.fit(X_train, y_train)\n",
        "scores = cross_val_score(xgb, X_train, y_train, cv=10)\n",
        "scores.mean()\n",
        "print(\"--- %s seconds ----\" %(time.time() - start_time ))"
      ],
      "execution_count": null,
      "outputs": [
        {
          "output_type": "stream",
          "name": "stdout",
          "text": [
            "--- 12.900518894195557 seconds ----\n"
          ]
        }
      ]
    },
    {
      "cell_type": "code",
      "metadata": {
        "id": "_zHOIiEuuVbg"
      },
      "source": [
        "#predicting the target value from the model for the samples\n",
        "y_test_xgb = xgb.predict(X_test)\n",
        "y_train_xgb = xgb.predict(X_train)"
      ],
      "execution_count": null,
      "outputs": []
    },
    {
      "cell_type": "markdown",
      "metadata": {
        "id": "qWnfdM2TuVbh"
      },
      "source": [
        "Performance evaluation"
      ]
    },
    {
      "cell_type": "code",
      "metadata": {
        "id": "0asAvVNGuVbh",
        "colab": {
          "base_uri": "https://localhost:8080/"
        },
        "outputId": "c5738647-5269-43f4-f757-eb6db4ff652f"
      },
      "source": [
        "#computing the accuracy of the model performance\n",
        "acc_train_xgb = scores.mean()\n",
        "acc_test_xgb = accuracy_score(y_test,y_test_xgb)\n",
        "\n",
        "print(\"XGBoost: Accuracy on training Data: {:.3f}\".format(acc_train_xgb))\n",
        "print(\"XGBoost : Accuracy on test Data: {:.3f}\".format(acc_test_xgb))"
      ],
      "execution_count": null,
      "outputs": [
        {
          "output_type": "stream",
          "name": "stdout",
          "text": [
            "XGBoost: Accuracy on training Data: 0.972\n",
            "XGBoost : Accuracy on test Data: 0.984\n"
          ]
        }
      ]
    },
    {
      "cell_type": "markdown",
      "metadata": {
        "id": "ruAuuwJ-uVbh"
      },
      "source": [
        "Storing the results"
      ]
    },
    {
      "cell_type": "code",
      "metadata": {
        "id": "x5Pe1UwpuVbh"
      },
      "source": [
        "#storing the results. The below mentioned order of parameter passing is important.\n",
        "#Caution: Execute only once to avoid duplications.\n",
        "storeResults('XGBoost', acc_train_xgb, acc_test_xgb)"
      ],
      "execution_count": null,
      "outputs": []
    },
    {
      "cell_type": "markdown",
      "metadata": {
        "id": "pZmgXjj4uVbh"
      },
      "source": [
        "# **Classifier: Artificial Neural Network**"
      ]
    },
    {
      "cell_type": "code",
      "metadata": {
        "id": "vHxnS06muVbh"
      },
      "source": [
        "#importing required packages\n",
        "import keras\n",
        "from keras.layers import Input, Dense\n",
        "from keras import regularizers\n",
        "import tensorflow as tf\n",
        "from keras.models import Model\n",
        "from sklearn import metrics"
      ],
      "execution_count": null,
      "outputs": []
    },
    {
      "cell_type": "code",
      "metadata": {
        "id": "whPG8VsOuVbi"
      },
      "source": [
        "\n",
        "from sklearn.preprocessing import StandardScaler                   # for normalization of our data\n",
        "from keras.wrappers.scikit_learn import KerasClassifier            #package allowing keras to work with python\n",
        "from sklearn.model_selection import cross_val_score, GridSearchCV  #using Kfold and if needed, GridSearch object in analysis\n",
        "from sklearn.utils import shuffle                                  # shuffling our own made dataset\n",
        "from keras.models import Sequential                                # linear layer stacks model for keras\n",
        "from keras.layers import Dense, Dropout     "
      ],
      "execution_count": null,
      "outputs": []
    },
    {
      "cell_type": "code",
      "metadata": {
        "id": "s9haLzsmuVbi",
        "colab": {
          "base_uri": "https://localhost:8080/"
        },
        "outputId": "41c2667a-d18b-40f1-b3e2-a1f586071d86"
      },
      "source": [
        "    epoch = 20\n",
        "        \n",
        "    classifier = Sequential()\n",
        "    classifier.add(Dense(units = 40, activation='relu',kernel_initializer='uniform', input_dim = 36))\n",
        "    #classifier.add(Dropout(p= 0.1))\n",
        "    classifier.add(Dense(units = 40, activation='relu',kernel_initializer='uniform'))\n",
        "    #classifier.add(Dropout(p= 0.1))\n",
        "    classifier.add(Dense(units = 40, activation='relu',kernel_initializer='uniform'))\n",
        "    #classifier.add(Dropout(p= 0.1))\n",
        "    classifier.add(Dense(units = 40, activation='relu',kernel_initializer='uniform'))      \n",
        "    #classifier.add(Dropout(p= 0.1))   \n",
        "    classifier.add(Dense(units = 1, activation='sigmoid',kernel_initializer='uniform'))\n",
        "    #classifier.add(Dropout(p= 0.1))\n",
        "    classifier.compile(optimizer='adam', loss='binary_crossentropy',metrics=['accuracy'])\n",
        "    start_time = time.time()\n",
        "    history = classifier.fit(X_train, y_train, epochs=epoch, validation_data=(X_test, y_test), verbose=1)\n",
        "    print(\"--- %s seconds ----\" %(time.time() - start_time ))"
      ],
      "execution_count": null,
      "outputs": [
        {
          "output_type": "stream",
          "name": "stdout",
          "text": [
            "Epoch 1/20\n",
            "153/153 [==============================] - 1s 3ms/step - loss: 1.2391 - accuracy: 0.7641 - val_loss: 0.4059 - val_accuracy: 0.8309\n",
            "Epoch 2/20\n",
            "153/153 [==============================] - 0s 2ms/step - loss: 0.4301 - accuracy: 0.8265 - val_loss: 0.4729 - val_accuracy: 0.7737\n",
            "Epoch 3/20\n",
            "153/153 [==============================] - 0s 2ms/step - loss: 0.3599 - accuracy: 0.8332 - val_loss: 0.2681 - val_accuracy: 0.8644\n",
            "Epoch 4/20\n",
            "153/153 [==============================] - 0s 2ms/step - loss: 0.3628 - accuracy: 0.8645 - val_loss: 0.3180 - val_accuracy: 0.8399\n",
            "Epoch 5/20\n",
            "153/153 [==============================] - 0s 2ms/step - loss: 0.3369 - accuracy: 0.8716 - val_loss: 0.2838 - val_accuracy: 0.8922\n",
            "Epoch 6/20\n",
            "153/153 [==============================] - 0s 2ms/step - loss: 0.3134 - accuracy: 0.8496 - val_loss: 0.2612 - val_accuracy: 0.8619\n",
            "Epoch 7/20\n",
            "153/153 [==============================] - 0s 2ms/step - loss: 0.2991 - accuracy: 0.8481 - val_loss: 0.2656 - val_accuracy: 0.8652\n",
            "Epoch 8/20\n",
            "153/153 [==============================] - 0s 2ms/step - loss: 0.2961 - accuracy: 0.8465 - val_loss: 0.2537 - val_accuracy: 0.8595\n",
            "Epoch 9/20\n",
            "153/153 [==============================] - 0s 2ms/step - loss: 0.3272 - accuracy: 0.8506 - val_loss: 0.3661 - val_accuracy: 0.8619\n",
            "Epoch 10/20\n",
            "153/153 [==============================] - 0s 2ms/step - loss: 0.3102 - accuracy: 0.8491 - val_loss: 0.2731 - val_accuracy: 0.8636\n",
            "Epoch 11/20\n",
            "153/153 [==============================] - 0s 2ms/step - loss: 0.2836 - accuracy: 0.8508 - val_loss: 0.2504 - val_accuracy: 0.8660\n",
            "Epoch 12/20\n",
            "153/153 [==============================] - 0s 2ms/step - loss: 0.2885 - accuracy: 0.8524 - val_loss: 0.2738 - val_accuracy: 0.8587\n",
            "Epoch 13/20\n",
            "153/153 [==============================] - 0s 2ms/step - loss: 0.2770 - accuracy: 0.8540 - val_loss: 0.2498 - val_accuracy: 0.8660\n",
            "Epoch 14/20\n",
            "153/153 [==============================] - 0s 2ms/step - loss: 0.2968 - accuracy: 0.8481 - val_loss: 0.2540 - val_accuracy: 0.8644\n",
            "Epoch 15/20\n",
            "153/153 [==============================] - 0s 2ms/step - loss: 0.2959 - accuracy: 0.8475 - val_loss: 0.2425 - val_accuracy: 0.8701\n",
            "Epoch 16/20\n",
            "153/153 [==============================] - 0s 2ms/step - loss: 0.2675 - accuracy: 0.8553 - val_loss: 0.2346 - val_accuracy: 0.9085\n",
            "Epoch 17/20\n",
            "153/153 [==============================] - 0s 2ms/step - loss: 0.3044 - accuracy: 0.8796 - val_loss: 0.2574 - val_accuracy: 0.8897\n",
            "Epoch 18/20\n",
            "153/153 [==============================] - 0s 2ms/step - loss: 0.3021 - accuracy: 0.8745 - val_loss: 0.2692 - val_accuracy: 0.8864\n",
            "Epoch 19/20\n",
            "153/153 [==============================] - 0s 2ms/step - loss: 0.2722 - accuracy: 0.8788 - val_loss: 0.2565 - val_accuracy: 0.8930\n",
            "Epoch 20/20\n",
            "153/153 [==============================] - 0s 2ms/step - loss: 0.2769 - accuracy: 0.8847 - val_loss: 0.2438 - val_accuracy: 0.9052\n",
            "--- 7.108434438705444 seconds ----\n"
          ]
        }
      ]
    },
    {
      "cell_type": "code",
      "metadata": {
        "colab": {
          "base_uri": "https://localhost:8080/",
          "height": 384
        },
        "id": "AtkIynjGOxon",
        "outputId": "ee9e4e24-db71-447a-b1ae-10ce3d49b2f8"
      },
      "source": [
        "import os\n",
        "import tensorflow as tf\n",
        "import numpy as np\n",
        "from tensorflow.keras.models import Sequential\n",
        "from tensorflow.keras.layers import Dense, Flatten,Conv2D\n",
        "from tensorflow.keras.applications.resnet50 import ResNet50, preprocess_input\n",
        "import keras\n",
        "import matplotlib.pyplot as plt\n",
        "from sklearn.model_selection import train_test_split\n",
        "\n",
        "def visualisation_history(history):\n",
        "  \n",
        "  fig, (ax1, ax2) = plt.subplots(1, 2,figsize=(13,5))\n",
        "\n",
        "  ax1.plot(history.history['accuracy'],c='blue')\n",
        "  ax1.plot(history.history['val_accuracy'],c='red')\n",
        "  ax1.set_title('model accuracy')\n",
        "  ax1.set_ylabel('accuracy')\n",
        "  ax1.set_xlabel('epoch')\n",
        "  ax1.legend(['train', 'test'], loc='center right')\n",
        "  \n",
        "\n",
        "  ax2.plot(history.history['loss'],c='blue')\n",
        "  ax2.plot(history.history['val_loss'],c='red')\n",
        "  ax2.set_title('model loss')\n",
        "  ax2.set_ylabel('loss')\n",
        "  ax2.set_xlabel('epoch')\n",
        "  ax2.legend(['train', 'test'], loc='center right')\n",
        "  plt.show()\n",
        "# evaluation du modèle\n",
        "_, acc =classifier.evaluate(X_test, y_test)\n",
        "print('Test Accuracy: %.3f' % (acc * 100))\n",
        "visualisation_history(history)"
      ],
      "execution_count": null,
      "outputs": [
        {
          "output_type": "stream",
          "name": "stdout",
          "text": [
            "39/39 [==============================] - 0s 1ms/step - loss: 0.2438 - accuracy: 0.9052\n",
            "Test Accuracy: 90.523\n"
          ]
        },
        {
          "output_type": "display_data",
          "data": {
            "image/png": "[encoded data removed]",
            "text/plain": [
              "<Figure size 936x360 with 2 Axes>"
            ]
          },
          "metadata": {
            "needs_background": "light"
          }
        }
      ]
    },
    {
      "cell_type": "markdown",
      "metadata": {
        "id": "H5MbDroHuVbi"
      },
      "source": [
        "Performance Evaluation"
      ]
    },
    {
      "cell_type": "code",
      "metadata": {
        "id": "sjiSLMYbuVbi",
        "colab": {
          "base_uri": "https://localhost:8080/",
          "height": 375
        },
        "outputId": "fcf76d8c-7264-4150-af95-a5ca6c361753"
      },
      "source": [
        "scores = cross_val_score(\n",
        "                        estimator=classifier, \n",
        "                        X = X_train,\n",
        "                        y = y_train,\n",
        "                        cv=10)\n",
        "#scores.mean()"
      ],
      "execution_count": null,
      "outputs": [
        {
          "output_type": "error",
          "ename": "TypeError",
          "evalue": "ignored",
          "traceback": [
            "\u001b[0;31m---------------------------------------------------------------------------\u001b[0m",
            "\u001b[0;31mTypeError\u001b[0m                                 Traceback (most recent call last)",
            "\u001b[0;32m<ipython-input-32-8734395cc88b>\u001b[0m in \u001b[0;36m<module>\u001b[0;34m()\u001b[0m\n\u001b[1;32m      3\u001b[0m                         \u001b[0mX\u001b[0m \u001b[0;34m=\u001b[0m \u001b[0mX_train\u001b[0m\u001b[0;34m,\u001b[0m\u001b[0;34m\u001b[0m\u001b[0;34m\u001b[0m\u001b[0m\n\u001b[1;32m      4\u001b[0m                         \u001b[0my\u001b[0m \u001b[0;34m=\u001b[0m \u001b[0my_train\u001b[0m\u001b[0;34m,\u001b[0m\u001b[0;34m\u001b[0m\u001b[0;34m\u001b[0m\u001b[0m\n\u001b[0;32m----> 5\u001b[0;31m                         cv=10)\n\u001b[0m\u001b[1;32m      6\u001b[0m \u001b[0;31m#scores.mean()\u001b[0m\u001b[0;34m\u001b[0m\u001b[0;34m\u001b[0m\u001b[0;34m\u001b[0m\u001b[0m\n",
            "\u001b[0;32m/usr/local/lib/python3.7/dist-packages/sklearn/model_selection/_validation.py\u001b[0m in \u001b[0;36mcross_val_score\u001b[0;34m(estimator, X, y, groups, scoring, cv, n_jobs, verbose, fit_params, pre_dispatch, error_score)\u001b[0m\n\u001b[1;32m    381\u001b[0m     \"\"\"\n\u001b[1;32m    382\u001b[0m     \u001b[0;31m# To ensure multimetric format is not supported\u001b[0m\u001b[0;34m\u001b[0m\u001b[0;34m\u001b[0m\u001b[0;34m\u001b[0m\u001b[0m\n\u001b[0;32m--> 383\u001b[0;31m     \u001b[0mscorer\u001b[0m \u001b[0;34m=\u001b[0m \u001b[0mcheck_scoring\u001b[0m\u001b[0;34m(\u001b[0m\u001b[0mestimator\u001b[0m\u001b[0;34m,\u001b[0m \u001b[0mscoring\u001b[0m\u001b[0;34m=\u001b[0m\u001b[0mscoring\u001b[0m\u001b[0;34m)\u001b[0m\u001b[0;34m\u001b[0m\u001b[0;34m\u001b[0m\u001b[0m\n\u001b[0m\u001b[1;32m    384\u001b[0m \u001b[0;34m\u001b[0m\u001b[0m\n\u001b[1;32m    385\u001b[0m     cv_results = cross_validate(estimator=estimator, X=X, y=y, groups=groups,\n",
            "\u001b[0;32m/usr/local/lib/python3.7/dist-packages/sklearn/metrics/_scorer.py\u001b[0m in \u001b[0;36mcheck_scoring\u001b[0;34m(estimator, scoring, allow_none)\u001b[0m\n\u001b[1;32m    424\u001b[0m                 \u001b[0;34m\"If no scoring is specified, the estimator passed should \"\u001b[0m\u001b[0;34m\u001b[0m\u001b[0;34m\u001b[0m\u001b[0m\n\u001b[1;32m    425\u001b[0m                 \u001b[0;34m\"have a 'score' method. The estimator %r does not.\"\u001b[0m\u001b[0;34m\u001b[0m\u001b[0;34m\u001b[0m\u001b[0m\n\u001b[0;32m--> 426\u001b[0;31m                 % estimator)\n\u001b[0m\u001b[1;32m    427\u001b[0m     \u001b[0;32melif\u001b[0m \u001b[0misinstance\u001b[0m\u001b[0;34m(\u001b[0m\u001b[0mscoring\u001b[0m\u001b[0;34m,\u001b[0m \u001b[0mIterable\u001b[0m\u001b[0;34m)\u001b[0m\u001b[0;34m:\u001b[0m\u001b[0;34m\u001b[0m\u001b[0;34m\u001b[0m\u001b[0m\n\u001b[1;32m    428\u001b[0m         raise ValueError(\"For evaluating multiple scores, use \"\n",
            "\u001b[0;31mTypeError\u001b[0m: If no scoring is specified, the estimator passed should have a 'score' method. The estimator <keras.engine.sequential.Sequential object at 0x7f8bebac93d0> does not."
          ]
        }
      ]
    },
    {
      "cell_type": "code",
      "metadata": {
        "id": "Ki4asHH_uVbj"
      },
      "source": [
        "y_test_ann  = classifier.predict(X_test)\n",
        "y_train_ann = classifier.predict(X_train)"
      ],
      "execution_count": null,
      "outputs": []
    },
    {
      "cell_type": "code",
      "metadata": {
        "id": "HB-5m9MEuVbj",
        "colab": {
          "base_uri": "https://localhost:8080/"
        },
        "outputId": "840b1d31-4ba9-4dd3-e2f0-09044084c231"
      },
      "source": [
        "acc_train_ann = classifier.evaluate(X_train,y_train)[1]\n",
        "acc_test_ann = classifier.evaluate(X_test,y_test)[1]\n",
        "\n",
        "print('\\nANN: Accuracy on training Data: {:.3f}' .format(acc_train_ann))\n",
        "print('ANN: Accuracy on test Data: {:.3f}' .format(acc_test_ann))"
      ],
      "execution_count": null,
      "outputs": [
        {
          "output_type": "stream",
          "name": "stdout",
          "text": [
            "153/153 [==============================] - 0s 993us/step - loss: 0.2677 - accuracy: 0.8915\n",
            "39/39 [==============================] - 0s 1ms/step - loss: 0.2438 - accuracy: 0.9052\n",
            "\n",
            "ANN: Accuracy on training Data: 0.891\n",
            "ANN: Accuracy on test Data: 0.905\n"
          ]
        }
      ]
    },
    {
      "cell_type": "markdown",
      "metadata": {
        "id": "_xfg5GeCuVbj"
      },
      "source": [
        "Storing the results"
      ]
    },
    {
      "cell_type": "code",
      "metadata": {
        "id": "LhVeiqiHuVbj"
      },
      "source": [
        "#storing the results. The below mentioned order of parameter passing is important.\n",
        "#Caution: Execute only once to avoid duplications.\n",
        "storeResults('ANN', acc_train_ann, acc_test_ann)"
      ],
      "execution_count": null,
      "outputs": []
    },
    {
      "cell_type": "markdown",
      "metadata": {
        "id": "YLzdomtHnKpT"
      },
      "source": [
        "# **Classifier: Convolutional Neural Network**\n"
      ]
    },
    {
      "cell_type": "code",
      "metadata": {
        "id": "e8dJeFSzuVbj",
        "colab": {
          "base_uri": "https://localhost:8080/",
          "height": 219
        },
        "outputId": "42cc2509-bc73-4386-e5f4-6d3322e43281"
      },
      "source": [
        "from numpy import ndarray\n",
        "X_train = X_train.to_numpy()\n",
        "X_test = X_test.to_numpy()\n",
        "y_train = y_train.to_numpy()\n",
        "y_test = y_test.to_numpy()"
      ],
      "execution_count": null,
      "outputs": [
        {
          "output_type": "error",
          "ename": "AttributeError",
          "evalue": "ignored",
          "traceback": [
            "\u001b[0;31m---------------------------------------------------------------------------\u001b[0m",
            "\u001b[0;31mAttributeError\u001b[0m                            Traceback (most recent call last)",
            "\u001b[0;32m<ipython-input-35-8d4a889138af>\u001b[0m in \u001b[0;36m<module>\u001b[0;34m()\u001b[0m\n\u001b[1;32m      2\u001b[0m \u001b[0mX_train\u001b[0m \u001b[0;34m=\u001b[0m \u001b[0mX_train\u001b[0m\u001b[0;34m.\u001b[0m\u001b[0mto_numpy\u001b[0m\u001b[0;34m(\u001b[0m\u001b[0;34m)\u001b[0m\u001b[0;34m\u001b[0m\u001b[0;34m\u001b[0m\u001b[0m\n\u001b[1;32m      3\u001b[0m \u001b[0mX_test\u001b[0m \u001b[0;34m=\u001b[0m \u001b[0mX_test\u001b[0m\u001b[0;34m.\u001b[0m\u001b[0mto_numpy\u001b[0m\u001b[0;34m(\u001b[0m\u001b[0;34m)\u001b[0m\u001b[0;34m\u001b[0m\u001b[0;34m\u001b[0m\u001b[0m\n\u001b[0;32m----> 4\u001b[0;31m \u001b[0my_train\u001b[0m \u001b[0;34m=\u001b[0m \u001b[0my_train\u001b[0m\u001b[0;34m.\u001b[0m\u001b[0mto_numpy\u001b[0m\u001b[0;34m(\u001b[0m\u001b[0;34m)\u001b[0m\u001b[0;34m\u001b[0m\u001b[0;34m\u001b[0m\u001b[0m\n\u001b[0m\u001b[1;32m      5\u001b[0m \u001b[0my_test\u001b[0m \u001b[0;34m=\u001b[0m \u001b[0my_test\u001b[0m\u001b[0;34m.\u001b[0m\u001b[0mto_numpy\u001b[0m\u001b[0;34m(\u001b[0m\u001b[0;34m)\u001b[0m\u001b[0;34m\u001b[0m\u001b[0;34m\u001b[0m\u001b[0m\n",
            "\u001b[0;31mAttributeError\u001b[0m: 'numpy.ndarray' object has no attribute 'to_numpy'"
          ]
        }
      ]
    },
    {
      "cell_type": "code",
      "metadata": {
        "id": "RADCM2wvnNfC"
      },
      "source": [
        "#importing required packages\n",
        "import keras\n",
        "from keras.layers import Input, Dense\n",
        "from keras import regularizers\n",
        "import tensorflow as tf\n",
        "from keras.models import Model\n",
        "from sklearn import metrics"
      ],
      "execution_count": null,
      "outputs": []
    },
    {
      "cell_type": "code",
      "metadata": {
        "id": "052R7QOQuVbk"
      },
      "source": [
        "from tensorflow import keras\n",
        "from tensorflow.keras import Sequential\n",
        "from tensorflow.keras.layers import Flatten,Dense,Dropout,BatchNormalization\n",
        "from tensorflow.keras.layers import Conv1D,MaxPool1D\n",
        "from tensorflow.keras.optimizers import Adam"
      ],
      "execution_count": null,
      "outputs": []
    },
    {
      "cell_type": "code",
      "metadata": {
        "id": "kY_GxNEiuVbk",
        "colab": {
          "base_uri": "https://localhost:8080/"
        },
        "outputId": "0430956e-16c9-4289-b1f2-3299c0006ebf"
      },
      "source": [
        "X_train = X_train.reshape(X_train.shape[0],X_train.shape[1],1)\n",
        "X_test = X_test.reshape(X_test.shape[0],X_test.shape[1],1)\n",
        "\n",
        "\n",
        "epoch = 20\n",
        "model = Sequential()\n",
        "model.add(Conv1D(32,2,activation='relu',input_shape = X_train[0].shape))\n",
        "model.add(BatchNormalization())\n",
        "model.add(Dropout(0.2))\n",
        "\n",
        "model.add(Conv1D(64,2,activation='relu'))\n",
        "model.add(BatchNormalization())\n",
        "model.add(Dropout(0.5))\n",
        "\n",
        "model.add(Flatten())\n",
        "model.add(Dense(64,activation='relu'))\n",
        "model.add(Dropout(0.5))\n",
        "\n",
        "model.add(Dense(1,activation='sigmoid'))\n",
        "\n",
        "model.summary()\n",
        "\n",
        "model.compile(optimizer=Adam(lr=0.0001), loss = 'binary_crossentropy', metrics=['accuracy'])"
      ],
      "execution_count": null,
      "outputs": [
        {
          "output_type": "stream",
          "name": "stdout",
          "text": [
            "Model: \"sequential_3\"\n",
            "_________________________________________________________________\n",
            "Layer (type)                 Output Shape              Param #   \n",
            "=================================================================\n",
            "conv1d (Conv1D)              (None, 35, 32)            96        \n",
            "_________________________________________________________________\n",
            "batch_normalization (BatchNo (None, 35, 32)            128       \n",
            "_________________________________________________________________\n",
            "dropout (Dropout)            (None, 35, 32)            0         \n",
            "_________________________________________________________________\n",
            "conv1d_1 (Conv1D)            (None, 34, 64)            4160      \n",
            "_________________________________________________________________\n",
            "batch_normalization_1 (Batch (None, 34, 64)            256       \n",
            "_________________________________________________________________\n",
            "dropout_1 (Dropout)          (None, 34, 64)            0         \n",
            "_________________________________________________________________\n",
            "flatten (Flatten)            (None, 2176)              0         \n",
            "_________________________________________________________________\n",
            "dense_10 (Dense)             (None, 64)                139328    \n",
            "_________________________________________________________________\n",
            "dropout_2 (Dropout)          (None, 64)                0         \n",
            "_________________________________________________________________\n",
            "dense_11 (Dense)             (None, 1)                 65        \n",
            "=================================================================\n",
            "Total params: 144,033\n",
            "Trainable params: 143,841\n",
            "Non-trainable params: 192\n",
            "_________________________________________________________________\n"
          ]
        },
        {
          "output_type": "stream",
          "name": "stderr",
          "text": [
            "/usr/local/lib/python3.7/dist-packages/keras/optimizer_v2/optimizer_v2.py:356: UserWarning: The `lr` argument is deprecated, use `learning_rate` instead.\n",
            "  \"The `lr` argument is deprecated, use `learning_rate` instead.\")\n"
          ]
        }
      ]
    },
    {
      "cell_type": "code",
      "metadata": {
        "id": "Rz4rpj_PuVbn",
        "colab": {
          "base_uri": "https://localhost:8080/"
        },
        "outputId": "b9c2738f-e26a-4866-a190-277d3f2f3e35"
      },
      "source": [
        "# X_train = X_train.reshape(X_train.shape[0],X_train.shape[1],1)\n",
        "# X_test = X_test.reshape(X_test.shape[0],X_test.shape[1],1)\n",
        "epoch = 20\n",
        "model = Sequential()\n",
        "model.add(Conv1D(32,2,activation='relu',input_shape = X_train[0].shape))\n",
        "model.add(BatchNormalization())\n",
        "model.add(Dropout(0.2))\n",
        "\n",
        "model.add(Conv1D(64,2,activation='relu'))\n",
        "model.add(BatchNormalization())\n",
        "model.add(Dropout(0.5))\n",
        "\n",
        "model.add(Flatten())\n",
        "model.add(Dense(64,activation='relu'))\n",
        "model.add(Dropout(0.5))\n",
        "\n",
        "model.add(Dense(1,activation='sigmoid'))\n",
        "\n",
        "#model.summary()\n",
        "\n",
        "model.compile(optimizer=Adam(lr=0.0001), loss = 'binary_crossentropy', metrics=['accuracy'])\n"
      ],
      "execution_count": null,
      "outputs": [
        {
          "output_type": "stream",
          "name": "stderr",
          "text": [
            "/usr/local/lib/python3.7/dist-packages/keras/optimizer_v2/optimizer_v2.py:356: UserWarning: The `lr` argument is deprecated, use `learning_rate` instead.\n",
            "  \"The `lr` argument is deprecated, use `learning_rate` instead.\")\n"
          ]
        }
      ]
    },
    {
      "cell_type": "code",
      "metadata": {
        "id": "1XP21UY6uVbn",
        "colab": {
          "base_uri": "https://localhost:8080/"
        },
        "outputId": "2dedb0af-f484-4491-ea71-e2c5ef2a0e09"
      },
      "source": [
        "start_time = time.time()\n",
        "history = model.fit(X_train, y_train, epochs=epoch, validation_data=(X_test, y_test), verbose=1)\n",
        "print(\"--- %s seconds ----\" %(time.time() - start_time ))\n",
        "# classifier = KerasClassifier(build_fn= CNN_builder,\n",
        "#                              batch_size = 10,\n",
        "#                              nb_epoch = 100)\n"
      ],
      "execution_count": null,
      "outputs": [
        {
          "output_type": "stream",
          "name": "stdout",
          "text": [
            "Epoch 1/20\n",
            "153/153 [==============================] - 2s 10ms/step - loss: 0.7376 - accuracy: 0.6684 - val_loss: 0.6455 - val_accuracy: 0.5335\n",
            "Epoch 2/20\n",
            "153/153 [==============================] - 1s 8ms/step - loss: 0.4576 - accuracy: 0.8277 - val_loss: 0.5493 - val_accuracy: 0.8480\n",
            "Epoch 3/20\n",
            "153/153 [==============================] - 1s 9ms/step - loss: 0.3665 - accuracy: 0.8704 - val_loss: 0.3751 - val_accuracy: 0.8799\n",
            "Epoch 4/20\n",
            "153/153 [==============================] - 1s 8ms/step - loss: 0.3207 - accuracy: 0.8812 - val_loss: 0.2473 - val_accuracy: 0.9126\n",
            "Epoch 5/20\n",
            "153/153 [==============================] - 1s 8ms/step - loss: 0.3018 - accuracy: 0.8925 - val_loss: 0.2050 - val_accuracy: 0.9232\n",
            "Epoch 6/20\n",
            "153/153 [==============================] - 1s 9ms/step - loss: 0.2893 - accuracy: 0.8937 - val_loss: 0.1917 - val_accuracy: 0.9322\n",
            "Epoch 7/20\n",
            "153/153 [==============================] - 1s 8ms/step - loss: 0.2764 - accuracy: 0.9019 - val_loss: 0.1854 - val_accuracy: 0.9363\n",
            "Epoch 8/20\n",
            "153/153 [==============================] - 1s 8ms/step - loss: 0.2519 - accuracy: 0.9033 - val_loss: 0.1806 - val_accuracy: 0.9322\n",
            "Epoch 9/20\n",
            "153/153 [==============================] - 1s 8ms/step - loss: 0.2447 - accuracy: 0.9023 - val_loss: 0.1761 - val_accuracy: 0.9379\n",
            "Epoch 10/20\n",
            "153/153 [==============================] - 1s 9ms/step - loss: 0.2684 - accuracy: 0.8986 - val_loss: 0.1803 - val_accuracy: 0.9395\n",
            "Epoch 11/20\n",
            "153/153 [==============================] - 1s 8ms/step - loss: 0.2450 - accuracy: 0.9090 - val_loss: 0.1845 - val_accuracy: 0.9371\n",
            "Epoch 12/20\n",
            "153/153 [==============================] - 1s 8ms/step - loss: 0.2365 - accuracy: 0.9090 - val_loss: 0.1728 - val_accuracy: 0.9387\n",
            "Epoch 13/20\n",
            "153/153 [==============================] - 1s 9ms/step - loss: 0.2425 - accuracy: 0.9086 - val_loss: 0.1765 - val_accuracy: 0.9412\n",
            "Epoch 14/20\n",
            "153/153 [==============================] - 1s 8ms/step - loss: 0.2321 - accuracy: 0.9078 - val_loss: 0.1773 - val_accuracy: 0.9379\n",
            "Epoch 15/20\n",
            "153/153 [==============================] - 1s 8ms/step - loss: 0.2337 - accuracy: 0.9148 - val_loss: 0.1718 - val_accuracy: 0.9395\n",
            "Epoch 16/20\n",
            "153/153 [==============================] - 1s 8ms/step - loss: 0.2231 - accuracy: 0.9176 - val_loss: 0.1701 - val_accuracy: 0.9461\n",
            "Epoch 17/20\n",
            "153/153 [==============================] - 1s 9ms/step - loss: 0.2202 - accuracy: 0.9158 - val_loss: 0.1710 - val_accuracy: 0.9436\n",
            "Epoch 18/20\n",
            "153/153 [==============================] - 1s 8ms/step - loss: 0.2223 - accuracy: 0.9152 - val_loss: 0.1624 - val_accuracy: 0.9428\n",
            "Epoch 19/20\n",
            "153/153 [==============================] - 1s 8ms/step - loss: 0.2158 - accuracy: 0.9191 - val_loss: 0.1625 - val_accuracy: 0.9436\n",
            "Epoch 20/20\n",
            "153/153 [==============================] - 1s 9ms/step - loss: 0.2185 - accuracy: 0.9180 - val_loss: 0.1594 - val_accuracy: 0.9469\n",
            "--- 27.088985919952393 seconds ----\n"
          ]
        }
      ]
    },
    {
      "cell_type": "markdown",
      "metadata": {
        "id": "teVtBMsmuVbn"
      },
      "source": [
        "Performance evaluation"
      ]
    },
    {
      "cell_type": "code",
      "metadata": {
        "id": "0Nx0UyFguVbn",
        "colab": {
          "base_uri": "https://localhost:8080/"
        },
        "outputId": "41a3738c-7af7-41b5-b95c-a57b513e481c"
      },
      "source": [
        "acc_train_cnn = scores.mean()\n",
        "acc_test_cnn = model.evaluate(X_test, y_test)[1]\n",
        "\n",
        "print('\\nCNN: Accuracy on training Data: {:.3f}' .format(acc_train_cnn))\n",
        "print('CNN: Accuracy on test Data: {:.3f}' .format(acc_test_cnn))"
      ],
      "execution_count": null,
      "outputs": [
        {
          "output_type": "stream",
          "name": "stdout",
          "text": [
            "39/39 [==============================] - 0s 2ms/step - loss: 0.1594 - accuracy: 0.9469\n",
            "\n",
            "CNN: Accuracy on training Data: 0.972\n",
            "CNN: Accuracy on test Data: 0.947\n"
          ]
        }
      ]
    },
    {
      "cell_type": "markdown",
      "metadata": {
        "id": "IUauqAXruVbo"
      },
      "source": [
        "Storing the results"
      ]
    },
    {
      "cell_type": "code",
      "metadata": {
        "id": "rbVTraySuVbo"
      },
      "source": [
        "#storing the results. The below mentioned order of parameter passing is important.\n",
        "#Caution: Execute only once to avoid duplications.\n",
        "storeResults('CNN', acc_train_cnn, acc_test_cnn)"
      ],
      "execution_count": null,
      "outputs": []
    },
    {
      "cell_type": "markdown",
      "metadata": {
        "id": "LmCMvOa1uVbo"
      },
      "source": [
        "# Performance Comparison"
      ]
    },
    {
      "cell_type": "code",
      "metadata": {
        "id": "gOivpuwyuVbo",
        "colab": {
          "base_uri": "https://localhost:8080/",
          "height": 207
        },
        "outputId": "b4c785ed-326c-45f6-817d-2a6a38933355"
      },
      "source": [
        "#creating dataframe\n",
        "results = pd.DataFrame({ 'ML Model': ML_Model,    \n",
        "    'Train Accuracy': acc_train,\n",
        "    'Test Accuracy': acc_test})\n",
        "results"
      ],
      "execution_count": null,
      "outputs": [
        {
          "output_type": "execute_result",
          "data": {
            "text/html": [
              "<div>\n",
              "<style scoped>\n",
              "    .dataframe tbody tr th:only-of-type {\n",
              "        vertical-align: middle;\n",
              "    }\n",
              "\n",
              "    .dataframe tbody tr th {\n",
              "        vertical-align: top;\n",
              "    }\n",
              "\n",
              "    .dataframe thead th {\n",
              "        text-align: right;\n",
              "    }\n",
              "</style>\n",
              "<table border=\"1\" class=\"dataframe\">\n",
              "  <thead>\n",
              "    <tr style=\"text-align: right;\">\n",
              "      <th></th>\n",
              "      <th>ML Model</th>\n",
              "      <th>Train Accuracy</th>\n",
              "      <th>Test Accuracy</th>\n",
              "    </tr>\n",
              "  </thead>\n",
              "  <tbody>\n",
              "    <tr>\n",
              "      <th>0</th>\n",
              "      <td>Decision Tree</td>\n",
              "      <td>0.949</td>\n",
              "      <td>0.961</td>\n",
              "    </tr>\n",
              "    <tr>\n",
              "      <th>1</th>\n",
              "      <td>Random Forest</td>\n",
              "      <td>0.962</td>\n",
              "      <td>0.977</td>\n",
              "    </tr>\n",
              "    <tr>\n",
              "      <th>2</th>\n",
              "      <td>XGBoost</td>\n",
              "      <td>0.972</td>\n",
              "      <td>0.984</td>\n",
              "    </tr>\n",
              "    <tr>\n",
              "      <th>3</th>\n",
              "      <td>ANN</td>\n",
              "      <td>0.891</td>\n",
              "      <td>0.905</td>\n",
              "    </tr>\n",
              "    <tr>\n",
              "      <th>4</th>\n",
              "      <td>CNN</td>\n",
              "      <td>0.972</td>\n",
              "      <td>0.947</td>\n",
              "    </tr>\n",
              "  </tbody>\n",
              "</table>\n",
              "</div>"
            ],
            "text/plain": [
              "        ML Model  Train Accuracy  Test Accuracy\n",
              "0  Decision Tree           0.949          0.961\n",
              "1  Random Forest           0.962          0.977\n",
              "2        XGBoost           0.972          0.984\n",
              "3            ANN           0.891          0.905\n",
              "4            CNN           0.972          0.947"
            ]
          },
          "metadata": {},
          "execution_count": 43
        }
      ]
    },
    {
      "cell_type": "code",
      "metadata": {
        "id": "pxL95O0EuVbo",
        "colab": {
          "base_uri": "https://localhost:8080/",
          "height": 207
        },
        "outputId": "33823d60-2b28-443b-d19b-b027ef9459a0"
      },
      "source": [
        "#Sorting the datafram on accuracy\n",
        "results.sort_values(by=['Test Accuracy', 'Train Accuracy'], ascending=False)"
      ],
      "execution_count": null,
      "outputs": [
        {
          "output_type": "execute_result",
          "data": {
            "text/html": [
              "<div>\n",
              "<style scoped>\n",
              "    .dataframe tbody tr th:only-of-type {\n",
              "        vertical-align: middle;\n",
              "    }\n",
              "\n",
              "    .dataframe tbody tr th {\n",
              "        vertical-align: top;\n",
              "    }\n",
              "\n",
              "    .dataframe thead th {\n",
              "        text-align: right;\n",
              "    }\n",
              "</style>\n",
              "<table border=\"1\" class=\"dataframe\">\n",
              "  <thead>\n",
              "    <tr style=\"text-align: right;\">\n",
              "      <th></th>\n",
              "      <th>ML Model</th>\n",
              "      <th>Train Accuracy</th>\n",
              "      <th>Test Accuracy</th>\n",
              "    </tr>\n",
              "  </thead>\n",
              "  <tbody>\n",
              "    <tr>\n",
              "      <th>2</th>\n",
              "      <td>XGBoost</td>\n",
              "      <td>0.972</td>\n",
              "      <td>0.984</td>\n",
              "    </tr>\n",
              "    <tr>\n",
              "      <th>1</th>\n",
              "      <td>Random Forest</td>\n",
              "      <td>0.962</td>\n",
              "      <td>0.977</td>\n",
              "    </tr>\n",
              "    <tr>\n",
              "      <th>0</th>\n",
              "      <td>Decision Tree</td>\n",
              "      <td>0.949</td>\n",
              "      <td>0.961</td>\n",
              "    </tr>\n",
              "    <tr>\n",
              "      <th>4</th>\n",
              "      <td>CNN</td>\n",
              "      <td>0.972</td>\n",
              "      <td>0.947</td>\n",
              "    </tr>\n",
              "    <tr>\n",
              "      <th>3</th>\n",
              "      <td>ANN</td>\n",
              "      <td>0.891</td>\n",
              "      <td>0.905</td>\n",
              "    </tr>\n",
              "  </tbody>\n",
              "</table>\n",
              "</div>"
            ],
            "text/plain": [
              "        ML Model  Train Accuracy  Test Accuracy\n",
              "2        XGBoost           0.972          0.984\n",
              "1  Random Forest           0.962          0.977\n",
              "0  Decision Tree           0.949          0.961\n",
              "4            CNN           0.972          0.947\n",
              "3            ANN           0.891          0.905"
            ]
          },
          "metadata": {},
          "execution_count": 44
        }
      ]
    },
    {
      "cell_type": "code",
      "metadata": {
        "id": "7WskwuXiTQb3"
      },
      "source": [
        "# # Save model\n",
        "# model.save(\"CNN-Antiphishing\")"
      ],
      "execution_count": null,
      "outputs": []
    }
  ]
}