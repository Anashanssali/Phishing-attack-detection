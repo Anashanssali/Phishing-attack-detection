{
  "nbformat": 4,
  "nbformat_minor": 0,
  "metadata": {
    "colab": {
      "name": "pfeDataset2.ipynb",
      "provenance": [],
      "collapsed_sections": []
    },
    "kernelspec": {
      "name": "python3",
      "display_name": "Python 3"
    },
    "language_info": {
      "name": "python"
    }
  },
  "cells": [
    {
      "cell_type": "code",
      "metadata": {
        "id": "SjGTTsz-04tj"
      },
      "source": [
        "import os\n",
        "import pprint as pp\n",
        "import pandas as pd\n",
        "import numpy as np\n",
        "import matplotlib.pyplot as plt\n",
        "import re\n",
        "import csv\n",
        "import glob\n",
        "import hashlib\n",
        "import sys\n",
        "import struct\n",
        "from sklearn import model_selection\n",
        "from sklearn.metrics import classification_report\n",
        "from sklearn.metrics import confusion_matrix\n",
        "from sklearn.metrics import accuracy_score\n",
        "from sklearn.linear_model import LogisticRegression\n",
        "from sklearn.tree import DecisionTreeClassifier\n",
        "from sklearn.neighbors import KNeighborsClassifier\n",
        "from sklearn.discriminant_analysis import LinearDiscriminantAnalysis\n",
        "from sklearn.naive_bayes import GaussianNB\n",
        "from sklearn.svm import SVC"
      ],
      "execution_count": null,
      "outputs": []
    },
    {
      "cell_type": "code",
      "metadata": {
        "colab": {
          "base_uri": "https://localhost:8080/"
        },
        "id": "i2rb7tWSOWVJ",
        "outputId": "ef695a70-4cb2-48d6-de5b-c63a295a687a"
      },
      "source": [
        "from google.colab import drive\n",
        "drive.mount('/content/drive')"
      ],
      "execution_count": null,
      "outputs": [
        {
          "output_type": "stream",
          "name": "stdout",
          "text": [
            "Mounted at /content/drive\n"
          ]
        }
      ]
    },
    {
      "cell_type": "code",
      "metadata": {
        "id": "2RDrMPFOOmzV"
      },
      "source": [
        "# Importing the dataset\n",
        "from sklearn.model_selection import train_test_split\n",
        "dataset = pd.read_csv('/content/drive/MyDrive/PfePhishing/2A novel approach for phishing URLs detection using lexical based machine learning in a real-time environmen/dataset.csv')"
      ],
      "execution_count": null,
      "outputs": []
    },
    {
      "cell_type": "code",
      "metadata": {
        "colab": {
          "base_uri": "https://localhost:8080/",
          "height": 243
        },
        "id": "FNoxiyJdO1mq",
        "outputId": "bad1486e-2c3b-4eb0-b830-4479bd8d89f4"
      },
      "source": [
        "dataset.head()"
      ],
      "execution_count": null,
      "outputs": [
        {
          "output_type": "execute_result",
          "data": {
            "text/html": [
              "<div>\n",
              "<style scoped>\n",
              "    .dataframe tbody tr th:only-of-type {\n",
              "        vertical-align: middle;\n",
              "    }\n",
              "\n",
              "    .dataframe tbody tr th {\n",
              "        vertical-align: top;\n",
              "    }\n",
              "\n",
              "    .dataframe thead th {\n",
              "        text-align: right;\n",
              "    }\n",
              "</style>\n",
              "<table border=\"1\" class=\"dataframe\">\n",
              "  <thead>\n",
              "    <tr style=\"text-align: right;\">\n",
              "      <th></th>\n",
              "      <th>Querylength</th>\n",
              "      <th>domain_token_count</th>\n",
              "      <th>path_token_count</th>\n",
              "      <th>avgdomaintokenlen</th>\n",
              "      <th>longdomaintokenlen</th>\n",
              "      <th>avgpathtokenlen</th>\n",
              "      <th>tld</th>\n",
              "      <th>charcompvowels</th>\n",
              "      <th>charcompace</th>\n",
              "      <th>ldl_url</th>\n",
              "      <th>ldl_domain</th>\n",
              "      <th>ldl_path</th>\n",
              "      <th>ldl_filename</th>\n",
              "      <th>ldl_getArg</th>\n",
              "      <th>dld_url</th>\n",
              "      <th>dld_domain</th>\n",
              "      <th>dld_path</th>\n",
              "      <th>dld_filename</th>\n",
              "      <th>dld_getArg</th>\n",
              "      <th>urlLen</th>\n",
              "      <th>domainlength</th>\n",
              "      <th>pathLength</th>\n",
              "      <th>subDirLen</th>\n",
              "      <th>fileNameLen</th>\n",
              "      <th>this.fileExtLen</th>\n",
              "      <th>ArgLen</th>\n",
              "      <th>pathurlRatio</th>\n",
              "      <th>ArgUrlRatio</th>\n",
              "      <th>argDomanRatio</th>\n",
              "      <th>domainUrlRatio</th>\n",
              "      <th>pathDomainRatio</th>\n",
              "      <th>argPathRatio</th>\n",
              "      <th>executable</th>\n",
              "      <th>isPortEighty</th>\n",
              "      <th>NumberofDotsinURL</th>\n",
              "      <th>ISIpAddressInDomainName</th>\n",
              "      <th>CharacterContinuityRate</th>\n",
              "      <th>LongestVariableValue</th>\n",
              "      <th>URL_DigitCount</th>\n",
              "      <th>host_DigitCount</th>\n",
              "      <th>Directory_DigitCount</th>\n",
              "      <th>File_name_DigitCount</th>\n",
              "      <th>Extension_DigitCount</th>\n",
              "      <th>Query_DigitCount</th>\n",
              "      <th>URL_Letter_Count</th>\n",
              "      <th>host_letter_count</th>\n",
              "      <th>Directory_LetterCount</th>\n",
              "      <th>Filename_LetterCount</th>\n",
              "      <th>Extension_LetterCount</th>\n",
              "      <th>Query_LetterCount</th>\n",
              "      <th>LongestPathTokenLength</th>\n",
              "      <th>Domain_LongestWordLength</th>\n",
              "      <th>Path_LongestWordLength</th>\n",
              "      <th>sub-Directory_LongestWordLength</th>\n",
              "      <th>Arguments_LongestWordLength</th>\n",
              "      <th>URL_sensitiveWord</th>\n",
              "      <th>URLQueries_variable</th>\n",
              "      <th>spcharUrl</th>\n",
              "      <th>delimeter_Domain</th>\n",
              "      <th>delimeter_path</th>\n",
              "      <th>delimeter_Count</th>\n",
              "      <th>NumberRate_URL</th>\n",
              "      <th>NumberRate_Domain</th>\n",
              "      <th>NumberRate_DirectoryName</th>\n",
              "      <th>NumberRate_FileName</th>\n",
              "      <th>NumberRate_Extension</th>\n",
              "      <th>NumberRate_AfterPath</th>\n",
              "      <th>SymbolCount_URL</th>\n",
              "      <th>SymbolCount_Domain</th>\n",
              "      <th>SymbolCount_Directoryname</th>\n",
              "      <th>SymbolCount_FileName</th>\n",
              "      <th>SymbolCount_Extension</th>\n",
              "      <th>SymbolCount_Afterpath</th>\n",
              "      <th>Entropy_URL</th>\n",
              "      <th>Entropy_Domain</th>\n",
              "      <th>Entropy_DirectoryName</th>\n",
              "      <th>Entropy_Filename</th>\n",
              "      <th>Entropy_Extension</th>\n",
              "      <th>Entropy_Afterpath</th>\n",
              "      <th>URL_Type_obf_Type</th>\n",
              "    </tr>\n",
              "  </thead>\n",
              "  <tbody>\n",
              "    <tr>\n",
              "      <th>0</th>\n",
              "      <td>0</td>\n",
              "      <td>2</td>\n",
              "      <td>12</td>\n",
              "      <td>5.5</td>\n",
              "      <td>8</td>\n",
              "      <td>4.083334</td>\n",
              "      <td>2</td>\n",
              "      <td>15</td>\n",
              "      <td>7</td>\n",
              "      <td>0</td>\n",
              "      <td>0</td>\n",
              "      <td>0</td>\n",
              "      <td>0</td>\n",
              "      <td>0</td>\n",
              "      <td>0</td>\n",
              "      <td>0</td>\n",
              "      <td>0</td>\n",
              "      <td>0</td>\n",
              "      <td>0</td>\n",
              "      <td>80</td>\n",
              "      <td>12</td>\n",
              "      <td>61</td>\n",
              "      <td>61</td>\n",
              "      <td>2</td>\n",
              "      <td>2</td>\n",
              "      <td>2</td>\n",
              "      <td>0.762500</td>\n",
              "      <td>0.025000</td>\n",
              "      <td>0.166667</td>\n",
              "      <td>0.150000</td>\n",
              "      <td>5.083334</td>\n",
              "      <td>0.032787</td>\n",
              "      <td>0</td>\n",
              "      <td>-1</td>\n",
              "      <td>1</td>\n",
              "      <td>-1</td>\n",
              "      <td>0.750000</td>\n",
              "      <td>-1</td>\n",
              "      <td>10</td>\n",
              "      <td>0</td>\n",
              "      <td>6</td>\n",
              "      <td>2</td>\n",
              "      <td>2</td>\n",
              "      <td>-1</td>\n",
              "      <td>54</td>\n",
              "      <td>11</td>\n",
              "      <td>0</td>\n",
              "      <td>0</td>\n",
              "      <td>39</td>\n",
              "      <td>-1</td>\n",
              "      <td>48</td>\n",
              "      <td>8</td>\n",
              "      <td>8</td>\n",
              "      <td>8</td>\n",
              "      <td>-1</td>\n",
              "      <td>0</td>\n",
              "      <td>0</td>\n",
              "      <td>5</td>\n",
              "      <td>0</td>\n",
              "      <td>7</td>\n",
              "      <td>-1</td>\n",
              "      <td>0.125000</td>\n",
              "      <td>0.0</td>\n",
              "      <td>-1.000000</td>\n",
              "      <td>-1.000000</td>\n",
              "      <td>-1.000000</td>\n",
              "      <td>-1.000000</td>\n",
              "      <td>6</td>\n",
              "      <td>1</td>\n",
              "      <td>-1</td>\n",
              "      <td>-1</td>\n",
              "      <td>-1</td>\n",
              "      <td>-1</td>\n",
              "      <td>0.676804</td>\n",
              "      <td>0.860529</td>\n",
              "      <td>-1.000000</td>\n",
              "      <td>-1.000000</td>\n",
              "      <td>-1.00000</td>\n",
              "      <td>-1.000000</td>\n",
              "      <td>benign</td>\n",
              "    </tr>\n",
              "    <tr>\n",
              "      <th>1</th>\n",
              "      <td>0</td>\n",
              "      <td>3</td>\n",
              "      <td>12</td>\n",
              "      <td>5.0</td>\n",
              "      <td>10</td>\n",
              "      <td>3.583333</td>\n",
              "      <td>3</td>\n",
              "      <td>12</td>\n",
              "      <td>8</td>\n",
              "      <td>2</td>\n",
              "      <td>0</td>\n",
              "      <td>2</td>\n",
              "      <td>2</td>\n",
              "      <td>0</td>\n",
              "      <td>0</td>\n",
              "      <td>0</td>\n",
              "      <td>0</td>\n",
              "      <td>0</td>\n",
              "      <td>0</td>\n",
              "      <td>78</td>\n",
              "      <td>17</td>\n",
              "      <td>54</td>\n",
              "      <td>54</td>\n",
              "      <td>40</td>\n",
              "      <td>4</td>\n",
              "      <td>2</td>\n",
              "      <td>0.692308</td>\n",
              "      <td>0.025641</td>\n",
              "      <td>0.117647</td>\n",
              "      <td>0.217949</td>\n",
              "      <td>3.176471</td>\n",
              "      <td>0.037037</td>\n",
              "      <td>0</td>\n",
              "      <td>-1</td>\n",
              "      <td>3</td>\n",
              "      <td>-1</td>\n",
              "      <td>0.647059</td>\n",
              "      <td>-1</td>\n",
              "      <td>8</td>\n",
              "      <td>0</td>\n",
              "      <td>6</td>\n",
              "      <td>2</td>\n",
              "      <td>0</td>\n",
              "      <td>-1</td>\n",
              "      <td>54</td>\n",
              "      <td>15</td>\n",
              "      <td>0</td>\n",
              "      <td>31</td>\n",
              "      <td>4</td>\n",
              "      <td>-1</td>\n",
              "      <td>40</td>\n",
              "      <td>10</td>\n",
              "      <td>8</td>\n",
              "      <td>7</td>\n",
              "      <td>-1</td>\n",
              "      <td>0</td>\n",
              "      <td>0</td>\n",
              "      <td>4</td>\n",
              "      <td>0</td>\n",
              "      <td>8</td>\n",
              "      <td>-1</td>\n",
              "      <td>0.102564</td>\n",
              "      <td>0.0</td>\n",
              "      <td>0.666667</td>\n",
              "      <td>0.044444</td>\n",
              "      <td>0.000000</td>\n",
              "      <td>-1.000000</td>\n",
              "      <td>7</td>\n",
              "      <td>2</td>\n",
              "      <td>2</td>\n",
              "      <td>1</td>\n",
              "      <td>0</td>\n",
              "      <td>-1</td>\n",
              "      <td>0.715629</td>\n",
              "      <td>0.776796</td>\n",
              "      <td>0.693127</td>\n",
              "      <td>0.738315</td>\n",
              "      <td>1.00000</td>\n",
              "      <td>-1.000000</td>\n",
              "      <td>benign</td>\n",
              "    </tr>\n",
              "    <tr>\n",
              "      <th>2</th>\n",
              "      <td>2</td>\n",
              "      <td>2</td>\n",
              "      <td>11</td>\n",
              "      <td>4.0</td>\n",
              "      <td>5</td>\n",
              "      <td>4.750000</td>\n",
              "      <td>2</td>\n",
              "      <td>16</td>\n",
              "      <td>11</td>\n",
              "      <td>0</td>\n",
              "      <td>0</td>\n",
              "      <td>0</td>\n",
              "      <td>0</td>\n",
              "      <td>0</td>\n",
              "      <td>0</td>\n",
              "      <td>0</td>\n",
              "      <td>0</td>\n",
              "      <td>0</td>\n",
              "      <td>0</td>\n",
              "      <td>71</td>\n",
              "      <td>9</td>\n",
              "      <td>54</td>\n",
              "      <td>54</td>\n",
              "      <td>2</td>\n",
              "      <td>2</td>\n",
              "      <td>7</td>\n",
              "      <td>0.760563</td>\n",
              "      <td>0.098592</td>\n",
              "      <td>0.777778</td>\n",
              "      <td>0.126761</td>\n",
              "      <td>6.000000</td>\n",
              "      <td>0.129630</td>\n",
              "      <td>0</td>\n",
              "      <td>-1</td>\n",
              "      <td>1</td>\n",
              "      <td>-1</td>\n",
              "      <td>0.666667</td>\n",
              "      <td>2</td>\n",
              "      <td>0</td>\n",
              "      <td>0</td>\n",
              "      <td>0</td>\n",
              "      <td>0</td>\n",
              "      <td>0</td>\n",
              "      <td>0</td>\n",
              "      <td>57</td>\n",
              "      <td>8</td>\n",
              "      <td>19</td>\n",
              "      <td>19</td>\n",
              "      <td>6</td>\n",
              "      <td>2</td>\n",
              "      <td>22</td>\n",
              "      <td>5</td>\n",
              "      <td>7</td>\n",
              "      <td>7</td>\n",
              "      <td>2</td>\n",
              "      <td>0</td>\n",
              "      <td>1</td>\n",
              "      <td>6</td>\n",
              "      <td>0</td>\n",
              "      <td>3</td>\n",
              "      <td>1</td>\n",
              "      <td>0.000000</td>\n",
              "      <td>0.0</td>\n",
              "      <td>0.000000</td>\n",
              "      <td>0.000000</td>\n",
              "      <td>NaN</td>\n",
              "      <td>0.000000</td>\n",
              "      <td>8</td>\n",
              "      <td>1</td>\n",
              "      <td>4</td>\n",
              "      <td>2</td>\n",
              "      <td>0</td>\n",
              "      <td>1</td>\n",
              "      <td>0.677701</td>\n",
              "      <td>1.000000</td>\n",
              "      <td>0.677704</td>\n",
              "      <td>0.916667</td>\n",
              "      <td>0.00000</td>\n",
              "      <td>0.898227</td>\n",
              "      <td>benign</td>\n",
              "    </tr>\n",
              "    <tr>\n",
              "      <th>3</th>\n",
              "      <td>0</td>\n",
              "      <td>2</td>\n",
              "      <td>7</td>\n",
              "      <td>4.5</td>\n",
              "      <td>7</td>\n",
              "      <td>5.714286</td>\n",
              "      <td>2</td>\n",
              "      <td>15</td>\n",
              "      <td>10</td>\n",
              "      <td>0</td>\n",
              "      <td>0</td>\n",
              "      <td>0</td>\n",
              "      <td>0</td>\n",
              "      <td>0</td>\n",
              "      <td>0</td>\n",
              "      <td>0</td>\n",
              "      <td>0</td>\n",
              "      <td>0</td>\n",
              "      <td>0</td>\n",
              "      <td>64</td>\n",
              "      <td>10</td>\n",
              "      <td>47</td>\n",
              "      <td>47</td>\n",
              "      <td>2</td>\n",
              "      <td>2</td>\n",
              "      <td>2</td>\n",
              "      <td>0.734375</td>\n",
              "      <td>0.031250</td>\n",
              "      <td>0.200000</td>\n",
              "      <td>0.156250</td>\n",
              "      <td>4.700000</td>\n",
              "      <td>0.042553</td>\n",
              "      <td>0</td>\n",
              "      <td>-1</td>\n",
              "      <td>1</td>\n",
              "      <td>-1</td>\n",
              "      <td>0.800000</td>\n",
              "      <td>-1</td>\n",
              "      <td>0</td>\n",
              "      <td>0</td>\n",
              "      <td>0</td>\n",
              "      <td>0</td>\n",
              "      <td>0</td>\n",
              "      <td>-1</td>\n",
              "      <td>53</td>\n",
              "      <td>9</td>\n",
              "      <td>5</td>\n",
              "      <td>5</td>\n",
              "      <td>30</td>\n",
              "      <td>-1</td>\n",
              "      <td>33</td>\n",
              "      <td>7</td>\n",
              "      <td>11</td>\n",
              "      <td>7</td>\n",
              "      <td>-1</td>\n",
              "      <td>0</td>\n",
              "      <td>0</td>\n",
              "      <td>4</td>\n",
              "      <td>0</td>\n",
              "      <td>3</td>\n",
              "      <td>-1</td>\n",
              "      <td>0.000000</td>\n",
              "      <td>0.0</td>\n",
              "      <td>0.000000</td>\n",
              "      <td>0.000000</td>\n",
              "      <td>NaN</td>\n",
              "      <td>-1.000000</td>\n",
              "      <td>5</td>\n",
              "      <td>1</td>\n",
              "      <td>2</td>\n",
              "      <td>0</td>\n",
              "      <td>0</td>\n",
              "      <td>-1</td>\n",
              "      <td>0.696067</td>\n",
              "      <td>0.879588</td>\n",
              "      <td>0.818007</td>\n",
              "      <td>0.753585</td>\n",
              "      <td>0.00000</td>\n",
              "      <td>-1.000000</td>\n",
              "      <td>benign</td>\n",
              "    </tr>\n",
              "    <tr>\n",
              "      <th>4</th>\n",
              "      <td>19</td>\n",
              "      <td>2</td>\n",
              "      <td>10</td>\n",
              "      <td>6.0</td>\n",
              "      <td>9</td>\n",
              "      <td>2.250000</td>\n",
              "      <td>2</td>\n",
              "      <td>9</td>\n",
              "      <td>5</td>\n",
              "      <td>0</td>\n",
              "      <td>0</td>\n",
              "      <td>0</td>\n",
              "      <td>0</td>\n",
              "      <td>0</td>\n",
              "      <td>0</td>\n",
              "      <td>0</td>\n",
              "      <td>0</td>\n",
              "      <td>0</td>\n",
              "      <td>0</td>\n",
              "      <td>68</td>\n",
              "      <td>13</td>\n",
              "      <td>48</td>\n",
              "      <td>48</td>\n",
              "      <td>2</td>\n",
              "      <td>2</td>\n",
              "      <td>35</td>\n",
              "      <td>0.705882</td>\n",
              "      <td>0.514706</td>\n",
              "      <td>2.692308</td>\n",
              "      <td>0.191176</td>\n",
              "      <td>3.692308</td>\n",
              "      <td>0.729167</td>\n",
              "      <td>0</td>\n",
              "      <td>-1</td>\n",
              "      <td>2</td>\n",
              "      <td>-1</td>\n",
              "      <td>0.769231</td>\n",
              "      <td>13</td>\n",
              "      <td>6</td>\n",
              "      <td>0</td>\n",
              "      <td>0</td>\n",
              "      <td>0</td>\n",
              "      <td>6</td>\n",
              "      <td>6</td>\n",
              "      <td>48</td>\n",
              "      <td>12</td>\n",
              "      <td>3</td>\n",
              "      <td>3</td>\n",
              "      <td>26</td>\n",
              "      <td>12</td>\n",
              "      <td>39</td>\n",
              "      <td>9</td>\n",
              "      <td>7</td>\n",
              "      <td>7</td>\n",
              "      <td>13</td>\n",
              "      <td>0</td>\n",
              "      <td>2</td>\n",
              "      <td>3</td>\n",
              "      <td>0</td>\n",
              "      <td>4</td>\n",
              "      <td>3</td>\n",
              "      <td>0.088235</td>\n",
              "      <td>0.0</td>\n",
              "      <td>0.000000</td>\n",
              "      <td>0.139535</td>\n",
              "      <td>0.153846</td>\n",
              "      <td>0.171429</td>\n",
              "      <td>9</td>\n",
              "      <td>1</td>\n",
              "      <td>1</td>\n",
              "      <td>5</td>\n",
              "      <td>4</td>\n",
              "      <td>3</td>\n",
              "      <td>0.747202</td>\n",
              "      <td>0.833700</td>\n",
              "      <td>0.655459</td>\n",
              "      <td>0.829535</td>\n",
              "      <td>0.83615</td>\n",
              "      <td>0.823008</td>\n",
              "      <td>benign</td>\n",
              "    </tr>\n",
              "  </tbody>\n",
              "</table>\n",
              "</div>"
            ],
            "text/plain": [
              "   Querylength  domain_token_count  ...  Entropy_Afterpath  URL_Type_obf_Type\n",
              "0            0                   2  ...          -1.000000             benign\n",
              "1            0                   3  ...          -1.000000             benign\n",
              "2            2                   2  ...           0.898227             benign\n",
              "3            0                   2  ...          -1.000000             benign\n",
              "4           19                   2  ...           0.823008             benign\n",
              "\n",
              "[5 rows x 80 columns]"
            ]
          },
          "metadata": {},
          "execution_count": 4
        }
      ]
    },
    {
      "cell_type": "code",
      "metadata": {
        "colab": {
          "base_uri": "https://localhost:8080/"
        },
        "id": "-0HFTDTqO6mf",
        "outputId": "a664cf8a-effd-445c-f0c4-38631bbbc703"
      },
      "source": [
        "dataset.shape"
      ],
      "execution_count": null,
      "outputs": [
        {
          "output_type": "execute_result",
          "data": {
            "text/plain": [
              "(15367, 80)"
            ]
          },
          "metadata": {},
          "execution_count": 5
        }
      ]
    },
    {
      "cell_type": "code",
      "metadata": {
        "colab": {
          "base_uri": "https://localhost:8080/",
          "height": 180
        },
        "id": "0_tw8CD_eHJX",
        "outputId": "46de549d-d52c-4cd5-8fe5-83628f012879"
      },
      "source": [
        "dataset.groupby('URL_Type_obf_Type').count()"
      ],
      "execution_count": null,
      "outputs": [
        {
          "output_type": "execute_result",
          "data": {
            "text/html": [
              "<div>\n",
              "<style scoped>\n",
              "    .dataframe tbody tr th:only-of-type {\n",
              "        vertical-align: middle;\n",
              "    }\n",
              "\n",
              "    .dataframe tbody tr th {\n",
              "        vertical-align: top;\n",
              "    }\n",
              "\n",
              "    .dataframe thead th {\n",
              "        text-align: right;\n",
              "    }\n",
              "</style>\n",
              "<table border=\"1\" class=\"dataframe\">\n",
              "  <thead>\n",
              "    <tr style=\"text-align: right;\">\n",
              "      <th></th>\n",
              "      <th>Querylength</th>\n",
              "      <th>domain_token_count</th>\n",
              "      <th>path_token_count</th>\n",
              "      <th>avgdomaintokenlen</th>\n",
              "      <th>longdomaintokenlen</th>\n",
              "      <th>avgpathtokenlen</th>\n",
              "      <th>tld</th>\n",
              "      <th>charcompvowels</th>\n",
              "      <th>charcompace</th>\n",
              "      <th>ldl_url</th>\n",
              "      <th>ldl_domain</th>\n",
              "      <th>ldl_path</th>\n",
              "      <th>ldl_filename</th>\n",
              "      <th>ldl_getArg</th>\n",
              "      <th>dld_url</th>\n",
              "      <th>dld_domain</th>\n",
              "      <th>dld_path</th>\n",
              "      <th>dld_filename</th>\n",
              "      <th>dld_getArg</th>\n",
              "      <th>urlLen</th>\n",
              "      <th>domainlength</th>\n",
              "      <th>pathLength</th>\n",
              "      <th>subDirLen</th>\n",
              "      <th>fileNameLen</th>\n",
              "      <th>this.fileExtLen</th>\n",
              "      <th>ArgLen</th>\n",
              "      <th>pathurlRatio</th>\n",
              "      <th>ArgUrlRatio</th>\n",
              "      <th>argDomanRatio</th>\n",
              "      <th>domainUrlRatio</th>\n",
              "      <th>pathDomainRatio</th>\n",
              "      <th>argPathRatio</th>\n",
              "      <th>executable</th>\n",
              "      <th>isPortEighty</th>\n",
              "      <th>NumberofDotsinURL</th>\n",
              "      <th>ISIpAddressInDomainName</th>\n",
              "      <th>CharacterContinuityRate</th>\n",
              "      <th>LongestVariableValue</th>\n",
              "      <th>URL_DigitCount</th>\n",
              "      <th>host_DigitCount</th>\n",
              "      <th>Directory_DigitCount</th>\n",
              "      <th>File_name_DigitCount</th>\n",
              "      <th>Extension_DigitCount</th>\n",
              "      <th>Query_DigitCount</th>\n",
              "      <th>URL_Letter_Count</th>\n",
              "      <th>host_letter_count</th>\n",
              "      <th>Directory_LetterCount</th>\n",
              "      <th>Filename_LetterCount</th>\n",
              "      <th>Extension_LetterCount</th>\n",
              "      <th>Query_LetterCount</th>\n",
              "      <th>LongestPathTokenLength</th>\n",
              "      <th>Domain_LongestWordLength</th>\n",
              "      <th>Path_LongestWordLength</th>\n",
              "      <th>sub-Directory_LongestWordLength</th>\n",
              "      <th>Arguments_LongestWordLength</th>\n",
              "      <th>URL_sensitiveWord</th>\n",
              "      <th>URLQueries_variable</th>\n",
              "      <th>spcharUrl</th>\n",
              "      <th>delimeter_Domain</th>\n",
              "      <th>delimeter_path</th>\n",
              "      <th>delimeter_Count</th>\n",
              "      <th>NumberRate_URL</th>\n",
              "      <th>NumberRate_Domain</th>\n",
              "      <th>NumberRate_DirectoryName</th>\n",
              "      <th>NumberRate_FileName</th>\n",
              "      <th>NumberRate_Extension</th>\n",
              "      <th>NumberRate_AfterPath</th>\n",
              "      <th>SymbolCount_URL</th>\n",
              "      <th>SymbolCount_Domain</th>\n",
              "      <th>SymbolCount_Directoryname</th>\n",
              "      <th>SymbolCount_FileName</th>\n",
              "      <th>SymbolCount_Extension</th>\n",
              "      <th>SymbolCount_Afterpath</th>\n",
              "      <th>Entropy_URL</th>\n",
              "      <th>Entropy_Domain</th>\n",
              "      <th>Entropy_DirectoryName</th>\n",
              "      <th>Entropy_Filename</th>\n",
              "      <th>Entropy_Extension</th>\n",
              "      <th>Entropy_Afterpath</th>\n",
              "    </tr>\n",
              "    <tr>\n",
              "      <th>URL_Type_obf_Type</th>\n",
              "      <th></th>\n",
              "      <th></th>\n",
              "      <th></th>\n",
              "      <th></th>\n",
              "      <th></th>\n",
              "      <th></th>\n",
              "      <th></th>\n",
              "      <th></th>\n",
              "      <th></th>\n",
              "      <th></th>\n",
              "      <th></th>\n",
              "      <th></th>\n",
              "      <th></th>\n",
              "      <th></th>\n",
              "      <th></th>\n",
              "      <th></th>\n",
              "      <th></th>\n",
              "      <th></th>\n",
              "      <th></th>\n",
              "      <th></th>\n",
              "      <th></th>\n",
              "      <th></th>\n",
              "      <th></th>\n",
              "      <th></th>\n",
              "      <th></th>\n",
              "      <th></th>\n",
              "      <th></th>\n",
              "      <th></th>\n",
              "      <th></th>\n",
              "      <th></th>\n",
              "      <th></th>\n",
              "      <th></th>\n",
              "      <th></th>\n",
              "      <th></th>\n",
              "      <th></th>\n",
              "      <th></th>\n",
              "      <th></th>\n",
              "      <th></th>\n",
              "      <th></th>\n",
              "      <th></th>\n",
              "      <th></th>\n",
              "      <th></th>\n",
              "      <th></th>\n",
              "      <th></th>\n",
              "      <th></th>\n",
              "      <th></th>\n",
              "      <th></th>\n",
              "      <th></th>\n",
              "      <th></th>\n",
              "      <th></th>\n",
              "      <th></th>\n",
              "      <th></th>\n",
              "      <th></th>\n",
              "      <th></th>\n",
              "      <th></th>\n",
              "      <th></th>\n",
              "      <th></th>\n",
              "      <th></th>\n",
              "      <th></th>\n",
              "      <th></th>\n",
              "      <th></th>\n",
              "      <th></th>\n",
              "      <th></th>\n",
              "      <th></th>\n",
              "      <th></th>\n",
              "      <th></th>\n",
              "      <th></th>\n",
              "      <th></th>\n",
              "      <th></th>\n",
              "      <th></th>\n",
              "      <th></th>\n",
              "      <th></th>\n",
              "      <th></th>\n",
              "      <th></th>\n",
              "      <th></th>\n",
              "      <th></th>\n",
              "      <th></th>\n",
              "      <th></th>\n",
              "      <th></th>\n",
              "    </tr>\n",
              "  </thead>\n",
              "  <tbody>\n",
              "    <tr>\n",
              "      <th>benign</th>\n",
              "      <td>7781</td>\n",
              "      <td>7781</td>\n",
              "      <td>7781</td>\n",
              "      <td>7781</td>\n",
              "      <td>7781</td>\n",
              "      <td>7774</td>\n",
              "      <td>7781</td>\n",
              "      <td>7781</td>\n",
              "      <td>7781</td>\n",
              "      <td>7781</td>\n",
              "      <td>7781</td>\n",
              "      <td>7781</td>\n",
              "      <td>7781</td>\n",
              "      <td>7781</td>\n",
              "      <td>7781</td>\n",
              "      <td>7781</td>\n",
              "      <td>7781</td>\n",
              "      <td>7781</td>\n",
              "      <td>7781</td>\n",
              "      <td>7781</td>\n",
              "      <td>7781</td>\n",
              "      <td>7781</td>\n",
              "      <td>7781</td>\n",
              "      <td>7781</td>\n",
              "      <td>7781</td>\n",
              "      <td>7781</td>\n",
              "      <td>7781</td>\n",
              "      <td>7781</td>\n",
              "      <td>7781</td>\n",
              "      <td>7781</td>\n",
              "      <td>7781</td>\n",
              "      <td>7781</td>\n",
              "      <td>7781</td>\n",
              "      <td>7781</td>\n",
              "      <td>7781</td>\n",
              "      <td>7781</td>\n",
              "      <td>7781</td>\n",
              "      <td>7781</td>\n",
              "      <td>7781</td>\n",
              "      <td>7781</td>\n",
              "      <td>7781</td>\n",
              "      <td>7781</td>\n",
              "      <td>7781</td>\n",
              "      <td>7781</td>\n",
              "      <td>7781</td>\n",
              "      <td>7781</td>\n",
              "      <td>7781</td>\n",
              "      <td>7781</td>\n",
              "      <td>7781</td>\n",
              "      <td>7781</td>\n",
              "      <td>7781</td>\n",
              "      <td>7781</td>\n",
              "      <td>7781</td>\n",
              "      <td>7781</td>\n",
              "      <td>7781</td>\n",
              "      <td>7781</td>\n",
              "      <td>7781</td>\n",
              "      <td>7781</td>\n",
              "      <td>7781</td>\n",
              "      <td>7781</td>\n",
              "      <td>7781</td>\n",
              "      <td>7781</td>\n",
              "      <td>7781</td>\n",
              "      <td>7781</td>\n",
              "      <td>7781</td>\n",
              "      <td>3440</td>\n",
              "      <td>7780</td>\n",
              "      <td>7781</td>\n",
              "      <td>7781</td>\n",
              "      <td>7781</td>\n",
              "      <td>7781</td>\n",
              "      <td>7781</td>\n",
              "      <td>7781</td>\n",
              "      <td>7781</td>\n",
              "      <td>7781</td>\n",
              "      <td>6723</td>\n",
              "      <td>7622</td>\n",
              "      <td>7780</td>\n",
              "      <td>7781</td>\n",
              "    </tr>\n",
              "    <tr>\n",
              "      <th>phishing</th>\n",
              "      <td>7586</td>\n",
              "      <td>7586</td>\n",
              "      <td>7586</td>\n",
              "      <td>7586</td>\n",
              "      <td>7586</td>\n",
              "      <td>7322</td>\n",
              "      <td>7586</td>\n",
              "      <td>7586</td>\n",
              "      <td>7586</td>\n",
              "      <td>7586</td>\n",
              "      <td>7586</td>\n",
              "      <td>7586</td>\n",
              "      <td>7586</td>\n",
              "      <td>7586</td>\n",
              "      <td>7586</td>\n",
              "      <td>7586</td>\n",
              "      <td>7586</td>\n",
              "      <td>7586</td>\n",
              "      <td>7586</td>\n",
              "      <td>7586</td>\n",
              "      <td>7586</td>\n",
              "      <td>7586</td>\n",
              "      <td>7586</td>\n",
              "      <td>7586</td>\n",
              "      <td>7586</td>\n",
              "      <td>7586</td>\n",
              "      <td>7586</td>\n",
              "      <td>7586</td>\n",
              "      <td>7586</td>\n",
              "      <td>7586</td>\n",
              "      <td>7586</td>\n",
              "      <td>7586</td>\n",
              "      <td>7586</td>\n",
              "      <td>7586</td>\n",
              "      <td>7586</td>\n",
              "      <td>7586</td>\n",
              "      <td>7586</td>\n",
              "      <td>7586</td>\n",
              "      <td>7586</td>\n",
              "      <td>7586</td>\n",
              "      <td>7586</td>\n",
              "      <td>7586</td>\n",
              "      <td>7586</td>\n",
              "      <td>7586</td>\n",
              "      <td>7586</td>\n",
              "      <td>7586</td>\n",
              "      <td>7586</td>\n",
              "      <td>7586</td>\n",
              "      <td>7586</td>\n",
              "      <td>7586</td>\n",
              "      <td>7586</td>\n",
              "      <td>7586</td>\n",
              "      <td>7586</td>\n",
              "      <td>7586</td>\n",
              "      <td>7586</td>\n",
              "      <td>7586</td>\n",
              "      <td>7586</td>\n",
              "      <td>7586</td>\n",
              "      <td>7586</td>\n",
              "      <td>7586</td>\n",
              "      <td>7586</td>\n",
              "      <td>7586</td>\n",
              "      <td>7586</td>\n",
              "      <td>7577</td>\n",
              "      <td>7577</td>\n",
              "      <td>4572</td>\n",
              "      <td>7584</td>\n",
              "      <td>7586</td>\n",
              "      <td>7586</td>\n",
              "      <td>7586</td>\n",
              "      <td>7586</td>\n",
              "      <td>7586</td>\n",
              "      <td>7586</td>\n",
              "      <td>7586</td>\n",
              "      <td>7586</td>\n",
              "      <td>6818</td>\n",
              "      <td>7555</td>\n",
              "      <td>7584</td>\n",
              "      <td>7583</td>\n",
              "    </tr>\n",
              "  </tbody>\n",
              "</table>\n",
              "</div>"
            ],
            "text/plain": [
              "                   Querylength  ...  Entropy_Afterpath\n",
              "URL_Type_obf_Type               ...                   \n",
              "benign                    7781  ...               7781\n",
              "phishing                  7586  ...               7583\n",
              "\n",
              "[2 rows x 79 columns]"
            ]
          },
          "metadata": {},
          "execution_count": 6
        }
      ]
    },
    {
      "cell_type": "code",
      "metadata": {
        "colab": {
          "base_uri": "https://localhost:8080/"
        },
        "id": "UdpDlcKLPOgj",
        "outputId": "e5ff2fb0-7f93-4f0a-dc5e-275a60053ae6"
      },
      "source": [
        "# Sepratating & assigning features and target columns to X & y\n",
        "from numpy import asarray\n",
        "from sklearn.preprocessing import OrdinalEncoder\n",
        "from sklearn.preprocessing import LabelEncoder\n",
        "\n",
        "y = dataset['URL_Type_obf_Type']\n",
        "X = dataset[dataset.columns[1:79]].drop(dataset.columns[31:33], axis=1)\n",
        "X = X.fillna(0)\n",
        "\n",
        "\n",
        "lb_make = LabelEncoder()\n",
        "y = lb_make.fit_transform(y)\n",
        "y\n"
      ],
      "execution_count": null,
      "outputs": [
        {
          "output_type": "execute_result",
          "data": {
            "text/plain": [
              "array([0, 0, 0, ..., 1, 1, 1])"
            ]
          },
          "metadata": {},
          "execution_count": 7
        }
      ]
    },
    {
      "cell_type": "code",
      "metadata": {
        "colab": {
          "base_uri": "https://localhost:8080/"
        },
        "id": "9zhkl27Xu7pI",
        "outputId": "26b6d822-6159-453a-ff9b-cb3900376daa"
      },
      "source": [
        "# Splitting the dataset into train and test sets: 80-20 split\n",
        "from sklearn.model_selection import train_test_split\n",
        "\n",
        "X_train, X_test, y_train, y_test = train_test_split(X, y,test_size = 0.2, random_state = 12)\n",
        "X_train.shape, X_test.shape"
      ],
      "execution_count": null,
      "outputs": [
        {
          "output_type": "execute_result",
          "data": {
            "text/plain": [
              "((12293, 76), (3074, 76))"
            ]
          },
          "metadata": {},
          "execution_count": 8
        }
      ]
    },
    {
      "cell_type": "markdown",
      "metadata": {
        "id": "7D9NACivuVbd"
      },
      "source": [
        "# This section is for Performance results"
      ]
    },
    {
      "cell_type": "code",
      "metadata": {
        "id": "ud0Jm3KAuVbd"
      },
      "source": [
        "#importing packages\n",
        "from sklearn.metrics import accuracy_score\n",
        "from sklearn.model_selection import cross_val_score"
      ],
      "execution_count": null,
      "outputs": []
    },
    {
      "cell_type": "code",
      "metadata": {
        "id": "uS5J7uCRuVbd"
      },
      "source": [
        "# Creating holders to store the model performance results\n",
        "ML_Model = []\n",
        "acc_train = []\n",
        "acc_test = []\n",
        "\n",
        "#function to call for storing the results\n",
        "def storeResults(model, a,b):\n",
        "  ML_Model.append(model)\n",
        "  acc_train.append(round(a, 3))\n",
        "  acc_test.append(round(b, 3))"
      ],
      "execution_count": null,
      "outputs": []
    },
    {
      "cell_type": "markdown",
      "metadata": {
        "id": "qDf_vqo6uVbd"
      },
      "source": [
        "# Classifier: Decision Tree"
      ]
    },
    {
      "cell_type": "code",
      "metadata": {
        "id": "w8cIJbyzuVbe",
        "colab": {
          "base_uri": "https://localhost:8080/"
        },
        "outputId": "ded2a0ac-7731-4bac-953f-0c0d77296abf"
      },
      "source": [
        "# Decision Tree model \n",
        "import time\n",
        "from sklearn.tree import DecisionTreeClassifier\n",
        "start_time = time.time()\n",
        "\n",
        "# instantiate the model \n",
        "tree = DecisionTreeClassifier(max_depth = 10)\n",
        "# fit the model \n",
        "tree.fit(X_train, y_train)\n",
        "scores = cross_val_score(tree, X_train, y_train, cv=10)\n",
        "scores.mean()\n",
        "print(\"--- %s seconds ----\" %(time.time() - start_time ))"
      ],
      "execution_count": null,
      "outputs": [
        {
          "output_type": "stream",
          "name": "stdout",
          "text": [
            "--- 2.582508087158203 seconds ----\n"
          ]
        }
      ]
    },
    {
      "cell_type": "code",
      "metadata": {
        "id": "3Xq_p3gnuVbe"
      },
      "source": [
        "#predicting the target value from the model for the samples\n",
        "y_test_tree = tree.predict(X_test)\n",
        "y_train_tree = tree.predict(X_train)"
      ],
      "execution_count": null,
      "outputs": []
    },
    {
      "cell_type": "markdown",
      "metadata": {
        "id": "0We8kHYCuVbe"
      },
      "source": [
        "Performance Evaluation"
      ]
    },
    {
      "cell_type": "code",
      "metadata": {
        "id": "EE3P0CM5uVbe",
        "colab": {
          "base_uri": "https://localhost:8080/"
        },
        "outputId": "fbc6ab94-788d-4d9c-9c7c-e0f811c24b2a"
      },
      "source": [
        "#computing the accuracy of the model performance\n",
        "acc_train_tree = scores.mean()\n",
        "acc_test_tree = accuracy_score(y_test,y_test_tree)\n",
        "\n",
        "print(\"Decision Tree: Accuracy on training Data: {:.3f}\".format(acc_train_tree))\n",
        "print(\"Decision Tree: Accuracy on test Data: {:.3f}\".format(acc_test_tree))"
      ],
      "execution_count": null,
      "outputs": [
        {
          "output_type": "stream",
          "name": "stdout",
          "text": [
            "Decision Tree: Accuracy on training Data: 0.972\n",
            "Decision Tree: Accuracy on test Data: 0.972\n"
          ]
        }
      ]
    },
    {
      "cell_type": "markdown",
      "metadata": {
        "id": "IphDtyjluVbe"
      },
      "source": [
        "Storing the results"
      ]
    },
    {
      "cell_type": "code",
      "metadata": {
        "id": "17Bkt1uquVbe"
      },
      "source": [
        "#storing the results. The below mentioned order of parameter passing is important.\n",
        "#Caution: Execute only once to avoid duplications.\n",
        "storeResults('Decision Tree', acc_train_tree, acc_test_tree)"
      ],
      "execution_count": null,
      "outputs": []
    },
    {
      "cell_type": "markdown",
      "metadata": {
        "id": "BmduNZpRuVbf"
      },
      "source": [
        "# Classifier: Random Forest"
      ]
    },
    {
      "cell_type": "code",
      "metadata": {
        "id": "WN6tXU7ruVbf",
        "colab": {
          "base_uri": "https://localhost:8080/"
        },
        "outputId": "9b22bc02-6b3c-47be-9b79-e1524b59732d"
      },
      "source": [
        "# Random Forest model\n",
        "from sklearn.ensemble import RandomForestClassifier\n",
        "start_time = time.time()\n",
        "# instantiate the model\n",
        "forest = RandomForestClassifier(max_depth=10)\n",
        "\n",
        "# fit the model \n",
        "forest.fit(X_train, y_train)\n",
        "scores = cross_val_score(forest, X_train, y_train, cv=10)\n",
        "scores.mean()\n",
        "print(\"--- %s seconds ----\" %(time.time() - start_time ))"
      ],
      "execution_count": null,
      "outputs": [
        {
          "output_type": "stream",
          "name": "stdout",
          "text": [
            "--- 19.14137578010559 seconds ----\n"
          ]
        }
      ]
    },
    {
      "cell_type": "code",
      "metadata": {
        "id": "DrUGrU-ouVbf"
      },
      "source": [
        "#predicting the target value from the model for the samples\n",
        "y_test_forest = forest.predict(X_test)\n",
        "y_train_forest = forest.predict(X_train)"
      ],
      "execution_count": null,
      "outputs": []
    },
    {
      "cell_type": "markdown",
      "metadata": {
        "id": "UaBsn0GCuVbf"
      },
      "source": [
        "Performance Evaluation"
      ]
    },
    {
      "cell_type": "code",
      "metadata": {
        "id": "-sukyjSOuVbf",
        "colab": {
          "base_uri": "https://localhost:8080/"
        },
        "outputId": "963efb22-a9bc-4f77-ad5f-b6a10cd11b2b"
      },
      "source": [
        "#computing the accuracy of the model performance\n",
        "acc_train_forest = scores.mean()\n",
        "acc_test_forest = accuracy_score(y_test,y_test_forest)\n",
        "\n",
        "print(\"Random forest: Accuracy on training Data: {:.3f}\".format(acc_train_forest))\n",
        "print(\"Random forest: Accuracy on test Data: {:.3f}\".format(acc_test_forest))"
      ],
      "execution_count": null,
      "outputs": [
        {
          "output_type": "stream",
          "name": "stdout",
          "text": [
            "Random forest: Accuracy on training Data: 0.979\n",
            "Random forest: Accuracy on test Data: 0.980\n"
          ]
        }
      ]
    },
    {
      "cell_type": "markdown",
      "metadata": {
        "id": "DujdJmppuVbg"
      },
      "source": [
        "Storing the results"
      ]
    },
    {
      "cell_type": "code",
      "metadata": {
        "id": "vteUM5gTuVbg"
      },
      "source": [
        "#storing the results. The below mentioned order of parameter passing is important.\n",
        "#Caution: Execute only once to avoid duplications.\n",
        "storeResults('Random Forest', acc_train_forest, acc_test_forest)"
      ],
      "execution_count": null,
      "outputs": []
    },
    {
      "cell_type": "markdown",
      "metadata": {
        "id": "E771Lg8DuVbg"
      },
      "source": [
        "# XGBoost Classifier "
      ]
    },
    {
      "cell_type": "code",
      "metadata": {
        "id": "BwYTGGMtuVbg",
        "colab": {
          "base_uri": "https://localhost:8080/"
        },
        "outputId": "58a56259-c33f-45d9-fbb5-61c75b597352"
      },
      "source": [
        "#XGBoost Classification model\n",
        "from xgboost import XGBClassifier\n",
        "start_time = time.time()\n",
        "# instantiate the model\n",
        "xgb = XGBClassifier(learning_rate=0.4,max_depth=10)\n",
        "#fit the model\n",
        "xgb.fit(X_train, y_train)\n",
        "scores = cross_val_score(xgb, X_train, y_train, cv=10)\n",
        "scores.mean()\n",
        "print(\"--- %s seconds ----\" %(time.time() - start_time ))"
      ],
      "execution_count": null,
      "outputs": [
        {
          "output_type": "stream",
          "name": "stdout",
          "text": [
            "--- 62.665613889694214 seconds ----\n"
          ]
        }
      ]
    },
    {
      "cell_type": "code",
      "metadata": {
        "id": "_zHOIiEuuVbg"
      },
      "source": [
        "#predicting the target value from the model for the samples\n",
        "y_test_xgb = xgb.predict(X_test)\n",
        "y_train_xgb = xgb.predict(X_train)"
      ],
      "execution_count": null,
      "outputs": []
    },
    {
      "cell_type": "markdown",
      "metadata": {
        "id": "qWnfdM2TuVbh"
      },
      "source": [
        "Performance evaluation"
      ]
    },
    {
      "cell_type": "code",
      "metadata": {
        "id": "0asAvVNGuVbh",
        "colab": {
          "base_uri": "https://localhost:8080/"
        },
        "outputId": "203611c1-632d-4c82-cc38-794188fb95bb"
      },
      "source": [
        "#computing the accuracy of the model performance\n",
        "acc_train_xgb = scores.mean()\n",
        "acc_test_xgb = accuracy_score(y_test,y_test_xgb)\n",
        "\n",
        "print(\"XGBoost: Accuracy on training Data: {:.3f}\".format(acc_train_xgb))\n",
        "print(\"XGBoost : Accuracy on test Data: {:.3f}\".format(acc_test_xgb))"
      ],
      "execution_count": null,
      "outputs": [
        {
          "output_type": "stream",
          "name": "stdout",
          "text": [
            "XGBoost: Accuracy on training Data: 0.986\n",
            "XGBoost : Accuracy on test Data: 0.988\n"
          ]
        }
      ]
    },
    {
      "cell_type": "markdown",
      "metadata": {
        "id": "ruAuuwJ-uVbh"
      },
      "source": [
        "Storing the results"
      ]
    },
    {
      "cell_type": "code",
      "metadata": {
        "id": "x5Pe1UwpuVbh"
      },
      "source": [
        "#storing the results. The below mentioned order of parameter passing is important.\n",
        "#Caution: Execute only once to avoid duplications.\n",
        "storeResults('XGBoost', acc_train_xgb, acc_test_xgb)"
      ],
      "execution_count": null,
      "outputs": []
    },
    {
      "cell_type": "markdown",
      "metadata": {
        "id": "pZmgXjj4uVbh"
      },
      "source": [
        "# **Classifier: Artificial Neural Network**"
      ]
    },
    {
      "cell_type": "code",
      "metadata": {
        "id": "vHxnS06muVbh"
      },
      "source": [
        "#importing required packages\n",
        "import keras\n",
        "from keras.layers import Input, Dense\n",
        "from keras import regularizers\n",
        "import tensorflow as tf\n",
        "from keras.models import Model\n",
        "from sklearn import metrics"
      ],
      "execution_count": null,
      "outputs": []
    },
    {
      "cell_type": "code",
      "metadata": {
        "id": "whPG8VsOuVbi"
      },
      "source": [
        "\n",
        "from sklearn.preprocessing import StandardScaler                   # for normalization of our data\n",
        "from keras.wrappers.scikit_learn import KerasClassifier            #package allowing keras to work with python\n",
        "from sklearn.model_selection import cross_val_score, GridSearchCV  #using Kfold and if needed, GridSearch object in analysis\n",
        "from sklearn.utils import shuffle                                  # shuffling our own made dataset\n",
        "from keras.models import Sequential                                # linear layer stacks model for keras\n",
        "from keras.layers import Dense, Dropout     "
      ],
      "execution_count": null,
      "outputs": []
    },
    {
      "cell_type": "code",
      "metadata": {
        "id": "s9haLzsmuVbi",
        "colab": {
          "base_uri": "https://localhost:8080/"
        },
        "outputId": "337e7d5b-77d2-4f58-8dfc-ec0efb568a55"
      },
      "source": [
        "    epoch = 20\n",
        "        \n",
        "    classifier = Sequential()\n",
        "    classifier.add(Dense(units = 40, activation='relu',kernel_initializer='uniform', input_dim = 76))\n",
        "    #classifier.add(Dropout(p= 0.1))\n",
        "    classifier.add(Dense(units = 40, activation='relu',kernel_initializer='uniform'))\n",
        "    #classifier.add(Dropout(p= 0.1))\n",
        "    classifier.add(Dense(units = 40, activation='relu',kernel_initializer='uniform'))\n",
        "    #classifier.add(Dropout(p= 0.1))\n",
        "    classifier.add(Dense(units = 40, activation='relu',kernel_initializer='uniform'))      \n",
        "    #classifier.add(Dropout(p= 0.1))   \n",
        "    classifier.add(Dense(units = 1, activation='sigmoid',kernel_initializer='uniform'))\n",
        "    #classifier.add(Dropout(p= 0.1))\n",
        "    classifier.compile(optimizer='adam', loss='binary_crossentropy',metrics=['accuracy'])\n",
        "    start_time = time.time()\n",
        "\n",
        "    history = classifier.fit(X_train, y_train, epochs=epoch, validation_data=(X_test, y_test), verbose=1)\n",
        "    print(\"--- %s seconds ----\" %(time.time() - start_time ))\n",
        "    "
      ],
      "execution_count": null,
      "outputs": [
        {
          "output_type": "stream",
          "name": "stdout",
          "text": [
            "Epoch 1/20\n",
            "385/385 [==============================] - 2s 3ms/step - loss: 0.2952 - accuracy: 0.8777 - val_loss: 0.1606 - val_accuracy: 0.9431\n",
            "Epoch 2/20\n",
            "385/385 [==============================] - 1s 2ms/step - loss: 0.1568 - accuracy: 0.9430 - val_loss: 0.1339 - val_accuracy: 0.9532\n",
            "Epoch 3/20\n",
            "385/385 [==============================] - 1s 2ms/step - loss: 0.1314 - accuracy: 0.9515 - val_loss: 0.1780 - val_accuracy: 0.9336\n",
            "Epoch 4/20\n",
            "385/385 [==============================] - 1s 2ms/step - loss: 0.1191 - accuracy: 0.9567 - val_loss: 0.1300 - val_accuracy: 0.9522\n",
            "Epoch 5/20\n",
            "385/385 [==============================] - 1s 2ms/step - loss: 0.1142 - accuracy: 0.9575 - val_loss: 0.1718 - val_accuracy: 0.9382\n",
            "Epoch 6/20\n",
            "385/385 [==============================] - 1s 2ms/step - loss: 0.1111 - accuracy: 0.9592 - val_loss: 0.1023 - val_accuracy: 0.9636\n",
            "Epoch 7/20\n",
            "385/385 [==============================] - 1s 2ms/step - loss: 0.1009 - accuracy: 0.9632 - val_loss: 0.0995 - val_accuracy: 0.9626\n",
            "Epoch 8/20\n",
            "385/385 [==============================] - 1s 2ms/step - loss: 0.0961 - accuracy: 0.9649 - val_loss: 0.1217 - val_accuracy: 0.9597\n",
            "Epoch 9/20\n",
            "385/385 [==============================] - 1s 2ms/step - loss: 0.0917 - accuracy: 0.9671 - val_loss: 0.1125 - val_accuracy: 0.9590\n",
            "Epoch 10/20\n",
            "385/385 [==============================] - 1s 2ms/step - loss: 0.0867 - accuracy: 0.9674 - val_loss: 0.0925 - val_accuracy: 0.9668\n",
            "Epoch 11/20\n",
            "385/385 [==============================] - 1s 2ms/step - loss: 0.0848 - accuracy: 0.9684 - val_loss: 0.0943 - val_accuracy: 0.9668\n",
            "Epoch 12/20\n",
            "385/385 [==============================] - 1s 2ms/step - loss: 0.0832 - accuracy: 0.9688 - val_loss: 0.0979 - val_accuracy: 0.9639\n",
            "Epoch 13/20\n",
            "385/385 [==============================] - 1s 2ms/step - loss: 0.0791 - accuracy: 0.9696 - val_loss: 0.0890 - val_accuracy: 0.9694\n",
            "Epoch 14/20\n",
            "385/385 [==============================] - 1s 2ms/step - loss: 0.0820 - accuracy: 0.9697 - val_loss: 0.0907 - val_accuracy: 0.9662\n",
            "Epoch 15/20\n",
            "385/385 [==============================] - 1s 2ms/step - loss: 0.0760 - accuracy: 0.9717 - val_loss: 0.0964 - val_accuracy: 0.9681\n",
            "Epoch 16/20\n",
            "385/385 [==============================] - 1s 2ms/step - loss: 0.0734 - accuracy: 0.9732 - val_loss: 0.0852 - val_accuracy: 0.9701\n",
            "Epoch 17/20\n",
            "385/385 [==============================] - 1s 2ms/step - loss: 0.0721 - accuracy: 0.9722 - val_loss: 0.0850 - val_accuracy: 0.9684\n",
            "Epoch 18/20\n",
            "385/385 [==============================] - 1s 2ms/step - loss: 0.0710 - accuracy: 0.9727 - val_loss: 0.1480 - val_accuracy: 0.9489\n",
            "Epoch 19/20\n",
            "385/385 [==============================] - 1s 2ms/step - loss: 0.0760 - accuracy: 0.9702 - val_loss: 0.0937 - val_accuracy: 0.9678\n",
            "Epoch 20/20\n",
            "385/385 [==============================] - 1s 2ms/step - loss: 0.0695 - accuracy: 0.9739 - val_loss: 0.0857 - val_accuracy: 0.9710\n",
            "--- 16.867968797683716 seconds ----\n"
          ]
        }
      ]
    },
    {
      "cell_type": "code",
      "metadata": {
        "colab": {
          "base_uri": "https://localhost:8080/",
          "height": 384
        },
        "id": "AtkIynjGOxon",
        "outputId": "1bc194df-ce0c-4d3b-f4a2-086f155caee5"
      },
      "source": [
        "import os\n",
        "import tensorflow as tf\n",
        "import numpy as np\n",
        "from tensorflow.keras.models import Sequential\n",
        "from tensorflow.keras.layers import Dense, Flatten,Conv2D\n",
        "from tensorflow.keras.applications.resnet50 import ResNet50, preprocess_input\n",
        "import keras\n",
        "import matplotlib.pyplot as plt\n",
        "from sklearn.model_selection import train_test_split\n",
        "\n",
        "def visualisation_history(history):\n",
        "  \n",
        "  fig, (ax1, ax2) = plt.subplots(1, 2,figsize=(13,5))\n",
        "\n",
        "  ax1.plot(history.history['accuracy'],c='blue')\n",
        "  ax1.plot(history.history['val_accuracy'],c='red')\n",
        "  ax1.set_title('model accuracy')\n",
        "  ax1.set_ylabel('accuracy')\n",
        "  ax1.set_xlabel('epoch')\n",
        "  ax1.legend(['train', 'test'], loc='center right')\n",
        "  \n",
        "\n",
        "  ax2.plot(history.history['loss'],c='blue')\n",
        "  ax2.plot(history.history['val_loss'],c='red')\n",
        "  ax2.set_title('model loss')\n",
        "  ax2.set_ylabel('loss')\n",
        "  ax2.set_xlabel('epoch')\n",
        "  ax2.legend(['train', 'test'], loc='center right')\n",
        "  plt.show()\n",
        "# evaluation du modèle\n",
        "_, acc =classifier.evaluate(X_test, y_test)\n",
        "print('Test Accuracy: %.3f' % (acc * 100))\n",
        "visualisation_history(history)"
      ],
      "execution_count": null,
      "outputs": [
        {
          "output_type": "stream",
          "name": "stdout",
          "text": [
            "97/97 [==============================] - 0s 1000us/step - loss: 0.0857 - accuracy: 0.9710\n",
            "Test Accuracy: 97.105\n"
          ]
        },
        {
          "output_type": "display_data",
          "data": {
            "image/png": "[encoded data removed]",
            "text/plain": [
              "<Figure size 936x360 with 2 Axes>"
            ]
          },
          "metadata": {
            "needs_background": "light"
          }
        }
      ]
    },
    {
      "cell_type": "markdown",
      "metadata": {
        "id": "H5MbDroHuVbi"
      },
      "source": [
        "Performance Evaluation"
      ]
    },
    {
      "cell_type": "code",
      "metadata": {
        "id": "sjiSLMYbuVbi",
        "colab": {
          "base_uri": "https://localhost:8080/",
          "height": 375
        },
        "outputId": "a2ff888a-dfdf-4060-a490-19f06239a271"
      },
      "source": [
        "scores = cross_val_score(\n",
        "                        estimator=classifier, \n",
        "                        X = X_train,\n",
        "                        y = y_train,\n",
        "                        cv=10)\n",
        "#scores.mean()"
      ],
      "execution_count": null,
      "outputs": [
        {
          "output_type": "error",
          "ename": "TypeError",
          "evalue": "ignored",
          "traceback": [
            "\u001b[0;31m---------------------------------------------------------------------------\u001b[0m",
            "\u001b[0;31mTypeError\u001b[0m                                 Traceback (most recent call last)",
            "\u001b[0;32m<ipython-input-34-8734395cc88b>\u001b[0m in \u001b[0;36m<module>\u001b[0;34m()\u001b[0m\n\u001b[1;32m      3\u001b[0m                         \u001b[0mX\u001b[0m \u001b[0;34m=\u001b[0m \u001b[0mX_train\u001b[0m\u001b[0;34m,\u001b[0m\u001b[0;34m\u001b[0m\u001b[0;34m\u001b[0m\u001b[0m\n\u001b[1;32m      4\u001b[0m                         \u001b[0my\u001b[0m \u001b[0;34m=\u001b[0m \u001b[0my_train\u001b[0m\u001b[0;34m,\u001b[0m\u001b[0;34m\u001b[0m\u001b[0;34m\u001b[0m\u001b[0m\n\u001b[0;32m----> 5\u001b[0;31m                         cv=10)\n\u001b[0m\u001b[1;32m      6\u001b[0m \u001b[0;31m#scores.mean()\u001b[0m\u001b[0;34m\u001b[0m\u001b[0;34m\u001b[0m\u001b[0;34m\u001b[0m\u001b[0m\n",
            "\u001b[0;32m/usr/local/lib/python3.7/dist-packages/sklearn/model_selection/_validation.py\u001b[0m in \u001b[0;36mcross_val_score\u001b[0;34m(estimator, X, y, groups, scoring, cv, n_jobs, verbose, fit_params, pre_dispatch, error_score)\u001b[0m\n\u001b[1;32m    381\u001b[0m     \"\"\"\n\u001b[1;32m    382\u001b[0m     \u001b[0;31m# To ensure multimetric format is not supported\u001b[0m\u001b[0;34m\u001b[0m\u001b[0;34m\u001b[0m\u001b[0;34m\u001b[0m\u001b[0m\n\u001b[0;32m--> 383\u001b[0;31m     \u001b[0mscorer\u001b[0m \u001b[0;34m=\u001b[0m \u001b[0mcheck_scoring\u001b[0m\u001b[0;34m(\u001b[0m\u001b[0mestimator\u001b[0m\u001b[0;34m,\u001b[0m \u001b[0mscoring\u001b[0m\u001b[0;34m=\u001b[0m\u001b[0mscoring\u001b[0m\u001b[0;34m)\u001b[0m\u001b[0;34m\u001b[0m\u001b[0;34m\u001b[0m\u001b[0m\n\u001b[0m\u001b[1;32m    384\u001b[0m \u001b[0;34m\u001b[0m\u001b[0m\n\u001b[1;32m    385\u001b[0m     cv_results = cross_validate(estimator=estimator, X=X, y=y, groups=groups,\n",
            "\u001b[0;32m/usr/local/lib/python3.7/dist-packages/sklearn/metrics/_scorer.py\u001b[0m in \u001b[0;36mcheck_scoring\u001b[0;34m(estimator, scoring, allow_none)\u001b[0m\n\u001b[1;32m    424\u001b[0m                 \u001b[0;34m\"If no scoring is specified, the estimator passed should \"\u001b[0m\u001b[0;34m\u001b[0m\u001b[0;34m\u001b[0m\u001b[0m\n\u001b[1;32m    425\u001b[0m                 \u001b[0;34m\"have a 'score' method. The estimator %r does not.\"\u001b[0m\u001b[0;34m\u001b[0m\u001b[0;34m\u001b[0m\u001b[0m\n\u001b[0;32m--> 426\u001b[0;31m                 % estimator)\n\u001b[0m\u001b[1;32m    427\u001b[0m     \u001b[0;32melif\u001b[0m \u001b[0misinstance\u001b[0m\u001b[0;34m(\u001b[0m\u001b[0mscoring\u001b[0m\u001b[0;34m,\u001b[0m \u001b[0mIterable\u001b[0m\u001b[0;34m)\u001b[0m\u001b[0;34m:\u001b[0m\u001b[0;34m\u001b[0m\u001b[0;34m\u001b[0m\u001b[0m\n\u001b[1;32m    428\u001b[0m         raise ValueError(\"For evaluating multiple scores, use \"\n",
            "\u001b[0;31mTypeError\u001b[0m: If no scoring is specified, the estimator passed should have a 'score' method. The estimator <keras.engine.sequential.Sequential object at 0x7f58bce73090> does not."
          ]
        }
      ]
    },
    {
      "cell_type": "code",
      "metadata": {
        "id": "Ki4asHH_uVbj"
      },
      "source": [
        "y_test_ann  = classifier.predict(X_test)\n",
        "y_train_ann = classifier.predict(X_train)"
      ],
      "execution_count": null,
      "outputs": []
    },
    {
      "cell_type": "code",
      "metadata": {
        "id": "HB-5m9MEuVbj",
        "colab": {
          "base_uri": "https://localhost:8080/"
        },
        "outputId": "d3df5f5b-2cf9-4032-d30e-2803298fc7b6"
      },
      "source": [
        "acc_train_ann = classifier.evaluate(X_train,y_train)[1]\n",
        "acc_test_ann = classifier.evaluate(X_test,y_test)[1]\n",
        "\n",
        "print('\\nANN: Accuracy on training Data: {:.3f}' .format(acc_train_ann))\n",
        "print('ANN: Accuracy on test Data: {:.3f}' .format(acc_test_ann))"
      ],
      "execution_count": null,
      "outputs": [
        {
          "output_type": "stream",
          "name": "stdout",
          "text": [
            "385/385 [==============================] - 0s 1ms/step - loss: 0.0642 - accuracy: 0.9769\n",
            "97/97 [==============================] - 0s 1ms/step - loss: 0.0857 - accuracy: 0.9710\n",
            "\n",
            "ANN: Accuracy on training Data: 0.977\n",
            "ANN: Accuracy on test Data: 0.971\n"
          ]
        }
      ]
    },
    {
      "cell_type": "markdown",
      "metadata": {
        "id": "_xfg5GeCuVbj"
      },
      "source": [
        "Storing the results"
      ]
    },
    {
      "cell_type": "code",
      "metadata": {
        "id": "LhVeiqiHuVbj"
      },
      "source": [
        "#storing the results. The below mentioned order of parameter passing is important.\n",
        "#Caution: Execute only once to avoid duplications.\n",
        "storeResults('ANN', acc_train_ann, acc_test_ann)"
      ],
      "execution_count": null,
      "outputs": []
    },
    {
      "cell_type": "markdown",
      "metadata": {
        "id": "YLzdomtHnKpT"
      },
      "source": [
        "# **Classifier: Convolutional Neural Network**\n"
      ]
    },
    {
      "cell_type": "code",
      "metadata": {
        "id": "e8dJeFSzuVbj",
        "colab": {
          "base_uri": "https://localhost:8080/",
          "height": 219
        },
        "outputId": "3898ae42-c701-4137-98dd-b2637d52a866"
      },
      "source": [
        "from numpy import ndarray\n",
        "X_train = X_train.to_numpy()\n",
        "X_test = X_test.to_numpy()\n",
        "y_train = y_train.to_numpy()\n",
        "y_test = y_test.to_numpy()"
      ],
      "execution_count": null,
      "outputs": [
        {
          "output_type": "error",
          "ename": "AttributeError",
          "evalue": "ignored",
          "traceback": [
            "\u001b[0;31m---------------------------------------------------------------------------\u001b[0m",
            "\u001b[0;31mAttributeError\u001b[0m                            Traceback (most recent call last)",
            "\u001b[0;32m<ipython-input-33-8d4a889138af>\u001b[0m in \u001b[0;36m<module>\u001b[0;34m()\u001b[0m\n\u001b[1;32m      2\u001b[0m \u001b[0mX_train\u001b[0m \u001b[0;34m=\u001b[0m \u001b[0mX_train\u001b[0m\u001b[0;34m.\u001b[0m\u001b[0mto_numpy\u001b[0m\u001b[0;34m(\u001b[0m\u001b[0;34m)\u001b[0m\u001b[0;34m\u001b[0m\u001b[0;34m\u001b[0m\u001b[0m\n\u001b[1;32m      3\u001b[0m \u001b[0mX_test\u001b[0m \u001b[0;34m=\u001b[0m \u001b[0mX_test\u001b[0m\u001b[0;34m.\u001b[0m\u001b[0mto_numpy\u001b[0m\u001b[0;34m(\u001b[0m\u001b[0;34m)\u001b[0m\u001b[0;34m\u001b[0m\u001b[0;34m\u001b[0m\u001b[0m\n\u001b[0;32m----> 4\u001b[0;31m \u001b[0my_train\u001b[0m \u001b[0;34m=\u001b[0m \u001b[0my_train\u001b[0m\u001b[0;34m.\u001b[0m\u001b[0mto_numpy\u001b[0m\u001b[0;34m(\u001b[0m\u001b[0;34m)\u001b[0m\u001b[0;34m\u001b[0m\u001b[0;34m\u001b[0m\u001b[0m\n\u001b[0m\u001b[1;32m      5\u001b[0m \u001b[0my_test\u001b[0m \u001b[0;34m=\u001b[0m \u001b[0my_test\u001b[0m\u001b[0;34m.\u001b[0m\u001b[0mto_numpy\u001b[0m\u001b[0;34m(\u001b[0m\u001b[0;34m)\u001b[0m\u001b[0;34m\u001b[0m\u001b[0;34m\u001b[0m\u001b[0m\n",
            "\u001b[0;31mAttributeError\u001b[0m: 'numpy.ndarray' object has no attribute 'to_numpy'"
          ]
        }
      ]
    },
    {
      "cell_type": "code",
      "metadata": {
        "id": "RADCM2wvnNfC"
      },
      "source": [
        "#importing required packages\n",
        "import keras\n",
        "from keras.layers import Input, Dense\n",
        "from keras import regularizers\n",
        "import tensorflow as tf\n",
        "from keras.models import Model\n",
        "from sklearn import metrics"
      ],
      "execution_count": null,
      "outputs": []
    },
    {
      "cell_type": "code",
      "metadata": {
        "id": "052R7QOQuVbk"
      },
      "source": [
        "from tensorflow import keras\n",
        "from tensorflow.keras import Sequential\n",
        "from tensorflow.keras.layers import Flatten,Dense,Dropout,BatchNormalization\n",
        "from tensorflow.keras.layers import Conv1D,MaxPool1D\n",
        "from tensorflow.keras.optimizers import Adam"
      ],
      "execution_count": null,
      "outputs": []
    },
    {
      "cell_type": "code",
      "metadata": {
        "id": "kY_GxNEiuVbk",
        "colab": {
          "base_uri": "https://localhost:8080/"
        },
        "outputId": "47ee97fa-6111-4b5e-9a52-d0c801dea15f"
      },
      "source": [
        "X_train = X_train.reshape(X_train.shape[0],X_train.shape[1],1)\n",
        "X_test = X_test.reshape(X_test.shape[0],X_test.shape[1],1)\n",
        "\n",
        "\n",
        "epoch = 20\n",
        "model = Sequential()\n",
        "model.add(Conv1D(32,2,activation='relu',input_shape = X_train[0].shape))\n",
        "model.add(BatchNormalization())\n",
        "model.add(Dropout(0.2))\n",
        "\n",
        "model.add(Conv1D(64,2,activation='relu'))\n",
        "model.add(BatchNormalization())\n",
        "model.add(Dropout(0.5))\n",
        "\n",
        "model.add(Flatten())\n",
        "model.add(Dense(64,activation='relu'))\n",
        "model.add(Dropout(0.5))\n",
        "\n",
        "model.add(Dense(1,activation='sigmoid'))\n",
        "\n",
        "model.summary()\n",
        "\n",
        "model.compile(optimizer=Adam(lr=0.0001), loss = 'binary_crossentropy', metrics=['accuracy'])"
      ],
      "execution_count": null,
      "outputs": [
        {
          "output_type": "stream",
          "name": "stdout",
          "text": [
            "Model: \"sequential_1\"\n",
            "_________________________________________________________________\n",
            "Layer (type)                 Output Shape              Param #   \n",
            "=================================================================\n",
            "conv1d (Conv1D)              (None, 75, 32)            96        \n",
            "_________________________________________________________________\n",
            "batch_normalization (BatchNo (None, 75, 32)            128       \n",
            "_________________________________________________________________\n",
            "dropout (Dropout)            (None, 75, 32)            0         \n",
            "_________________________________________________________________\n",
            "conv1d_1 (Conv1D)            (None, 74, 64)            4160      \n",
            "_________________________________________________________________\n",
            "batch_normalization_1 (Batch (None, 74, 64)            256       \n",
            "_________________________________________________________________\n",
            "dropout_1 (Dropout)          (None, 74, 64)            0         \n",
            "_________________________________________________________________\n",
            "flatten (Flatten)            (None, 4736)              0         \n",
            "_________________________________________________________________\n",
            "dense_5 (Dense)              (None, 64)                303168    \n",
            "_________________________________________________________________\n",
            "dropout_2 (Dropout)          (None, 64)                0         \n",
            "_________________________________________________________________\n",
            "dense_6 (Dense)              (None, 1)                 65        \n",
            "=================================================================\n",
            "Total params: 307,873\n",
            "Trainable params: 307,681\n",
            "Non-trainable params: 192\n",
            "_________________________________________________________________\n"
          ]
        },
        {
          "output_type": "stream",
          "name": "stderr",
          "text": [
            "/usr/local/lib/python3.7/dist-packages/keras/optimizer_v2/optimizer_v2.py:356: UserWarning: The `lr` argument is deprecated, use `learning_rate` instead.\n",
            "  \"The `lr` argument is deprecated, use `learning_rate` instead.\")\n"
          ]
        }
      ]
    },
    {
      "cell_type": "code",
      "metadata": {
        "id": "Rz4rpj_PuVbn",
        "colab": {
          "base_uri": "https://localhost:8080/"
        },
        "outputId": "d9b7e93c-bce4-412f-d244-4692ac918b9b"
      },
      "source": [
        "# X_train = X_train.reshape(X_train.shape[0],X_train.shape[1],1)\n",
        "# X_test = X_test.reshape(X_test.shape[0],X_test.shape[1],1)\n",
        "epoch = 20\n",
        "model = Sequential()\n",
        "model.add(Conv1D(32,2,activation='relu',input_shape = X_train[0].shape))\n",
        "model.add(BatchNormalization())\n",
        "model.add(Dropout(0.2))\n",
        "\n",
        "model.add(Conv1D(64,2,activation='relu'))\n",
        "model.add(BatchNormalization())\n",
        "model.add(Dropout(0.5))\n",
        "\n",
        "model.add(Flatten())\n",
        "model.add(Dense(64,activation='relu'))\n",
        "model.add(Dropout(0.5))\n",
        "\n",
        "model.add(Dense(1,activation='sigmoid'))\n",
        "\n",
        "#model.summary()\n",
        "\n",
        "\n",
        "model.compile(optimizer=Adam(lr=0.0001), loss = 'binary_crossentropy', metrics=['accuracy'])\n"
      ],
      "execution_count": null,
      "outputs": [
        {
          "output_type": "stream",
          "name": "stderr",
          "text": [
            "/usr/local/lib/python3.7/dist-packages/keras/optimizer_v2/optimizer_v2.py:356: UserWarning: The `lr` argument is deprecated, use `learning_rate` instead.\n",
            "  \"The `lr` argument is deprecated, use `learning_rate` instead.\")\n"
          ]
        }
      ]
    },
    {
      "cell_type": "code",
      "metadata": {
        "id": "1XP21UY6uVbn",
        "colab": {
          "base_uri": "https://localhost:8080/"
        },
        "outputId": "437854aa-8e34-49ef-8743-3fcd258db169"
      },
      "source": [
        "start_time = time.time()\n",
        "history = model.fit(X_train, y_train, epochs=epoch, validation_data=(X_test, y_test), verbose=1)\n",
        "print(\"--- %s seconds ----\" %(time.time() - start_time ))\n",
        "# classifier = KerasClassifier(build_fn= CNN_builder,\n",
        "#                              batch_size = 10,\n",
        "#                              nb_epoch = 100)\n"
      ],
      "execution_count": null,
      "outputs": [
        {
          "output_type": "stream",
          "name": "stdout",
          "text": [
            "Epoch 1/20\n",
            "385/385 [==============================] - 6s 16ms/step - loss: 0.1202 - accuracy: 0.9557 - val_loss: 0.0971 - val_accuracy: 0.9597\n",
            "Epoch 2/20\n",
            "385/385 [==============================] - 6s 16ms/step - loss: 0.1153 - accuracy: 0.9557 - val_loss: 0.0995 - val_accuracy: 0.9571\n",
            "Epoch 3/20\n",
            "385/385 [==============================] - 6s 16ms/step - loss: 0.1171 - accuracy: 0.9549 - val_loss: 0.1001 - val_accuracy: 0.9571\n",
            "Epoch 4/20\n",
            "385/385 [==============================] - 6s 16ms/step - loss: 0.1130 - accuracy: 0.9566 - val_loss: 0.1013 - val_accuracy: 0.9567\n",
            "Epoch 5/20\n",
            "385/385 [==============================] - 6s 16ms/step - loss: 0.1116 - accuracy: 0.9579 - val_loss: 0.1001 - val_accuracy: 0.9587\n",
            "Epoch 6/20\n",
            "385/385 [==============================] - 6s 17ms/step - loss: 0.1125 - accuracy: 0.9584 - val_loss: 0.1009 - val_accuracy: 0.9600\n",
            "Epoch 7/20\n",
            "385/385 [==============================] - 6s 16ms/step - loss: 0.1087 - accuracy: 0.9569 - val_loss: 0.0917 - val_accuracy: 0.9629\n",
            "Epoch 8/20\n",
            "385/385 [==============================] - 6s 17ms/step - loss: 0.1076 - accuracy: 0.9592 - val_loss: 0.0915 - val_accuracy: 0.9610\n",
            "Epoch 9/20\n",
            "385/385 [==============================] - 6s 17ms/step - loss: 0.1106 - accuracy: 0.9587 - val_loss: 0.0919 - val_accuracy: 0.9619\n",
            "Epoch 10/20\n",
            "385/385 [==============================] - 6s 17ms/step - loss: 0.1076 - accuracy: 0.9598 - val_loss: 0.0967 - val_accuracy: 0.9590\n",
            "Epoch 11/20\n",
            "385/385 [==============================] - 6s 17ms/step - loss: 0.1091 - accuracy: 0.9575 - val_loss: 0.0956 - val_accuracy: 0.9606\n",
            "Epoch 12/20\n",
            "385/385 [==============================] - 6s 17ms/step - loss: 0.1102 - accuracy: 0.9587 - val_loss: 0.0867 - val_accuracy: 0.9662\n",
            "Epoch 13/20\n",
            "385/385 [==============================] - 6s 16ms/step - loss: 0.1075 - accuracy: 0.9601 - val_loss: 0.0871 - val_accuracy: 0.9645\n",
            "Epoch 14/20\n",
            "385/385 [==============================] - 6s 16ms/step - loss: 0.1048 - accuracy: 0.9607 - val_loss: 0.0911 - val_accuracy: 0.9642\n",
            "Epoch 15/20\n",
            "385/385 [==============================] - 6s 17ms/step - loss: 0.1056 - accuracy: 0.9633 - val_loss: 0.0889 - val_accuracy: 0.9632\n",
            "Epoch 16/20\n",
            "385/385 [==============================] - 6s 17ms/step - loss: 0.1013 - accuracy: 0.9610 - val_loss: 0.0839 - val_accuracy: 0.9681\n",
            "Epoch 17/20\n",
            "385/385 [==============================] - 6s 17ms/step - loss: 0.1019 - accuracy: 0.9626 - val_loss: 0.0849 - val_accuracy: 0.9652\n",
            "Epoch 18/20\n",
            "385/385 [==============================] - 6s 17ms/step - loss: 0.1041 - accuracy: 0.9610 - val_loss: 0.0879 - val_accuracy: 0.9629\n",
            "Epoch 19/20\n",
            "385/385 [==============================] - 6s 17ms/step - loss: 0.0993 - accuracy: 0.9636 - val_loss: 0.0856 - val_accuracy: 0.9671\n",
            "Epoch 20/20\n",
            "385/385 [==============================] - 6s 17ms/step - loss: 0.1028 - accuracy: 0.9611 - val_loss: 0.0878 - val_accuracy: 0.9645\n",
            "--- 127.74318623542786 seconds ----\n"
          ]
        }
      ]
    },
    {
      "cell_type": "markdown",
      "metadata": {
        "id": "teVtBMsmuVbn"
      },
      "source": [
        "Performance evaluation"
      ]
    },
    {
      "cell_type": "code",
      "metadata": {
        "id": "0Nx0UyFguVbn",
        "colab": {
          "base_uri": "https://localhost:8080/"
        },
        "outputId": "e0d1388f-8d0e-4817-ce34-3bd53608f157"
      },
      "source": [
        "acc_train_cnn = scores.mean()\n",
        "acc_test_cnn = model.evaluate(X_test, y_test)[1]\n",
        "\n",
        "print('\\nCNN: Accuracy on training Data: {:.3f}' .format(acc_train_cnn))\n",
        "print('CNN: Accuracy on test Data: {:.3f}' .format(acc_test_cnn))"
      ],
      "execution_count": null,
      "outputs": [
        {
          "output_type": "stream",
          "text": [
            "97/97 [==============================] - 0s 4ms/step - loss: 0.1045 - accuracy: 0.9584\n",
            "\n",
            "CNN: Accuracy on training Data: 0.986\n",
            "CNN: Accuracy on test Data: 0.958\n"
          ],
          "name": "stdout"
        }
      ]
    },
    {
      "cell_type": "markdown",
      "metadata": {
        "id": "IUauqAXruVbo"
      },
      "source": [
        "Storing the results"
      ]
    },
    {
      "cell_type": "code",
      "metadata": {
        "id": "rbVTraySuVbo"
      },
      "source": [
        "#storing the results. The below mentioned order of parameter passing is important.\n",
        "#Caution: Execute only once to avoid duplications.\n",
        "storeResults('CNN', acc_train_cnn, acc_test_cnn)"
      ],
      "execution_count": null,
      "outputs": []
    },
    {
      "cell_type": "markdown",
      "metadata": {
        "id": "LmCMvOa1uVbo"
      },
      "source": [
        "# Performance Comparison"
      ]
    },
    {
      "cell_type": "code",
      "metadata": {
        "id": "gOivpuwyuVbo",
        "colab": {
          "base_uri": "https://localhost:8080/",
          "height": 189
        },
        "outputId": "58ecd02b-85b3-4877-8f1a-6b1aa54477ec"
      },
      "source": [
        "#creating dataframe\n",
        "results = pd.DataFrame({ 'ML Model': ML_Model,    \n",
        "    'Train Accuracy': acc_train,\n",
        "    'Test Accuracy': acc_test})\n",
        "results"
      ],
      "execution_count": null,
      "outputs": [
        {
          "output_type": "execute_result",
          "data": {
            "text/html": [
              "<div>\n",
              "<style scoped>\n",
              "    .dataframe tbody tr th:only-of-type {\n",
              "        vertical-align: middle;\n",
              "    }\n",
              "\n",
              "    .dataframe tbody tr th {\n",
              "        vertical-align: top;\n",
              "    }\n",
              "\n",
              "    .dataframe thead th {\n",
              "        text-align: right;\n",
              "    }\n",
              "</style>\n",
              "<table border=\"1\" class=\"dataframe\">\n",
              "  <thead>\n",
              "    <tr style=\"text-align: right;\">\n",
              "      <th></th>\n",
              "      <th>ML Model</th>\n",
              "      <th>Train Accuracy</th>\n",
              "      <th>Test Accuracy</th>\n",
              "    </tr>\n",
              "  </thead>\n",
              "  <tbody>\n",
              "    <tr>\n",
              "      <th>0</th>\n",
              "      <td>Decision Tree</td>\n",
              "      <td>0.972</td>\n",
              "      <td>0.972</td>\n",
              "    </tr>\n",
              "    <tr>\n",
              "      <th>1</th>\n",
              "      <td>Random Forest</td>\n",
              "      <td>0.978</td>\n",
              "      <td>0.978</td>\n",
              "    </tr>\n",
              "    <tr>\n",
              "      <th>2</th>\n",
              "      <td>XGBoost</td>\n",
              "      <td>0.986</td>\n",
              "      <td>0.988</td>\n",
              "    </tr>\n",
              "    <tr>\n",
              "      <th>3</th>\n",
              "      <td>ANN</td>\n",
              "      <td>0.977</td>\n",
              "      <td>0.971</td>\n",
              "    </tr>\n",
              "    <tr>\n",
              "      <th>4</th>\n",
              "      <td>CNN</td>\n",
              "      <td>0.986</td>\n",
              "      <td>0.958</td>\n",
              "    </tr>\n",
              "  </tbody>\n",
              "</table>\n",
              "</div>"
            ],
            "text/plain": [
              "        ML Model  Train Accuracy  Test Accuracy\n",
              "0  Decision Tree           0.972          0.972\n",
              "1  Random Forest           0.978          0.978\n",
              "2        XGBoost           0.986          0.988\n",
              "3            ANN           0.977          0.971\n",
              "4            CNN           0.986          0.958"
            ]
          },
          "metadata": {
            "tags": []
          },
          "execution_count": 54
        }
      ]
    },
    {
      "cell_type": "code",
      "metadata": {
        "id": "pxL95O0EuVbo",
        "colab": {
          "base_uri": "https://localhost:8080/",
          "height": 189
        },
        "outputId": "cf1e2fbb-3192-46a9-d7bc-83e7b4784423"
      },
      "source": [
        "#Sorting the datafram on accuracy\n",
        "results.sort_values(by=['Test Accuracy', 'Train Accuracy'], ascending=False)"
      ],
      "execution_count": null,
      "outputs": [
        {
          "output_type": "execute_result",
          "data": {
            "text/html": [
              "<div>\n",
              "<style scoped>\n",
              "    .dataframe tbody tr th:only-of-type {\n",
              "        vertical-align: middle;\n",
              "    }\n",
              "\n",
              "    .dataframe tbody tr th {\n",
              "        vertical-align: top;\n",
              "    }\n",
              "\n",
              "    .dataframe thead th {\n",
              "        text-align: right;\n",
              "    }\n",
              "</style>\n",
              "<table border=\"1\" class=\"dataframe\">\n",
              "  <thead>\n",
              "    <tr style=\"text-align: right;\">\n",
              "      <th></th>\n",
              "      <th>ML Model</th>\n",
              "      <th>Train Accuracy</th>\n",
              "      <th>Test Accuracy</th>\n",
              "    </tr>\n",
              "  </thead>\n",
              "  <tbody>\n",
              "    <tr>\n",
              "      <th>2</th>\n",
              "      <td>XGBoost</td>\n",
              "      <td>0.986</td>\n",
              "      <td>0.988</td>\n",
              "    </tr>\n",
              "    <tr>\n",
              "      <th>1</th>\n",
              "      <td>Random Forest</td>\n",
              "      <td>0.978</td>\n",
              "      <td>0.978</td>\n",
              "    </tr>\n",
              "    <tr>\n",
              "      <th>0</th>\n",
              "      <td>Decision Tree</td>\n",
              "      <td>0.972</td>\n",
              "      <td>0.972</td>\n",
              "    </tr>\n",
              "    <tr>\n",
              "      <th>3</th>\n",
              "      <td>ANN</td>\n",
              "      <td>0.977</td>\n",
              "      <td>0.971</td>\n",
              "    </tr>\n",
              "    <tr>\n",
              "      <th>4</th>\n",
              "      <td>CNN</td>\n",
              "      <td>0.986</td>\n",
              "      <td>0.958</td>\n",
              "    </tr>\n",
              "  </tbody>\n",
              "</table>\n",
              "</div>"
            ],
            "text/plain": [
              "        ML Model  Train Accuracy  Test Accuracy\n",
              "2        XGBoost           0.986          0.988\n",
              "1  Random Forest           0.978          0.978\n",
              "0  Decision Tree           0.972          0.972\n",
              "3            ANN           0.977          0.971\n",
              "4            CNN           0.986          0.958"
            ]
          },
          "metadata": {
            "tags": []
          },
          "execution_count": 55
        }
      ]
    },
    {
      "cell_type": "code",
      "metadata": {
        "id": "7WskwuXiTQb3"
      },
      "source": [
        "# # Save model\n",
        "# model.save(\"CNN-Antiphishing\")"
      ],
      "execution_count": null,
      "outputs": []
    }
  ]
}