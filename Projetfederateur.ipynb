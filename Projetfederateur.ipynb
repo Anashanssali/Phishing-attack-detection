{
  "nbformat": 4,
  "nbformat_minor": 0,
  "metadata": {
    "accelerator": "TPU",
    "colab": {
      "name": "ProjetPhishing.ipynb",
      "provenance": [],
      "collapsed_sections": []
    },
    "kernelspec": {
      "display_name": "Python 3",
      "language": "python",
      "name": "python3"
    },
    "language_info": {
      "codemirror_mode": {
        "name": "ipython",
        "version": 3
      },
      "file_extension": ".py",
      "mimetype": "text/x-python",
      "name": "python",
      "nbconvert_exporter": "python",
      "pygments_lexer": "ipython3",
      "version": "3.8.3"
    }
  },
  "cells": [
    {
      "cell_type": "markdown",
      "metadata": {
        "id": "4fJGXBLmdr36"
      },
      "source": [
        "# **Phishing Website Detection Feature Extraction**\n"
      ]
    },
    {
      "cell_type": "markdown",
      "metadata": {
        "id": "PN1d1nUrd1Wz"
      },
      "source": [
        "\n",
        "**1.   Data collection**\n",
        "For this project, we need a bunch of urls of type legitimate (0) and phishing (1).\n",
        "\n",
        "The collection of phishing urls is rather easy because of the opensource service called PhishTank. This service provide a set of phishing URLs in multiple formats like csv, json etc. that gets updated hourly. To download the data: https://www.phishtank.com/developer_info.php\n",
        "\n",
        "For the legitimate URLs, I found a source that has a collection of benign, spam, phishing, malware & defacement URLs. The source of the dataset is University of New Brunswick, https://www.unb.ca/cic/datasets/url-2016.html. The number of legitimate URLs in this collection are 35,300. The URL collection is downloaded & from that, 'Benign_list_big_final.csv' is the file of our interest. This file is then uploaded to the Colab for the feature extraction.\n",
        "\n"
      ]
    },
    {
      "cell_type": "code",
      "metadata": {
        "id": "XZ5xAVSha0Ds"
      },
      "source": [
        "#importing required packages for this module\n",
        "import pandas as pd"
      ],
      "execution_count": null,
      "outputs": []
    },
    {
      "cell_type": "code",
      "metadata": {
        "colab": {
          "base_uri": "https://localhost:8080/"
        },
        "id": "Sk61yra9eIQK",
        "outputId": "365f2804-60db-41eb-c43a-358f767c2924"
      },
      "source": [
        "#Downloading the phishing URLs file\n",
        "!wget http://data.phishtank.com/data/online-valid.csv"
      ],
      "execution_count": null,
      "outputs": [
        {
          "output_type": "stream",
          "name": "stdout",
          "text": [
            "URL transformed to HTTPS due to an HSTS policy\n",
            "--2021-10-15 11:41:35--  https://data.phishtank.com/data/online-valid.csv\n",
            "Resolving data.phishtank.com (data.phishtank.com)... 104.16.101.75, 104.17.177.85, 2606:4700::6810:654b, ...\n",
            "Connecting to data.phishtank.com (data.phishtank.com)|104.16.101.75|:443... connected.\n",
            "HTTP request sent, awaiting response... 302 Found\n",
            "Location: https://cdn.phishtank.com/datadumps/verified_online.csv?Expires=1634298105&Signature=tH2pHjecADN9oIzIWqCNGi7kW7aqwtMX7HNzPKKXGGLBn0o3kCNnQ63DPnkpoc9DXhKt1GoYv8WOAjEvbxq6pyW4gT30ij8j-KvpquxRyvXoRApPpY~i83~E-rK9rOaNFmNPcn7GWyPTaI9FvekdqCqhsbGL5H3KJgcRxcUl4-ptfqa4~lchgSQ5GkeQu~yCjPMnipGmg3GUGOEy~xZEiOcThUhagim9N93ifjwdDuTZbc2Kk2aERfO4Tc0DZ1q8HOhtUneQTy-ZkdnBYiWbbibdZ4cKy6bE3O5qjHXopb-prvyWk~M6lX8Oh2nagioqE7o30TuDP3j9SBUJa3-7IA__&Key-Pair-Id=APKAILB45UG3RB4CSOJA [following]\n",
            "--2021-10-15 11:41:35--  https://cdn.phishtank.com/datadumps/verified_online.csv?Expires=1634298105&Signature=tH2pHjecADN9oIzIWqCNGi7kW7aqwtMX7HNzPKKXGGLBn0o3kCNnQ63DPnkpoc9DXhKt1GoYv8WOAjEvbxq6pyW4gT30ij8j-KvpquxRyvXoRApPpY~i83~E-rK9rOaNFmNPcn7GWyPTaI9FvekdqCqhsbGL5H3KJgcRxcUl4-ptfqa4~lchgSQ5GkeQu~yCjPMnipGmg3GUGOEy~xZEiOcThUhagim9N93ifjwdDuTZbc2Kk2aERfO4Tc0DZ1q8HOhtUneQTy-ZkdnBYiWbbibdZ4cKy6bE3O5qjHXopb-prvyWk~M6lX8Oh2nagioqE7o30TuDP3j9SBUJa3-7IA__&Key-Pair-Id=APKAILB45UG3RB4CSOJA\n",
            "Resolving cdn.phishtank.com (cdn.phishtank.com)... 104.16.101.75, 104.17.177.85, 2606:4700::6811:b155, ...\n",
            "Connecting to cdn.phishtank.com (cdn.phishtank.com)|104.16.101.75|:443... connected.\n",
            "HTTP request sent, awaiting response... 200 OK\n",
            "Length: unspecified [text/csv]\n",
            "Saving to: ‘online-valid.csv’\n",
            "\n",
            "online-valid.csv        [ <=>                ]   2.32M  --.-KB/s    in 0.08s   \n",
            "\n",
            "2021-10-15 11:41:35 (30.9 MB/s) - ‘online-valid.csv’ saved [2432945]\n",
            "\n"
          ]
        }
      ]
    },
    {
      "cell_type": "code",
      "metadata": {
        "colab": {
          "base_uri": "https://localhost:8080/",
          "height": 207
        },
        "id": "LtiNXxcfeLIN",
        "outputId": "c2679483-f8e8-4e8e-9968-69b86e400044"
      },
      "source": [
        "#loading the phishing URLs data to dataframe\n",
        "data0 = pd.read_csv(\"online-valid.csv\")\n",
        "data0.head()"
      ],
      "execution_count": null,
      "outputs": [
        {
          "output_type": "execute_result",
          "data": {
            "text/html": [
              "<div>\n",
              "<style scoped>\n",
              "    .dataframe tbody tr th:only-of-type {\n",
              "        vertical-align: middle;\n",
              "    }\n",
              "\n",
              "    .dataframe tbody tr th {\n",
              "        vertical-align: top;\n",
              "    }\n",
              "\n",
              "    .dataframe thead th {\n",
              "        text-align: right;\n",
              "    }\n",
              "</style>\n",
              "<table border=\"1\" class=\"dataframe\">\n",
              "  <thead>\n",
              "    <tr style=\"text-align: right;\">\n",
              "      <th></th>\n",
              "      <th>phish_id</th>\n",
              "      <th>url</th>\n",
              "      <th>phish_detail_url</th>\n",
              "      <th>submission_time</th>\n",
              "      <th>verified</th>\n",
              "      <th>verification_time</th>\n",
              "      <th>online</th>\n",
              "      <th>target</th>\n",
              "    </tr>\n",
              "  </thead>\n",
              "  <tbody>\n",
              "    <tr>\n",
              "      <th>0</th>\n",
              "      <td>7321103</td>\n",
              "      <td>https://btinternethomes.weebly.com/</td>\n",
              "      <td>http://www.phishtank.com/phish_detail.php?phis...</td>\n",
              "      <td>2021-10-15T11:15:48+00:00</td>\n",
              "      <td>yes</td>\n",
              "      <td>2021-10-15T11:18:54+00:00</td>\n",
              "      <td>yes</td>\n",
              "      <td>Other</td>\n",
              "    </tr>\n",
              "    <tr>\n",
              "      <th>1</th>\n",
              "      <td>7321102</td>\n",
              "      <td>https://amaznon.co.ip.jpb1ukk.cn/</td>\n",
              "      <td>http://www.phishtank.com/phish_detail.php?phis...</td>\n",
              "      <td>2021-10-15T11:13:15+00:00</td>\n",
              "      <td>yes</td>\n",
              "      <td>2021-10-15T11:18:54+00:00</td>\n",
              "      <td>yes</td>\n",
              "      <td>Other</td>\n",
              "    </tr>\n",
              "    <tr>\n",
              "      <th>2</th>\n",
              "      <td>7321100</td>\n",
              "      <td>https://gtyjfcdr666.weebly.com/</td>\n",
              "      <td>http://www.phishtank.com/phish_detail.php?phis...</td>\n",
              "      <td>2021-10-15T11:08:49+00:00</td>\n",
              "      <td>yes</td>\n",
              "      <td>2021-10-15T11:18:54+00:00</td>\n",
              "      <td>yes</td>\n",
              "      <td>Other</td>\n",
              "    </tr>\n",
              "    <tr>\n",
              "      <th>3</th>\n",
              "      <td>7321099</td>\n",
              "      <td>https://west96coxdm.weebly.com/</td>\n",
              "      <td>http://www.phishtank.com/phish_detail.php?phis...</td>\n",
              "      <td>2021-10-15T11:08:35+00:00</td>\n",
              "      <td>yes</td>\n",
              "      <td>2021-10-15T11:18:54+00:00</td>\n",
              "      <td>yes</td>\n",
              "      <td>Other</td>\n",
              "    </tr>\n",
              "    <tr>\n",
              "      <th>4</th>\n",
              "      <td>7321098</td>\n",
              "      <td>https://coxalershsjena.weebly.com/</td>\n",
              "      <td>http://www.phishtank.com/phish_detail.php?phis...</td>\n",
              "      <td>2021-10-15T11:08:28+00:00</td>\n",
              "      <td>yes</td>\n",
              "      <td>2021-10-15T11:18:54+00:00</td>\n",
              "      <td>yes</td>\n",
              "      <td>Other</td>\n",
              "    </tr>\n",
              "  </tbody>\n",
              "</table>\n",
              "</div>"
            ],
            "text/plain": [
              "   phish_id                                  url  ... online target\n",
              "0   7321103  https://btinternethomes.weebly.com/  ...    yes  Other\n",
              "1   7321102    https://amaznon.co.ip.jpb1ukk.cn/  ...    yes  Other\n",
              "2   7321100      https://gtyjfcdr666.weebly.com/  ...    yes  Other\n",
              "3   7321099      https://west96coxdm.weebly.com/  ...    yes  Other\n",
              "4   7321098   https://coxalershsjena.weebly.com/  ...    yes  Other\n",
              "\n",
              "[5 rows x 8 columns]"
            ]
          },
          "metadata": {},
          "execution_count": 5
        }
      ]
    },
    {
      "cell_type": "code",
      "metadata": {
        "colab": {
          "base_uri": "https://localhost:8080/"
        },
        "id": "A0mJG30PeNxc",
        "outputId": "ca7b88cb-6bd3-4e08-a93e-736c2315d8ac"
      },
      "source": [
        "data0.shape"
      ],
      "execution_count": null,
      "outputs": [
        {
          "output_type": "execute_result",
          "data": {
            "text/plain": [
              "(11934, 8)"
            ]
          },
          "metadata": {},
          "execution_count": 6
        }
      ]
    },
    {
      "cell_type": "code",
      "metadata": {
        "colab": {
          "base_uri": "https://localhost:8080/",
          "height": 207
        },
        "id": "ZtHt2ivweQ1X",
        "outputId": "0107e797-cc60-4125-ac00-3eb8db309f54"
      },
      "source": [
        "#Collecting 5,000 Phishing URLs randomly\n",
        "phishurl = data0.sample(n = 5000, random_state = 12).copy()\n",
        "phishurl = phishurl.reset_index(drop=True)\n",
        "phishurl.head()"
      ],
      "execution_count": null,
      "outputs": [
        {
          "output_type": "execute_result",
          "data": {
            "text/html": [
              "<div>\n",
              "<style scoped>\n",
              "    .dataframe tbody tr th:only-of-type {\n",
              "        vertical-align: middle;\n",
              "    }\n",
              "\n",
              "    .dataframe tbody tr th {\n",
              "        vertical-align: top;\n",
              "    }\n",
              "\n",
              "    .dataframe thead th {\n",
              "        text-align: right;\n",
              "    }\n",
              "</style>\n",
              "<table border=\"1\" class=\"dataframe\">\n",
              "  <thead>\n",
              "    <tr style=\"text-align: right;\">\n",
              "      <th></th>\n",
              "      <th>phish_id</th>\n",
              "      <th>url</th>\n",
              "      <th>phish_detail_url</th>\n",
              "      <th>submission_time</th>\n",
              "      <th>verified</th>\n",
              "      <th>verification_time</th>\n",
              "      <th>online</th>\n",
              "      <th>target</th>\n",
              "    </tr>\n",
              "  </thead>\n",
              "  <tbody>\n",
              "    <tr>\n",
              "      <th>0</th>\n",
              "      <td>7150046</td>\n",
              "      <td>http://kurdistan-gallery.com/suffix.php</td>\n",
              "      <td>http://www.phishtank.com/phish_detail.php?phis...</td>\n",
              "      <td>2021-06-01T19:30:12+00:00</td>\n",
              "      <td>yes</td>\n",
              "      <td>2021-07-23T13:44:01+00:00</td>\n",
              "      <td>yes</td>\n",
              "      <td>Other</td>\n",
              "    </tr>\n",
              "    <tr>\n",
              "      <th>1</th>\n",
              "      <td>7035087</td>\n",
              "      <td>http://www.support-verify-mydevices.com/Login.php</td>\n",
              "      <td>http://www.phishtank.com/phish_detail.php?phis...</td>\n",
              "      <td>2021-03-19T14:05:29+00:00</td>\n",
              "      <td>yes</td>\n",
              "      <td>2021-03-19T20:36:35+00:00</td>\n",
              "      <td>yes</td>\n",
              "      <td>Other</td>\n",
              "    </tr>\n",
              "    <tr>\n",
              "      <th>2</th>\n",
              "      <td>7173822</td>\n",
              "      <td>https://durablepools.com/bbsts/loading.php</td>\n",
              "      <td>http://www.phishtank.com/phish_detail.php?phis...</td>\n",
              "      <td>2021-06-14T04:46:51+00:00</td>\n",
              "      <td>yes</td>\n",
              "      <td>2021-06-14T04:51:44+00:00</td>\n",
              "      <td>yes</td>\n",
              "      <td>Other</td>\n",
              "    </tr>\n",
              "    <tr>\n",
              "      <th>3</th>\n",
              "      <td>7001123</td>\n",
              "      <td>https://www.umbrellaclubla.com/8sf7f57sf687a68...</td>\n",
              "      <td>http://www.phishtank.com/phish_detail.php?phis...</td>\n",
              "      <td>2021-03-05T02:08:50+00:00</td>\n",
              "      <td>yes</td>\n",
              "      <td>2021-03-07T20:31:30+00:00</td>\n",
              "      <td>yes</td>\n",
              "      <td>Other</td>\n",
              "    </tr>\n",
              "    <tr>\n",
              "      <th>4</th>\n",
              "      <td>6662284</td>\n",
              "      <td>http://gkjx168.com/images?us.battle.net/login/...</td>\n",
              "      <td>http://www.phishtank.com/phish_detail.php?phis...</td>\n",
              "      <td>2020-07-04T19:00:25+00:00</td>\n",
              "      <td>yes</td>\n",
              "      <td>2020-07-04T19:03:38+00:00</td>\n",
              "      <td>yes</td>\n",
              "      <td>Other</td>\n",
              "    </tr>\n",
              "  </tbody>\n",
              "</table>\n",
              "</div>"
            ],
            "text/plain": [
              "   phish_id                                                url  ... online target\n",
              "0   7150046            http://kurdistan-gallery.com/suffix.php  ...    yes  Other\n",
              "1   7035087  http://www.support-verify-mydevices.com/Login.php  ...    yes  Other\n",
              "2   7173822         https://durablepools.com/bbsts/loading.php  ...    yes  Other\n",
              "3   7001123  https://www.umbrellaclubla.com/8sf7f57sf687a68...  ...    yes  Other\n",
              "4   6662284  http://gkjx168.com/images?us.battle.net/login/...  ...    yes  Other\n",
              "\n",
              "[5 rows x 8 columns]"
            ]
          },
          "metadata": {},
          "execution_count": 7
        }
      ]
    },
    {
      "cell_type": "code",
      "metadata": {
        "colab": {
          "base_uri": "https://localhost:8080/"
        },
        "id": "o5e8ON63eRiz",
        "outputId": "668ffb71-5c94-4933-99a1-1547dee44a86"
      },
      "source": [
        "phishurl.shape"
      ],
      "execution_count": null,
      "outputs": [
        {
          "output_type": "execute_result",
          "data": {
            "text/plain": [
              "(5000, 8)"
            ]
          },
          "metadata": {},
          "execution_count": 8
        }
      ]
    },
    {
      "cell_type": "markdown",
      "metadata": {
        "id": "vfzg6L26eW-0"
      },
      "source": [
        "## **1.1. Legitimate URLs:**\n",
        "\n"
      ]
    },
    {
      "cell_type": "code",
      "metadata": {
        "colab": {
          "base_uri": "https://localhost:8080/",
          "height": 207
        },
        "id": "MFEWbRrVeTKB",
        "outputId": "a7f9b380-dd1a-4b75-da3b-442c82bf367e"
      },
      "source": [
        "#Loading legitimate files \n",
        "data1 = pd.read_csv(\"Benign_list_big_final.csv\")\n",
        "data1.columns = ['URLs']\n",
        "data1.head()"
      ],
      "execution_count": null,
      "outputs": [
        {
          "output_type": "execute_result",
          "data": {
            "text/html": [
              "<div>\n",
              "<style scoped>\n",
              "    .dataframe tbody tr th:only-of-type {\n",
              "        vertical-align: middle;\n",
              "    }\n",
              "\n",
              "    .dataframe tbody tr th {\n",
              "        vertical-align: top;\n",
              "    }\n",
              "\n",
              "    .dataframe thead th {\n",
              "        text-align: right;\n",
              "    }\n",
              "</style>\n",
              "<table border=\"1\" class=\"dataframe\">\n",
              "  <thead>\n",
              "    <tr style=\"text-align: right;\">\n",
              "      <th></th>\n",
              "      <th>URLs</th>\n",
              "    </tr>\n",
              "  </thead>\n",
              "  <tbody>\n",
              "    <tr>\n",
              "      <th>0</th>\n",
              "      <td>http://1337x.to/torrent/1110018/Blackhat-2015-...</td>\n",
              "    </tr>\n",
              "    <tr>\n",
              "      <th>1</th>\n",
              "      <td>http://1337x.to/torrent/1122940/Blackhat-2015-...</td>\n",
              "    </tr>\n",
              "    <tr>\n",
              "      <th>2</th>\n",
              "      <td>http://1337x.to/torrent/1124395/Fast-and-Furio...</td>\n",
              "    </tr>\n",
              "    <tr>\n",
              "      <th>3</th>\n",
              "      <td>http://1337x.to/torrent/1145504/Avengers-Age-o...</td>\n",
              "    </tr>\n",
              "    <tr>\n",
              "      <th>4</th>\n",
              "      <td>http://1337x.to/torrent/1160078/Avengers-age-o...</td>\n",
              "    </tr>\n",
              "  </tbody>\n",
              "</table>\n",
              "</div>"
            ],
            "text/plain": [
              "                                                URLs\n",
              "0  http://1337x.to/torrent/1110018/Blackhat-2015-...\n",
              "1  http://1337x.to/torrent/1122940/Blackhat-2015-...\n",
              "2  http://1337x.to/torrent/1124395/Fast-and-Furio...\n",
              "3  http://1337x.to/torrent/1145504/Avengers-Age-o...\n",
              "4  http://1337x.to/torrent/1160078/Avengers-age-o..."
            ]
          },
          "metadata": {},
          "execution_count": 10
        }
      ]
    },
    {
      "cell_type": "markdown",
      "metadata": {
        "id": "HF4e2e4Zeyna"
      },
      "source": [
        "As stated above, 5000 legitimate URLs are randomaly picked from the above datafram\n"
      ]
    },
    {
      "cell_type": "code",
      "metadata": {
        "colab": {
          "base_uri": "https://localhost:8080/",
          "height": 207
        },
        "id": "omMB09SXeqWv",
        "outputId": "68664bb7-f68a-45a3-ff27-41091c587207"
      },
      "source": [
        "#Collecting 5,000 Legitimate URLs randomly\n",
        "legiurl = data1.sample(n = 5000, random_state = 12).copy()\n",
        "legiurl = legiurl.reset_index(drop=True)\n",
        "legiurl.head()"
      ],
      "execution_count": null,
      "outputs": [
        {
          "output_type": "execute_result",
          "data": {
            "text/html": [
              "<div>\n",
              "<style scoped>\n",
              "    .dataframe tbody tr th:only-of-type {\n",
              "        vertical-align: middle;\n",
              "    }\n",
              "\n",
              "    .dataframe tbody tr th {\n",
              "        vertical-align: top;\n",
              "    }\n",
              "\n",
              "    .dataframe thead th {\n",
              "        text-align: right;\n",
              "    }\n",
              "</style>\n",
              "<table border=\"1\" class=\"dataframe\">\n",
              "  <thead>\n",
              "    <tr style=\"text-align: right;\">\n",
              "      <th></th>\n",
              "      <th>URLs</th>\n",
              "    </tr>\n",
              "  </thead>\n",
              "  <tbody>\n",
              "    <tr>\n",
              "      <th>0</th>\n",
              "      <td>http://graphicriver.net/search?date=this-month...</td>\n",
              "    </tr>\n",
              "    <tr>\n",
              "      <th>1</th>\n",
              "      <td>http://ecnavi.jp/redirect/?url=http://www.cros...</td>\n",
              "    </tr>\n",
              "    <tr>\n",
              "      <th>2</th>\n",
              "      <td>https://hubpages.com/signin?explain=follow+Hub...</td>\n",
              "    </tr>\n",
              "    <tr>\n",
              "      <th>3</th>\n",
              "      <td>http://extratorrent.cc/torrent/4190536/AOMEI+B...</td>\n",
              "    </tr>\n",
              "    <tr>\n",
              "      <th>4</th>\n",
              "      <td>http://icicibank.com/Personal-Banking/offers/o...</td>\n",
              "    </tr>\n",
              "  </tbody>\n",
              "</table>\n",
              "</div>"
            ],
            "text/plain": [
              "                                                URLs\n",
              "0  http://graphicriver.net/search?date=this-month...\n",
              "1  http://ecnavi.jp/redirect/?url=http://www.cros...\n",
              "2  https://hubpages.com/signin?explain=follow+Hub...\n",
              "3  http://extratorrent.cc/torrent/4190536/AOMEI+B...\n",
              "4  http://icicibank.com/Personal-Banking/offers/o..."
            ]
          },
          "metadata": {},
          "execution_count": 11
        }
      ]
    },
    {
      "cell_type": "code",
      "metadata": {
        "colab": {
          "base_uri": "https://localhost:8080/"
        },
        "id": "DTrCsZ_Be3_j",
        "outputId": "be0347bc-9b2f-41da-c37b-f08a091a1046"
      },
      "source": [
        "legiurl.shape"
      ],
      "execution_count": null,
      "outputs": [
        {
          "output_type": "execute_result",
          "data": {
            "text/plain": [
              "(5000, 1)"
            ]
          },
          "metadata": {},
          "execution_count": 12
        }
      ]
    },
    {
      "cell_type": "markdown",
      "metadata": {
        "id": "_prskgMGe9YS"
      },
      "source": [
        "# **2. Feature Extraction:**\n",
        "\n",
        "In this step, features are extracted from the URLs dataset.\n",
        "\n",
        "The extracted features are categorized into\n",
        "\n",
        "\n",
        "1.   Address Bar based Features\n",
        "2.   Domain based Features\n",
        "3.   HTML & Javascript based Features"
      ]
    },
    {
      "cell_type": "code",
      "metadata": {
        "id": "jSKvRACqfCJf"
      },
      "source": [
        "# importing required packages for this section\n",
        "from urllib.parse import urlparse,urlencode\n",
        "import ipaddress\n",
        "import re"
      ],
      "execution_count": null,
      "outputs": []
    },
    {
      "cell_type": "code",
      "metadata": {
        "id": "RwGLUUuvf_On"
      },
      "source": [
        "# 1.Domain of the URL (Domain) \n",
        "def getDomain(url):  \n",
        "  domain = urlparse(url).netloc\n",
        "  if re.match(r\"^www.\",domain):\n",
        "\t       domain = domain.replace(\"www.\",\"\")\n",
        "  return domain"
      ],
      "execution_count": null,
      "outputs": []
    },
    {
      "cell_type": "code",
      "metadata": {
        "id": "-hIHLGV2f5_Z"
      },
      "source": [
        "# 2.Checks for IP address in URL (Have_IP)\n",
        "def havingIP(url):\n",
        "  try:\n",
        "    ipaddress.ip_address(url)\n",
        "    ip = 1\n",
        "  except:\n",
        "    ip = 0\n",
        "  return ip\n"
      ],
      "execution_count": null,
      "outputs": []
    },
    {
      "cell_type": "code",
      "metadata": {
        "id": "vqpgAMTSf7zi"
      },
      "source": [
        "# 3.Checks the presence of @ in URL (Have_At)\n",
        "def haveAtSign(url):\n",
        "  if \"@\" in url:\n",
        "    at = 1    \n",
        "  else:\n",
        "    at = 0    \n",
        "  return at"
      ],
      "execution_count": null,
      "outputs": []
    },
    {
      "cell_type": "code",
      "metadata": {
        "id": "-Groro7qgNnI"
      },
      "source": [
        "# 4.Finding the length of URL and categorizing (URL_Length)\n",
        "def getLength(url):\n",
        "  if len(url) < 54:\n",
        "    length = 0            \n",
        "  else:\n",
        "    length = 1            \n",
        "  return length"
      ],
      "execution_count": null,
      "outputs": []
    },
    {
      "cell_type": "code",
      "metadata": {
        "id": "ZB1bVupegQ-V"
      },
      "source": [
        "# 5.Gives number of '/' in URL (URL_Depth)\n",
        "def getDepth(url):\n",
        "  s = urlparse(url).path.split('/')\n",
        "  depth = 0\n",
        "  for j in range(len(s)):\n",
        "    if len(s[j]) != 0:\n",
        "      depth = depth+1\n",
        "  return depth"
      ],
      "execution_count": null,
      "outputs": []
    },
    {
      "cell_type": "code",
      "metadata": {
        "id": "kOLxq8zpgVbW"
      },
      "source": [
        "# 6.Existence of “HTTPS” Token in the Domain Part of the URL (https_Domain)\n",
        "def httpDomain(url):\n",
        "  domain = urlparse(url).netloc\n",
        "  if 'https' in domain:\n",
        "    return 1\n",
        "  else:\n",
        "    return 0"
      ],
      "execution_count": null,
      "outputs": []
    },
    {
      "cell_type": "code",
      "metadata": {
        "id": "gnrkaiKTgakx"
      },
      "source": [
        "#listing shortening services\n",
        "shortening_services = r\"bit\\.ly|goo\\.gl|shorte\\.st|go2l\\.ink|x\\.co|ow\\.ly|t\\.co|tinyurl|tr\\.im|is\\.gd|cli\\.gs|\" \\\n",
        "                      r\"yfrog\\.com|migre\\.me|ff\\.im|tiny\\.cc|url4\\.eu|twit\\.ac|su\\.pr|twurl\\.nl|snipurl\\.com|\" \\\n",
        "                      r\"short\\.to|BudURL\\.com|ping\\.fm|post\\.ly|Just\\.as|bkite\\.com|snipr\\.com|fic\\.kr|loopt\\.us|\" \\\n",
        "                      r\"doiop\\.com|short\\.ie|kl\\.am|wp\\.me|rubyurl\\.com|om\\.ly|to\\.ly|bit\\.do|t\\.co|lnkd\\.in|db\\.tt|\" \\\n",
        "                      r\"qr\\.ae|adf\\.ly|goo\\.gl|bitly\\.com|cur\\.lv|tinyurl\\.com|ow\\.ly|bit\\.ly|ity\\.im|q\\.gs|is\\.gd|\" \\\n",
        "                      r\"po\\.st|bc\\.vc|twitthis\\.com|u\\.to|j\\.mp|buzurl\\.com|cutt\\.us|u\\.bb|yourls\\.org|x\\.co|\" \\\n",
        "                      r\"prettylinkpro\\.com|scrnch\\.me|filoops\\.info|vzturl\\.com|qr\\.net|1url\\.com|tweez\\.me|v\\.gd|\" \\\n",
        "                      r\"tr\\.im|link\\.zip\\.net\""
      ],
      "execution_count": null,
      "outputs": []
    },
    {
      "cell_type": "code",
      "metadata": {
        "id": "DTv6LSfcghV6"
      },
      "source": [
        "# 7. Checking for Shortening Services in URL (Tiny_URL)\n",
        "def tinyURL(url):\n",
        "    match=re.search(shortening_services,url)\n",
        "    if match:\n",
        "        return 1\n",
        "    else:\n",
        "        return 0"
      ],
      "execution_count": null,
      "outputs": []
    },
    {
      "cell_type": "code",
      "metadata": {
        "id": "taT4W44Ogk4f"
      },
      "source": [
        "# 8.Checking for Prefix or Suffix Separated by (-) in the Domain (Prefix/Suffix)\n",
        "def prefixSuffix(url):\n",
        "    if '-' in urlparse(url).netloc:\n",
        "        return 1            # phishing\n",
        "    else:\n",
        "        return 0            # legitimate"
      ],
      "execution_count": null,
      "outputs": []
    },
    {
      "cell_type": "code",
      "metadata": {
        "colab": {
          "base_uri": "https://localhost:8080/"
        },
        "id": "v-VwWWPygrQq",
        "outputId": "1aef540e-8480-45c0-96d4-12403bb22dbf"
      },
      "source": [
        "!pip install python-whois"
      ],
      "execution_count": null,
      "outputs": [
        {
          "output_type": "stream",
          "name": "stdout",
          "text": [
            "Collecting python-whois\n",
            "  Downloading python-whois-0.7.3.tar.gz (91 kB)\n",
            "\u001b[?25l\r\u001b[K     |███▋                            | 10 kB 21.9 MB/s eta 0:00:01\r\u001b[K     |███████▏                        | 20 kB 28.4 MB/s eta 0:00:01\r\u001b[K     |██████████▊                     | 30 kB 13.8 MB/s eta 0:00:01\r\u001b[K     |██████████████▎                 | 40 kB 10.5 MB/s eta 0:00:01\r\u001b[K     |██████████████████              | 51 kB 5.7 MB/s eta 0:00:01\r\u001b[K     |█████████████████████▌          | 61 kB 5.8 MB/s eta 0:00:01\r\u001b[K     |█████████████████████████       | 71 kB 5.4 MB/s eta 0:00:01\r\u001b[K     |████████████████████████████▋   | 81 kB 6.0 MB/s eta 0:00:01\r\u001b[K     |████████████████████████████████| 91 kB 3.8 MB/s \n",
            "\u001b[?25hRequirement already satisfied: future in /usr/local/lib/python3.7/dist-packages (from python-whois) (0.16.0)\n",
            "Building wheels for collected packages: python-whois\n",
            "  Building wheel for python-whois (setup.py) ... \u001b[?25l\u001b[?25hdone\n",
            "  Created wheel for python-whois: filename=python_whois-0.7.3-py3-none-any.whl size=87721 sha256=87bc4c60ea3069c2f6c4643c0955507c6222351f7f5da89659ccfef5e91996c9\n",
            "  Stored in directory: /root/.cache/pip/wheels/11/05/f7/895ce5a73665f77c8274a7d55e34fb3e6b4abbb9a7637e215b\n",
            "Successfully built python-whois\n",
            "Installing collected packages: python-whois\n",
            "Successfully installed python-whois-0.7.3\n"
          ]
        }
      ]
    },
    {
      "cell_type": "code",
      "metadata": {
        "id": "zKa7WT2ngsmX"
      },
      "source": [
        "# importing required packages for this section\n",
        "import re\n",
        "from bs4 import BeautifulSoup\n",
        "import whois\n",
        "import urllib\n",
        "import urllib.request\n",
        "from datetime import datetime"
      ],
      "execution_count": null,
      "outputs": []
    },
    {
      "cell_type": "code",
      "metadata": {
        "id": "qKE46pYwguKo"
      },
      "source": [
        "# 9.Web traffic (Web_Traffic)\n",
        "def web_traffic(url):\n",
        "  try:\n",
        "    #Filling the whitespaces in the URL if any\n",
        "    url = urllib.parse.quote(url)\n",
        "    rank = BeautifulSoup(urllib.request.urlopen(\"http://data.alexa.com/data?cli=10&dat=s&url=\" + url).read(), \"xml\").find(\n",
        "        \"REACH\")['RANK']\n",
        "    rank = int(rank)\n",
        "  except TypeError:\n",
        "        return 1\n",
        "  if rank <100000:\n",
        "    return 1\n",
        "  else:\n",
        "    return 0"
      ],
      "execution_count": null,
      "outputs": []
    },
    {
      "cell_type": "code",
      "metadata": {
        "id": "XUfUalozg1oS"
      },
      "source": [
        "# 10.Survival time of domain: The difference between termination time and creation time (Domain_Age)  \n",
        "def domainAge(domain_name):\n",
        "  creation_date = domain_name.creation_date\n",
        "  expiration_date = domain_name.expiration_date\n",
        "  if (isinstance(creation_date,str) or isinstance(expiration_date,str)):\n",
        "    try:\n",
        "      creation_date = datetime.strptime(creation_date,'%Y-%m-%d')\n",
        "      expiration_date = datetime.strptime(expiration_date,\"%Y-%m-%d\")\n",
        "    except:\n",
        "      return 1\n",
        "  if ((expiration_date is None) or (creation_date is None)):\n",
        "      return 1\n",
        "  elif ((type(expiration_date) is list) or (type(creation_date) is list)):\n",
        "      return 1\n",
        "  else:\n",
        "    ageofdomain = abs((expiration_date - creation_date).days)\n",
        "    if ((ageofdomain/30) < 6):\n",
        "      age = 1\n",
        "    else:\n",
        "      age = 0\n",
        "  return age"
      ],
      "execution_count": null,
      "outputs": []
    },
    {
      "cell_type": "markdown",
      "metadata": {
        "id": "EyR7i8JHhR9x"
      },
      "source": [
        "# Computing URL features"
      ]
    },
    {
      "cell_type": "code",
      "metadata": {
        "id": "YVrD1wejhJJu"
      },
      "source": [
        "#Function to extract features\n",
        "def featureExtraction(url,label):\n",
        "\n",
        "  features = []\n",
        "  #Address bar based features (10)\n",
        "  features.append(getDomain(url))\n",
        "  features.append(havingIP(url))\n",
        "  features.append(haveAtSign(url))\n",
        "  features.append(getLength(url))\n",
        "  features.append(getDepth(url))\n",
        "  features.append(httpDomain(url))\n",
        "  features.append(tinyURL(url))\n",
        "  features.append(prefixSuffix(url))\n",
        "  \n",
        "  #Domain based features (4)\n",
        "  dns = 0\n",
        "  try:\n",
        "    domain_name = whois.whois(urlparse(url).netloc)\n",
        "  except:\n",
        "    dns = 1\n",
        "\n",
        "  features.append(dns)\n",
        "  features.append(web_traffic(url))\n",
        "  features.append(1 if dns == 1 else domainAge(domain_name))\n",
        "  \n",
        "\n",
        "  features.append(label)\n",
        "  \n",
        "  return features"
      ],
      "execution_count": null,
      "outputs": []
    },
    {
      "cell_type": "code",
      "metadata": {
        "colab": {
          "base_uri": "https://localhost:8080/"
        },
        "id": "UBqeb1GAxSFe",
        "outputId": "ead54553-67f3-4913-c1b0-1609f0a4aacb"
      },
      "source": [
        "legiurl.shape"
      ],
      "execution_count": null,
      "outputs": [
        {
          "output_type": "execute_result",
          "data": {
            "text/plain": [
              "(5000, 1)"
            ]
          },
          "metadata": {},
          "execution_count": 28
        }
      ]
    },
    {
      "cell_type": "markdown",
      "metadata": {
        "id": "N2Bh3n0DsyQH",
        "outputId": "396e22d5-35fe-47e5-b37e-e013e3b7baa9"
      },
      "source": [
        "# Extracting the feautres & storing them in a list\n",
        "legi_features = []\n",
        "label = 0\n",
        "\n",
        "for i in range(0, 5000):\n",
        "  url = legiurl['URLs'][i]\n",
        "  legi_features.append(featureExtraction(url,label))"
      ]
    },
    {
      "cell_type": "code",
      "metadata": {
        "colab": {
          "base_uri": "https://localhost:8080/",
          "height": 571
        },
        "id": "TNmL39VbjWW6",
        "outputId": "53a5d20c-0ca3-46cb-ccb2-58858d547be0"
      },
      "source": [
        "legiurl[1]"
      ],
      "execution_count": null,
      "outputs": [
        {
          "output_type": "error",
          "ename": "KeyError",
          "evalue": "ignored",
          "traceback": [
            "\u001b[0;31m---------------------------------------------------------------------------\u001b[0m",
            "\u001b[0;31mKeyError\u001b[0m                                  Traceback (most recent call last)",
            "\u001b[0;32m/usr/local/lib/python3.7/dist-packages/pandas/core/indexes/base.py\u001b[0m in \u001b[0;36mget_loc\u001b[0;34m(self, key, method, tolerance)\u001b[0m\n\u001b[1;32m   2897\u001b[0m             \u001b[0;32mtry\u001b[0m\u001b[0;34m:\u001b[0m\u001b[0;34m\u001b[0m\u001b[0;34m\u001b[0m\u001b[0m\n\u001b[0;32m-> 2898\u001b[0;31m                 \u001b[0;32mreturn\u001b[0m \u001b[0mself\u001b[0m\u001b[0;34m.\u001b[0m\u001b[0m_engine\u001b[0m\u001b[0;34m.\u001b[0m\u001b[0mget_loc\u001b[0m\u001b[0;34m(\u001b[0m\u001b[0mcasted_key\u001b[0m\u001b[0;34m)\u001b[0m\u001b[0;34m\u001b[0m\u001b[0;34m\u001b[0m\u001b[0m\n\u001b[0m\u001b[1;32m   2899\u001b[0m             \u001b[0;32mexcept\u001b[0m \u001b[0mKeyError\u001b[0m \u001b[0;32mas\u001b[0m \u001b[0merr\u001b[0m\u001b[0;34m:\u001b[0m\u001b[0;34m\u001b[0m\u001b[0;34m\u001b[0m\u001b[0m\n",
            "\u001b[0;32mpandas/_libs/index.pyx\u001b[0m in \u001b[0;36mpandas._libs.index.IndexEngine.get_loc\u001b[0;34m()\u001b[0m\n",
            "\u001b[0;32mpandas/_libs/index.pyx\u001b[0m in \u001b[0;36mpandas._libs.index.IndexEngine.get_loc\u001b[0;34m()\u001b[0m\n",
            "\u001b[0;32mpandas/_libs/hashtable_class_helper.pxi\u001b[0m in \u001b[0;36mpandas._libs.hashtable.PyObjectHashTable.get_item\u001b[0;34m()\u001b[0m\n",
            "\u001b[0;32mpandas/_libs/hashtable_class_helper.pxi\u001b[0m in \u001b[0;36mpandas._libs.hashtable.PyObjectHashTable.get_item\u001b[0;34m()\u001b[0m\n",
            "\u001b[0;31mKeyError\u001b[0m: 1",
            "\nThe above exception was the direct cause of the following exception:\n",
            "\u001b[0;31mKeyError\u001b[0m                                  Traceback (most recent call last)",
            "\u001b[0;32m<ipython-input-31-a5c2a94bfc84>\u001b[0m in \u001b[0;36m<module>\u001b[0;34m()\u001b[0m\n\u001b[0;32m----> 1\u001b[0;31m \u001b[0mlegiurl\u001b[0m\u001b[0;34m[\u001b[0m\u001b[0;36m1\u001b[0m\u001b[0;34m]\u001b[0m\u001b[0;34m\u001b[0m\u001b[0;34m\u001b[0m\u001b[0m\n\u001b[0m",
            "\u001b[0;32m/usr/local/lib/python3.7/dist-packages/pandas/core/frame.py\u001b[0m in \u001b[0;36m__getitem__\u001b[0;34m(self, key)\u001b[0m\n\u001b[1;32m   2904\u001b[0m             \u001b[0;32mif\u001b[0m \u001b[0mself\u001b[0m\u001b[0;34m.\u001b[0m\u001b[0mcolumns\u001b[0m\u001b[0;34m.\u001b[0m\u001b[0mnlevels\u001b[0m \u001b[0;34m>\u001b[0m \u001b[0;36m1\u001b[0m\u001b[0;34m:\u001b[0m\u001b[0;34m\u001b[0m\u001b[0;34m\u001b[0m\u001b[0m\n\u001b[1;32m   2905\u001b[0m                 \u001b[0;32mreturn\u001b[0m \u001b[0mself\u001b[0m\u001b[0;34m.\u001b[0m\u001b[0m_getitem_multilevel\u001b[0m\u001b[0;34m(\u001b[0m\u001b[0mkey\u001b[0m\u001b[0;34m)\u001b[0m\u001b[0;34m\u001b[0m\u001b[0;34m\u001b[0m\u001b[0m\n\u001b[0;32m-> 2906\u001b[0;31m             \u001b[0mindexer\u001b[0m \u001b[0;34m=\u001b[0m \u001b[0mself\u001b[0m\u001b[0;34m.\u001b[0m\u001b[0mcolumns\u001b[0m\u001b[0;34m.\u001b[0m\u001b[0mget_loc\u001b[0m\u001b[0;34m(\u001b[0m\u001b[0mkey\u001b[0m\u001b[0;34m)\u001b[0m\u001b[0;34m\u001b[0m\u001b[0;34m\u001b[0m\u001b[0m\n\u001b[0m\u001b[1;32m   2907\u001b[0m             \u001b[0;32mif\u001b[0m \u001b[0mis_integer\u001b[0m\u001b[0;34m(\u001b[0m\u001b[0mindexer\u001b[0m\u001b[0;34m)\u001b[0m\u001b[0;34m:\u001b[0m\u001b[0;34m\u001b[0m\u001b[0;34m\u001b[0m\u001b[0m\n\u001b[1;32m   2908\u001b[0m                 \u001b[0mindexer\u001b[0m \u001b[0;34m=\u001b[0m \u001b[0;34m[\u001b[0m\u001b[0mindexer\u001b[0m\u001b[0;34m]\u001b[0m\u001b[0;34m\u001b[0m\u001b[0;34m\u001b[0m\u001b[0m\n",
            "\u001b[0;32m/usr/local/lib/python3.7/dist-packages/pandas/core/indexes/base.py\u001b[0m in \u001b[0;36mget_loc\u001b[0;34m(self, key, method, tolerance)\u001b[0m\n\u001b[1;32m   2898\u001b[0m                 \u001b[0;32mreturn\u001b[0m \u001b[0mself\u001b[0m\u001b[0;34m.\u001b[0m\u001b[0m_engine\u001b[0m\u001b[0;34m.\u001b[0m\u001b[0mget_loc\u001b[0m\u001b[0;34m(\u001b[0m\u001b[0mcasted_key\u001b[0m\u001b[0;34m)\u001b[0m\u001b[0;34m\u001b[0m\u001b[0;34m\u001b[0m\u001b[0m\n\u001b[1;32m   2899\u001b[0m             \u001b[0;32mexcept\u001b[0m \u001b[0mKeyError\u001b[0m \u001b[0;32mas\u001b[0m \u001b[0merr\u001b[0m\u001b[0;34m:\u001b[0m\u001b[0;34m\u001b[0m\u001b[0;34m\u001b[0m\u001b[0m\n\u001b[0;32m-> 2900\u001b[0;31m                 \u001b[0;32mraise\u001b[0m \u001b[0mKeyError\u001b[0m\u001b[0;34m(\u001b[0m\u001b[0mkey\u001b[0m\u001b[0;34m)\u001b[0m \u001b[0;32mfrom\u001b[0m \u001b[0merr\u001b[0m\u001b[0;34m\u001b[0m\u001b[0;34m\u001b[0m\u001b[0m\n\u001b[0m\u001b[1;32m   2901\u001b[0m \u001b[0;34m\u001b[0m\u001b[0m\n\u001b[1;32m   2902\u001b[0m         \u001b[0;32mif\u001b[0m \u001b[0mtolerance\u001b[0m \u001b[0;32mis\u001b[0m \u001b[0;32mnot\u001b[0m \u001b[0;32mNone\u001b[0m\u001b[0;34m:\u001b[0m\u001b[0;34m\u001b[0m\u001b[0;34m\u001b[0m\u001b[0m\n",
            "\u001b[0;31mKeyError\u001b[0m: 1"
          ]
        }
      ]
    },
    {
      "cell_type": "code",
      "metadata": {
        "colab": {
          "base_uri": "https://localhost:8080/",
          "height": 219
        },
        "id": "-pZN1-RNARym",
        "outputId": "2313c1f0-8c92-421e-da05-9a4b39de817c"
      },
      "source": [
        "#converting the list to dataframe\n",
        "feature_names = ['Domain', 'Have_IP', 'Have_At', 'URL_Length', 'URL_Depth', \n",
        "                      'https_Domain', 'TinyURL', 'Prefix/Suffix','DNS_Record', 'Web_Traffic', \n",
        "                      'Domain_Age', 'Label']\n",
        "\n",
        "legitimate = pd.DataFrame(legi_features, columns= feature_names)\n",
        "legitimate.head()"
      ],
      "execution_count": null,
      "outputs": [
        {
          "output_type": "error",
          "ename": "NameError",
          "evalue": "ignored",
          "traceback": [
            "\u001b[0;31m---------------------------------------------------------------------------\u001b[0m",
            "\u001b[0;31mNameError\u001b[0m                                 Traceback (most recent call last)",
            "\u001b[0;32m<ipython-input-30-e7dab6ccffbc>\u001b[0m in \u001b[0;36m<module>\u001b[0;34m()\u001b[0m\n\u001b[1;32m      4\u001b[0m                       'Domain_Age', 'Label']\n\u001b[1;32m      5\u001b[0m \u001b[0;34m\u001b[0m\u001b[0m\n\u001b[0;32m----> 6\u001b[0;31m \u001b[0mlegitimate\u001b[0m \u001b[0;34m=\u001b[0m \u001b[0mpd\u001b[0m\u001b[0;34m.\u001b[0m\u001b[0mDataFrame\u001b[0m\u001b[0;34m(\u001b[0m\u001b[0mlegi_features\u001b[0m\u001b[0;34m,\u001b[0m \u001b[0mcolumns\u001b[0m\u001b[0;34m=\u001b[0m \u001b[0mfeature_names\u001b[0m\u001b[0;34m)\u001b[0m\u001b[0;34m\u001b[0m\u001b[0;34m\u001b[0m\u001b[0m\n\u001b[0m\u001b[1;32m      7\u001b[0m \u001b[0mlegitimate\u001b[0m\u001b[0;34m.\u001b[0m\u001b[0mhead\u001b[0m\u001b[0;34m(\u001b[0m\u001b[0;34m)\u001b[0m\u001b[0;34m\u001b[0m\u001b[0;34m\u001b[0m\u001b[0m\n",
            "\u001b[0;31mNameError\u001b[0m: name 'legi_features' is not defined"
          ]
        }
      ]
    },
    {
      "cell_type": "code",
      "metadata": {
        "id": "V74XjYtnAYPs"
      },
      "source": [
        "# Storing the extracted legitimate URLs fatures to csv file\n",
        "legitimate.to_csv('legitimate.csv', index= False)"
      ],
      "execution_count": null,
      "outputs": []
    },
    {
      "cell_type": "markdown",
      "metadata": {
        "id": "gfWm6fb5hrCr"
      },
      "source": [
        "# 4.2. Phishing URLs:"
      ]
    },
    {
      "cell_type": "code",
      "metadata": {
        "colab": {
          "base_uri": "https://localhost:8080/"
        },
        "id": "TpPOags_h6Cf",
        "outputId": "1050cd09-8229-43cb-96b1-2198a64da47c"
      },
      "source": [
        "phishurl.shape"
      ],
      "execution_count": null,
      "outputs": [
        {
          "data": {
            "text/plain": [
              "(5000, 8)"
            ]
          },
          "execution_count": 30,
          "metadata": {},
          "output_type": "execute_result"
        }
      ]
    },
    {
      "cell_type": "code",
      "metadata": {
        "colab": {
          "base_uri": "https://localhost:8080/"
        },
        "id": "PfadxC9bX78_",
        "outputId": "763fb4a9-dc85-40a5-9383-45242d62c344"
      },
      "source": [
        "#Extracting the feautres & storing them in a list\n",
        "phish_features = []\n",
        "label = 1\n",
        "for i in range(0, 5000):\n",
        "  url = phishurl['url'][i]\n",
        "  phish_features.append(featureExtraction(url,label))"
      ],
      "execution_count": null,
      "outputs": [
        {
          "name": "stdout",
          "output_type": "stream",
          "text": [
            "Error trying to connect to socket: closing socket\n",
            "Error trying to connect to socket: closing socket\n",
            "Error trying to connect to socket: closing socket\n",
            "Error trying to connect to socket: closing socket\n",
            "Error trying to connect to socket: closing socket\n",
            "Error trying to connect to socket: closing socket\n",
            "Error trying to connect to socket: closing socket\n",
            "Error trying to connect to socket: closing socket\n",
            "Error trying to connect to socket: closing socket\n",
            "Error trying to connect to socket: closing socket\n",
            "Error trying to connect to socket: closing socket\n",
            "Error trying to connect to socket: closing socket\n",
            "Error trying to connect to socket: closing socket\n",
            "Error trying to connect to socket: closing socket\n",
            "Error trying to connect to socket: closing socket\n",
            "Error trying to connect to socket: closing socket\n",
            "Error trying to connect to socket: closing socket\n",
            "Error trying to connect to socket: closing socket\n",
            "Error trying to connect to socket: closing socket\n",
            "Error trying to connect to socket: closing socket\n",
            "Error trying to connect to socket: closing socket\n",
            "Error trying to connect to socket: closing socket\n",
            "Error trying to connect to socket: closing socket\n",
            "Error trying to connect to socket: closing socket\n",
            "Error trying to connect to socket: closing socket\n",
            "Error trying to connect to socket: closing socket\n",
            "Error trying to connect to socket: closing socket\n",
            "Error trying to connect to socket: closing socket\n",
            "Error trying to connect to socket: closing socket\n",
            "Error trying to connect to socket: closing socket\n",
            "Error trying to connect to socket: closing socket\n",
            "Error trying to connect to socket: closing socket\n",
            "Error trying to connect to socket: closing socket\n",
            "Error trying to connect to socket: closing socket\n",
            "Error trying to connect to socket: closing socket\n",
            "Error trying to connect to socket: closing socket\n",
            "Error trying to connect to socket: closing socket\n",
            "Error trying to connect to socket: closing socket\n",
            "Error trying to connect to socket: closing socket\n",
            "Error trying to connect to socket: closing socket\n",
            "Error trying to connect to socket: closing socket\n",
            "Error trying to connect to socket: closing socket\n",
            "Error trying to connect to socket: closing socket\n",
            "Error trying to connect to socket: closing socket\n",
            "Error trying to connect to socket: closing socket\n",
            "Error trying to connect to socket: closing socket\n",
            "Error trying to connect to socket: closing socket\n",
            "Error trying to connect to socket: closing socket\n",
            "Error trying to connect to socket: closing socket\n",
            "Error trying to connect to socket: closing socket\n",
            "Error trying to connect to socket: closing socket\n",
            "Error trying to connect to socket: closing socket\n",
            "Error trying to connect to socket: closing socket\n",
            "Error trying to connect to socket: closing socket\n",
            "Error trying to connect to socket: closing socket\n",
            "Error trying to connect to socket: closing socket\n",
            "Error trying to connect to socket: closing socket\n",
            "Error trying to connect to socket: closing socket\n",
            "Error trying to connect to socket: closing socket\n",
            "Error trying to connect to socket: closing socket\n",
            "Error trying to connect to socket: closing socket\n",
            "Error trying to connect to socket: closing socket\n",
            "Error trying to connect to socket: closing socket\n",
            "Error trying to connect to socket: closing socket\n",
            "Error trying to connect to socket: closing socket\n",
            "Error trying to connect to socket: closing socket\n",
            "Error trying to connect to socket: closing socket\n",
            "Error trying to connect to socket: closing socket\n",
            "Error trying to connect to socket: closing socket\n",
            "Error trying to connect to socket: closing socket\n",
            "Error trying to connect to socket: closing socket\n",
            "Error trying to connect to socket: closing socket\n",
            "Error trying to connect to socket: closing socket\n",
            "Error trying to connect to socket: closing socket\n",
            "Error trying to connect to socket: closing socket\n",
            "Error trying to connect to socket: closing socket\n",
            "Error trying to connect to socket: closing socket\n",
            "Error trying to connect to socket: closing socket\n",
            "Error trying to connect to socket: closing socket\n",
            "Error trying to connect to socket: closing socket\n",
            "Error trying to connect to socket: closing socket\n",
            "Error trying to connect to socket: closing socket\n",
            "Error trying to connect to socket: closing socket\n",
            "Error trying to connect to socket: closing socket\n",
            "Error trying to connect to socket: closing socket\n",
            "Error trying to connect to socket: closing socket\n",
            "Error trying to connect to socket: closing socket\n",
            "Error trying to connect to socket: closing socket\n",
            "Error trying to connect to socket: closing socket\n",
            "Error trying to connect to socket: closing socket\n",
            "Error trying to connect to socket: closing socket\n",
            "Error trying to connect to socket: closing socket\n",
            "Error trying to connect to socket: closing socket\n",
            "Error trying to connect to socket: closing socket\n",
            "Error trying to connect to socket: closing socket\n",
            "Error trying to connect to socket: closing socket\n",
            "Error trying to connect to socket: closing socket\n",
            "Error trying to connect to socket: closing socket\n",
            "Error trying to connect to socket: closing socket\n",
            "Error trying to connect to socket: closing socket\n",
            "Error trying to connect to socket: closing socket\n",
            "Error trying to connect to socket: closing socket\n",
            "Error trying to connect to socket: closing socket\n",
            "Error trying to connect to socket: closing socket\n",
            "Error trying to connect to socket: closing socket\n",
            "Error trying to connect to socket: closing socket\n",
            "Error trying to connect to socket: closing socket\n",
            "Error trying to connect to socket: closing socket\n",
            "Error trying to connect to socket: closing socket\n",
            "Error trying to connect to socket: closing socket\n",
            "Error trying to connect to socket: closing socket\n",
            "Error trying to connect to socket: closing socket\n",
            "Error trying to connect to socket: closing socket\n",
            "Error trying to connect to socket: closing socket\n",
            "Error trying to connect to socket: closing socket\n",
            "Error trying to connect to socket: closing socket\n",
            "Error trying to connect to socket: closing socket\n",
            "Error trying to connect to socket: closing socket\n",
            "Error trying to connect to socket: closing socket\n",
            "Error trying to connect to socket: closing socket\n",
            "Error trying to connect to socket: closing socket\n",
            "Error trying to connect to socket: closing socket\n",
            "Error trying to connect to socket: closing socket\n",
            "Error trying to connect to socket: closing socket\n",
            "Error trying to connect to socket: closing socket\n",
            "Error trying to connect to socket: closing socket\n",
            "Error trying to connect to socket: closing socket\n",
            "Error trying to connect to socket: closing socket\n",
            "Error trying to connect to socket: closing socket\n",
            "Error trying to connect to socket: closing socket\n",
            "Error trying to connect to socket: closing socket\n",
            "Error trying to connect to socket: closing socket\n",
            "Error trying to connect to socket: closing socket\n",
            "Error trying to connect to socket: closing socket\n",
            "Error trying to connect to socket: closing socket\n",
            "Error trying to connect to socket: closing socket\n",
            "Error trying to connect to socket: closing socket\n",
            "Error trying to connect to socket: closing socket\n",
            "Error trying to connect to socket: closing socket\n",
            "Error trying to connect to socket: closing socket\n",
            "Error trying to connect to socket: closing socket\n",
            "Error trying to connect to socket: closing socket\n",
            "Error trying to connect to socket: closing socket\n",
            "Error trying to connect to socket: closing socket\n",
            "Error trying to connect to socket: closing socket\n",
            "Error trying to connect to socket: closing socket\n",
            "Error trying to connect to socket: closing socket\n",
            "Error trying to connect to socket: closing socket\n",
            "Error trying to connect to socket: closing socket\n",
            "Error trying to connect to socket: closing socket\n",
            "Error trying to connect to socket: closing socket\n",
            "Error trying to connect to socket: closing socket\n",
            "Error trying to connect to socket: closing socket\n",
            "Error trying to connect to socket: closing socket\n",
            "Error trying to connect to socket: closing socket\n",
            "Error trying to connect to socket: closing socket\n",
            "Error trying to connect to socket: closing socket\n",
            "Error trying to connect to socket: closing socket\n",
            "Error trying to connect to socket: closing socket\n",
            "Error trying to connect to socket: closing socket\n",
            "Error trying to connect to socket: closing socket\n",
            "Error trying to connect to socket: closing socket\n",
            "Error trying to connect to socket: closing socket\n",
            "Error trying to connect to socket: closing socket\n"
          ]
        },
        {
          "name": "stdout",
          "output_type": "stream",
          "text": [
            "Error trying to connect to socket: closing socket\n",
            "Error trying to connect to socket: closing socket\n",
            "Error trying to connect to socket: closing socket\n",
            "Error trying to connect to socket: closing socket\n",
            "Error trying to connect to socket: closing socket\n",
            "Error trying to connect to socket: closing socket\n",
            "Error trying to connect to socket: closing socket\n",
            "Error trying to connect to socket: closing socket\n",
            "Error trying to connect to socket: closing socket\n",
            "Error trying to connect to socket: closing socket\n",
            "Error trying to connect to socket: closing socket\n",
            "Error trying to connect to socket: closing socket\n",
            "Error trying to connect to socket: closing socket\n",
            "Error trying to connect to socket: closing socket\n",
            "Error trying to connect to socket: closing socket\n",
            "Error trying to connect to socket: closing socket\n",
            "Error trying to connect to socket: closing socket\n",
            "Error trying to connect to socket: closing socket\n",
            "Error trying to connect to socket: closing socket\n",
            "Error trying to connect to socket: closing socket\n",
            "Error trying to connect to socket: closing socket\n",
            "Error trying to connect to socket: closing socket\n",
            "Error trying to connect to socket: closing socket\n",
            "Error trying to connect to socket: closing socket\n",
            "Error trying to connect to socket: closing socket\n",
            "Error trying to connect to socket: closing socket\n",
            "Error trying to connect to socket: closing socket\n",
            "Error trying to connect to socket: closing socket\n",
            "Error trying to connect to socket: closing socket\n",
            "Error trying to connect to socket: closing socket\n",
            "Error trying to connect to socket: closing socket\n",
            "Error trying to connect to socket: closing socket\n",
            "Error trying to connect to socket: closing socket\n",
            "Error trying to connect to socket: closing socket\n",
            "Error trying to connect to socket: closing socket\n",
            "Error trying to connect to socket: closing socket\n",
            "Error trying to connect to socket: closing socket\n",
            "Error trying to connect to socket: closing socket\n",
            "Error trying to connect to socket: closing socket\n",
            "Error trying to connect to socket: closing socket\n",
            "Error trying to connect to socket: closing socket\n",
            "Error trying to connect to socket: closing socket\n",
            "Error trying to connect to socket: closing socket\n",
            "Error trying to connect to socket: closing socket\n",
            "Error trying to connect to socket: closing socket\n",
            "Error trying to connect to socket: closing socket\n",
            "Error trying to connect to socket: closing socket\n",
            "Error trying to connect to socket: closing socket\n",
            "Error trying to connect to socket: closing socket\n",
            "Error trying to connect to socket: closing socket\n",
            "Error trying to connect to socket: closing socket\n",
            "Error trying to connect to socket: closing socket\n",
            "Error trying to connect to socket: closing socket\n",
            "Error trying to connect to socket: closing socket\n",
            "Error trying to connect to socket: closing socket\n",
            "Error trying to connect to socket: closing socket\n",
            "Error trying to connect to socket: closing socket\n",
            "Error trying to connect to socket: closing socket\n",
            "Error trying to connect to socket: closing socket\n",
            "Error trying to connect to socket: closing socket\n",
            "Error trying to connect to socket: closing socket\n",
            "Error trying to connect to socket: closing socket\n",
            "Error trying to connect to socket: closing socket\n",
            "Error trying to connect to socket: closing socket\n",
            "Error trying to connect to socket: closing socket\n",
            "Error trying to connect to socket: closing socket\n",
            "Error trying to connect to socket: closing socket\n",
            "Error trying to connect to socket: closing socket\n",
            "Error trying to connect to socket: closing socket\n",
            "Error trying to connect to socket: closing socket\n",
            "Error trying to connect to socket: closing socket\n",
            "Error trying to connect to socket: closing socket\n",
            "Error trying to connect to socket: closing socket\n",
            "Error trying to connect to socket: closing socket\n",
            "Error trying to connect to socket: closing socket\n",
            "Error trying to connect to socket: closing socket\n",
            "Error trying to connect to socket: closing socket\n",
            "Error trying to connect to socket: closing socket\n",
            "Error trying to connect to socket: closing socket\n",
            "Error trying to connect to socket: closing socket\n",
            "Error trying to connect to socket: closing socket\n",
            "Error trying to connect to socket: closing socket\n",
            "Error trying to connect to socket: closing socket\n",
            "Error trying to connect to socket: closing socket\n",
            "Error trying to connect to socket: closing socket\n",
            "Error trying to connect to socket: closing socket\n",
            "Error trying to connect to socket: closing socket\n",
            "Error trying to connect to socket: closing socket\n",
            "Error trying to connect to socket: closing socket\n",
            "Error trying to connect to socket: closing socket\n",
            "Error trying to connect to socket: closing socket\n",
            "Error trying to connect to socket: closing socket\n",
            "Error trying to connect to socket: closing socket\n",
            "Error trying to connect to socket: closing socket\n",
            "Error trying to connect to socket: closing socket\n",
            "Error trying to connect to socket: closing socket\n",
            "Error trying to connect to socket: closing socket\n",
            "Error trying to connect to socket: closing socket\n",
            "Error trying to connect to socket: closing socket\n",
            "Error trying to connect to socket: closing socket\n",
            "Error trying to connect to socket: closing socket\n",
            "Error trying to connect to socket: closing socket\n",
            "Error trying to connect to socket: closing socket\n",
            "Error trying to connect to socket: closing socket\n",
            "Error trying to connect to socket: closing socket\n",
            "Error trying to connect to socket: closing socket\n",
            "Error trying to connect to socket: closing socket\n",
            "Error trying to connect to socket: closing socket\n",
            "Error trying to connect to socket: closing socket\n",
            "Error trying to connect to socket: closing socket\n",
            "Error trying to connect to socket: closing socket\n",
            "Error trying to connect to socket: closing socket\n",
            "Error trying to connect to socket: closing socket\n",
            "Error trying to connect to socket: closing socket\n",
            "Error trying to connect to socket: closing socket\n",
            "Error trying to connect to socket: closing socket\n",
            "Error trying to connect to socket: closing socket\n",
            "Error trying to connect to socket: closing socket\n",
            "Error trying to connect to socket: closing socket\n",
            "Error trying to connect to socket: closing socket\n",
            "Error trying to connect to socket: closing socket\n",
            "Error trying to connect to socket: closing socket\n",
            "Error trying to connect to socket: closing socket\n",
            "Error trying to connect to socket: closing socket\n",
            "Error trying to connect to socket: closing socket\n",
            "Error trying to connect to socket: closing socket\n",
            "Error trying to connect to socket: closing socket\n",
            "Error trying to connect to socket: closing socket\n",
            "Error trying to connect to socket: closing socket\n",
            "Error trying to connect to socket: closing socket\n",
            "Error trying to connect to socket: closing socket\n",
            "Error trying to connect to socket: closing socket\n",
            "Error trying to connect to socket: closing socket\n",
            "Error trying to connect to socket: closing socket\n",
            "Error trying to connect to socket: closing socket\n",
            "Error trying to connect to socket: closing socket\n",
            "Error trying to connect to socket: closing socket\n",
            "Error trying to connect to socket: closing socket\n",
            "Error trying to connect to socket: closing socket\n",
            "Error trying to connect to socket: closing socket\n",
            "Error trying to connect to socket: closing socket\n",
            "Error trying to connect to socket: closing socket\n",
            "Error trying to connect to socket: closing socket\n",
            "Error trying to connect to socket: closing socket\n",
            "Error trying to connect to socket: closing socket\n",
            "Error trying to connect to socket: closing socket\n",
            "Error trying to connect to socket: closing socket\n",
            "Error trying to connect to socket: closing socket\n",
            "Error trying to connect to socket: closing socket\n",
            "Error trying to connect to socket: closing socket\n",
            "Error trying to connect to socket: closing socket\n",
            "Error trying to connect to socket: closing socket\n",
            "Error trying to connect to socket: closing socket\n",
            "Error trying to connect to socket: closing socket\n",
            "Error trying to connect to socket: closing socket\n",
            "Error trying to connect to socket: closing socket\n",
            "Error trying to connect to socket: closing socket\n",
            "Error trying to connect to socket: closing socket\n",
            "Error trying to connect to socket: closing socket\n",
            "Error trying to connect to socket: closing socket\n",
            "Error trying to connect to socket: closing socket\n",
            "Error trying to connect to socket: closing socket\n",
            "Error trying to connect to socket: closing socket\n",
            "Error trying to connect to socket: closing socket\n"
          ]
        },
        {
          "name": "stdout",
          "output_type": "stream",
          "text": [
            "Error trying to connect to socket: closing socket\n",
            "Error trying to connect to socket: closing socket\n",
            "Error trying to connect to socket: closing socket\n",
            "Error trying to connect to socket: closing socket\n",
            "Error trying to connect to socket: closing socket\n",
            "Error trying to connect to socket: closing socket\n",
            "Error trying to connect to socket: closing socket\n",
            "Error trying to connect to socket: closing socket\n",
            "Error trying to connect to socket: closing socket\n",
            "Error trying to connect to socket: closing socket\n",
            "Error trying to connect to socket: closing socket\n",
            "Error trying to connect to socket: closing socket\n",
            "Error trying to connect to socket: closing socket\n",
            "Error trying to connect to socket: closing socket\n",
            "Error trying to connect to socket: closing socket\n",
            "Error trying to connect to socket: closing socket\n",
            "Error trying to connect to socket: closing socket\n",
            "Error trying to connect to socket: closing socket\n",
            "Error trying to connect to socket: closing socket\n",
            "Error trying to connect to socket: closing socket\n",
            "Error trying to connect to socket: closing socket\n",
            "Error trying to connect to socket: closing socket\n",
            "Error trying to connect to socket: closing socket\n",
            "Error trying to connect to socket: closing socket\n",
            "Error trying to connect to socket: closing socket\n",
            "Error trying to connect to socket: closing socket\n",
            "Error trying to connect to socket: closing socket\n",
            "Error trying to connect to socket: closing socket\n",
            "Error trying to connect to socket: closing socket\n",
            "Error trying to connect to socket: closing socket\n",
            "Error trying to connect to socket: closing socket\n",
            "Error trying to connect to socket: closing socket\n",
            "Error trying to connect to socket: closing socket\n",
            "Error trying to connect to socket: closing socket\n",
            "Error trying to connect to socket: closing socket\n",
            "Error trying to connect to socket: closing socket\n",
            "Error trying to connect to socket: closing socket\n",
            "Error trying to connect to socket: closing socket\n",
            "Error trying to connect to socket: closing socket\n",
            "Error trying to connect to socket: closing socket\n",
            "Error trying to connect to socket: closing socket\n",
            "Error trying to connect to socket: closing socket\n",
            "Error trying to connect to socket: closing socket\n",
            "Error trying to connect to socket: closing socket\n",
            "Error trying to connect to socket: closing socket\n",
            "Error trying to connect to socket: closing socket\n",
            "Error trying to connect to socket: closing socket\n",
            "Error trying to connect to socket: closing socket\n",
            "Error trying to connect to socket: closing socket\n",
            "Error trying to connect to socket: closing socket\n",
            "Error trying to connect to socket: closing socket\n",
            "Error trying to connect to socket: closing socket\n",
            "Error trying to connect to socket: closing socket\n",
            "Error trying to connect to socket: closing socket\n",
            "Error trying to connect to socket: closing socket\n",
            "Error trying to connect to socket: closing socket\n",
            "Error trying to connect to socket: closing socket\n",
            "Error trying to connect to socket: closing socket\n",
            "Error trying to connect to socket: closing socket\n",
            "Error trying to connect to socket: closing socket\n",
            "Error trying to connect to socket: closing socket\n",
            "Error trying to connect to socket: closing socket\n",
            "Error trying to connect to socket: closing socket\n",
            "Error trying to connect to socket: closing socket\n",
            "Error trying to connect to socket: closing socket\n",
            "Error trying to connect to socket: closing socket\n",
            "Error trying to connect to socket: closing socket\n",
            "Error trying to connect to socket: closing socket\n",
            "Error trying to connect to socket: closing socket\n",
            "Error trying to connect to socket: closing socket\n",
            "Error trying to connect to socket: closing socket\n",
            "Error trying to connect to socket: closing socket\n",
            "Error trying to connect to socket: closing socket\n",
            "Error trying to connect to socket: closing socket\n",
            "Error trying to connect to socket: closing socket\n",
            "Error trying to connect to socket: closing socket\n",
            "Error trying to connect to socket: closing socket\n",
            "Error trying to connect to socket: closing socket\n",
            "Error trying to connect to socket: closing socket\n",
            "Error trying to connect to socket: closing socket\n",
            "Error trying to connect to socket: closing socket\n",
            "Error trying to connect to socket: closing socket\n",
            "Error trying to connect to socket: closing socket\n",
            "Error trying to connect to socket: closing socket\n",
            "Error trying to connect to socket: closing socket\n",
            "Error trying to connect to socket: closing socket\n",
            "Error trying to connect to socket: closing socket\n",
            "Error trying to connect to socket: closing socket\n",
            "Error trying to connect to socket: closing socket\n",
            "Error trying to connect to socket: closing socket\n",
            "Error trying to connect to socket: closing socket\n",
            "Error trying to connect to socket: closing socket\n",
            "Error trying to connect to socket: closing socket\n",
            "Error trying to connect to socket: closing socket\n",
            "Error trying to connect to socket: closing socket\n",
            "Error trying to connect to socket: closing socket\n",
            "Error trying to connect to socket: closing socket\n",
            "Error trying to connect to socket: closing socket\n",
            "Error trying to connect to socket: closing socket\n",
            "Error trying to connect to socket: closing socket\n",
            "Error trying to connect to socket: closing socket\n",
            "Error trying to connect to socket: closing socket\n",
            "Error trying to connect to socket: closing socket\n",
            "Error trying to connect to socket: closing socket\n",
            "Error trying to connect to socket: closing socket\n",
            "Error trying to connect to socket: closing socket\n",
            "Error trying to connect to socket: closing socket\n",
            "Error trying to connect to socket: closing socket\n",
            "Error trying to connect to socket: closing socket\n",
            "Error trying to connect to socket: closing socket\n",
            "Error trying to connect to socket: closing socket\n",
            "Error trying to connect to socket: closing socket\n",
            "Error trying to connect to socket: closing socket\n",
            "Error trying to connect to socket: closing socket\n",
            "Error trying to connect to socket: closing socket\n",
            "Error trying to connect to socket: closing socket\n",
            "Error trying to connect to socket: closing socket\n",
            "Error trying to connect to socket: closing socket\n",
            "Error trying to connect to socket: closing socket\n",
            "Error trying to connect to socket: closing socket\n",
            "Error trying to connect to socket: closing socket\n",
            "Error trying to connect to socket: closing socket\n",
            "Error trying to connect to socket: closing socket\n",
            "Error trying to connect to socket: closing socket\n",
            "Error trying to connect to socket: closing socket\n",
            "Error trying to connect to socket: closing socket\n",
            "Error trying to connect to socket: closing socket\n",
            "Error trying to connect to socket: closing socket\n",
            "Error trying to connect to socket: closing socket\n",
            "Error trying to connect to socket: closing socket\n",
            "Error trying to connect to socket: closing socket\n",
            "Error trying to connect to socket: closing socket\n",
            "Error trying to connect to socket: closing socket\n",
            "Error trying to connect to socket: closing socket\n",
            "Error trying to connect to socket: closing socket\n",
            "Error trying to connect to socket: closing socket\n"
          ]
        }
      ]
    },
    {
      "cell_type": "code",
      "metadata": {
        "colab": {
          "base_uri": "https://localhost:8080/",
          "height": 211
        },
        "id": "Gyf3SWE9h7v2",
        "outputId": "4dca05e5-e8da-4b28-f1fa-0ecbb455519b"
      },
      "source": [
        "#converting the list to dataframe\n",
        "feature_names = ['Domain', 'Have_IP', 'Have_At', 'URL_Length', 'URL_Depth', \n",
        "                      'https_Domain', 'TinyURL', 'Prefix/Suffix','DNS_Record', 'Web_Traffic', \n",
        "                      'Domain_Age', 'Label']\n",
        "\n",
        "phishing = pd.DataFrame(phish_features, columns= feature_names)\n",
        "phishing.head()"
      ],
      "execution_count": null,
      "outputs": [
        {
          "data": {
            "text/html": [
              "<div>\n",
              "<style scoped>\n",
              "    .dataframe tbody tr th:only-of-type {\n",
              "        vertical-align: middle;\n",
              "    }\n",
              "\n",
              "    .dataframe tbody tr th {\n",
              "        vertical-align: top;\n",
              "    }\n",
              "\n",
              "    .dataframe thead th {\n",
              "        text-align: right;\n",
              "    }\n",
              "</style>\n",
              "<table border=\"1\" class=\"dataframe\">\n",
              "  <thead>\n",
              "    <tr style=\"text-align: right;\">\n",
              "      <th></th>\n",
              "      <th>Domain</th>\n",
              "      <th>Have_IP</th>\n",
              "      <th>Have_At</th>\n",
              "      <th>URL_Length</th>\n",
              "      <th>URL_Depth</th>\n",
              "      <th>https_Domain</th>\n",
              "      <th>TinyURL</th>\n",
              "      <th>Prefix/Suffix</th>\n",
              "      <th>DNS_Record</th>\n",
              "      <th>Web_Traffic</th>\n",
              "      <th>Domain_Age</th>\n",
              "      <th>Label</th>\n",
              "    </tr>\n",
              "  </thead>\n",
              "  <tbody>\n",
              "    <tr>\n",
              "      <th>0</th>\n",
              "      <td>fr.imsly.com</td>\n",
              "      <td>0</td>\n",
              "      <td>0</td>\n",
              "      <td>1</td>\n",
              "      <td>2</td>\n",
              "      <td>0</td>\n",
              "      <td>0</td>\n",
              "      <td>0</td>\n",
              "      <td>0</td>\n",
              "      <td>0</td>\n",
              "      <td>0</td>\n",
              "      <td>1</td>\n",
              "    </tr>\n",
              "    <tr>\n",
              "      <th>1</th>\n",
              "      <td>softlille.com</td>\n",
              "      <td>0</td>\n",
              "      <td>0</td>\n",
              "      <td>1</td>\n",
              "      <td>4</td>\n",
              "      <td>0</td>\n",
              "      <td>0</td>\n",
              "      <td>0</td>\n",
              "      <td>0</td>\n",
              "      <td>1</td>\n",
              "      <td>1</td>\n",
              "      <td>1</td>\n",
              "    </tr>\n",
              "    <tr>\n",
              "      <th>2</th>\n",
              "      <td>nt-entreprises.com</td>\n",
              "      <td>0</td>\n",
              "      <td>1</td>\n",
              "      <td>1</td>\n",
              "      <td>5</td>\n",
              "      <td>0</td>\n",
              "      <td>0</td>\n",
              "      <td>1</td>\n",
              "      <td>0</td>\n",
              "      <td>1</td>\n",
              "      <td>0</td>\n",
              "      <td>1</td>\n",
              "    </tr>\n",
              "    <tr>\n",
              "      <th>3</th>\n",
              "      <td>pay.moban.com</td>\n",
              "      <td>0</td>\n",
              "      <td>0</td>\n",
              "      <td>0</td>\n",
              "      <td>1</td>\n",
              "      <td>0</td>\n",
              "      <td>0</td>\n",
              "      <td>0</td>\n",
              "      <td>0</td>\n",
              "      <td>1</td>\n",
              "      <td>0</td>\n",
              "      <td>1</td>\n",
              "    </tr>\n",
              "    <tr>\n",
              "      <th>4</th>\n",
              "      <td>live-uk-chat.co.uk</td>\n",
              "      <td>0</td>\n",
              "      <td>0</td>\n",
              "      <td>0</td>\n",
              "      <td>1</td>\n",
              "      <td>0</td>\n",
              "      <td>1</td>\n",
              "      <td>1</td>\n",
              "      <td>0</td>\n",
              "      <td>1</td>\n",
              "      <td>0</td>\n",
              "      <td>1</td>\n",
              "    </tr>\n",
              "  </tbody>\n",
              "</table>\n",
              "</div>"
            ],
            "text/plain": [
              "               Domain  Have_IP  Have_At  URL_Length  URL_Depth  https_Domain  \\\n",
              "0        fr.imsly.com        0        0           1          2             0   \n",
              "1       softlille.com        0        0           1          4             0   \n",
              "2  nt-entreprises.com        0        1           1          5             0   \n",
              "3       pay.moban.com        0        0           0          1             0   \n",
              "4  live-uk-chat.co.uk        0        0           0          1             0   \n",
              "\n",
              "   TinyURL  Prefix/Suffix  DNS_Record  Web_Traffic  Domain_Age  Label  \n",
              "0        0              0           0            0           0      1  \n",
              "1        0              0           0            1           1      1  \n",
              "2        0              1           0            1           0      1  \n",
              "3        0              0           0            1           0      1  \n",
              "4        1              1           0            1           0      1  "
            ]
          },
          "execution_count": 32,
          "metadata": {},
          "output_type": "execute_result"
        }
      ]
    },
    {
      "cell_type": "code",
      "metadata": {
        "id": "aMBgr8pCh90D"
      },
      "source": [
        "# Storing the extracted legitimate URLs fatures to csv file\n",
        "phishing.to_csv('phishing.csv', index= False)"
      ],
      "execution_count": null,
      "outputs": []
    },
    {
      "cell_type": "markdown",
      "metadata": {
        "id": "NZXLuwQ-iMXP"
      },
      "source": [
        "## **5. Final Dataset**\n"
      ]
    },
    {
      "cell_type": "code",
      "metadata": {
        "colab": {
          "base_uri": "https://localhost:8080/",
          "height": 194
        },
        "id": "_rmwzyrniNbC",
        "outputId": "7b993785-9c40-43ff-98fd-481c142984c5"
      },
      "source": [
        "#Concatenating the dataframes into one \n",
        "urldata = pd.concat([legitimate, phishing]).reset_index(drop=True)\n",
        "urldata.head()"
      ],
      "execution_count": null,
      "outputs": [
        {
          "data": {
            "text/html": [
              "<div>\n",
              "<style scoped>\n",
              "    .dataframe tbody tr th:only-of-type {\n",
              "        vertical-align: middle;\n",
              "    }\n",
              "\n",
              "    .dataframe tbody tr th {\n",
              "        vertical-align: top;\n",
              "    }\n",
              "\n",
              "    .dataframe thead th {\n",
              "        text-align: right;\n",
              "    }\n",
              "</style>\n",
              "<table border=\"1\" class=\"dataframe\">\n",
              "  <thead>\n",
              "    <tr style=\"text-align: right;\">\n",
              "      <th></th>\n",
              "      <th>Domain</th>\n",
              "      <th>Have_IP</th>\n",
              "      <th>Have_At</th>\n",
              "      <th>URL_Length</th>\n",
              "      <th>URL_Depth</th>\n",
              "      <th>https_Domain</th>\n",
              "      <th>TinyURL</th>\n",
              "      <th>Prefix/Suffix</th>\n",
              "      <th>DNS_Record</th>\n",
              "      <th>Web_Traffic</th>\n",
              "      <th>Domain_Age</th>\n",
              "      <th>Label</th>\n",
              "    </tr>\n",
              "  </thead>\n",
              "  <tbody>\n",
              "    <tr>\n",
              "      <th>0</th>\n",
              "      <td>graphicriver.net</td>\n",
              "      <td>0</td>\n",
              "      <td>0</td>\n",
              "      <td>1</td>\n",
              "      <td>1</td>\n",
              "      <td>0</td>\n",
              "      <td>0</td>\n",
              "      <td>0</td>\n",
              "      <td>0</td>\n",
              "      <td>1</td>\n",
              "      <td>1</td>\n",
              "      <td>0</td>\n",
              "    </tr>\n",
              "    <tr>\n",
              "      <th>1</th>\n",
              "      <td>ecnavi.jp</td>\n",
              "      <td>0</td>\n",
              "      <td>0</td>\n",
              "      <td>1</td>\n",
              "      <td>1</td>\n",
              "      <td>0</td>\n",
              "      <td>0</td>\n",
              "      <td>0</td>\n",
              "      <td>0</td>\n",
              "      <td>1</td>\n",
              "      <td>1</td>\n",
              "      <td>0</td>\n",
              "    </tr>\n",
              "    <tr>\n",
              "      <th>2</th>\n",
              "      <td>hubpages.com</td>\n",
              "      <td>0</td>\n",
              "      <td>0</td>\n",
              "      <td>1</td>\n",
              "      <td>1</td>\n",
              "      <td>0</td>\n",
              "      <td>0</td>\n",
              "      <td>0</td>\n",
              "      <td>0</td>\n",
              "      <td>1</td>\n",
              "      <td>0</td>\n",
              "      <td>0</td>\n",
              "    </tr>\n",
              "    <tr>\n",
              "      <th>3</th>\n",
              "      <td>extratorrent.cc</td>\n",
              "      <td>0</td>\n",
              "      <td>0</td>\n",
              "      <td>1</td>\n",
              "      <td>3</td>\n",
              "      <td>0</td>\n",
              "      <td>0</td>\n",
              "      <td>0</td>\n",
              "      <td>0</td>\n",
              "      <td>0</td>\n",
              "      <td>1</td>\n",
              "      <td>0</td>\n",
              "    </tr>\n",
              "    <tr>\n",
              "      <th>4</th>\n",
              "      <td>icicibank.com</td>\n",
              "      <td>0</td>\n",
              "      <td>0</td>\n",
              "      <td>1</td>\n",
              "      <td>3</td>\n",
              "      <td>0</td>\n",
              "      <td>0</td>\n",
              "      <td>0</td>\n",
              "      <td>0</td>\n",
              "      <td>1</td>\n",
              "      <td>0</td>\n",
              "      <td>0</td>\n",
              "    </tr>\n",
              "  </tbody>\n",
              "</table>\n",
              "</div>"
            ],
            "text/plain": [
              "             Domain  Have_IP  Have_At  URL_Length  URL_Depth  https_Domain  \\\n",
              "0  graphicriver.net        0        0           1          1             0   \n",
              "1         ecnavi.jp        0        0           1          1             0   \n",
              "2      hubpages.com        0        0           1          1             0   \n",
              "3   extratorrent.cc        0        0           1          3             0   \n",
              "4     icicibank.com        0        0           1          3             0   \n",
              "\n",
              "   TinyURL  Prefix/Suffix  DNS_Record  Web_Traffic  Domain_Age  Label  \n",
              "0        0              0           0            1           1      0  \n",
              "1        0              0           0            1           1      0  \n",
              "2        0              0           0            1           0      0  \n",
              "3        0              0           0            0           1      0  \n",
              "4        0              0           0            1           0      0  "
            ]
          },
          "execution_count": 34,
          "metadata": {},
          "output_type": "execute_result"
        }
      ]
    },
    {
      "cell_type": "code",
      "metadata": {
        "colab": {
          "base_uri": "https://localhost:8080/",
          "height": 194
        },
        "id": "r5biVuC_iPqw",
        "outputId": "d9d78daa-a546-4e38-b14a-231ebd89c7e8"
      },
      "source": [
        "urldata.tail()"
      ],
      "execution_count": null,
      "outputs": [
        {
          "data": {
            "text/html": [
              "<div>\n",
              "<style scoped>\n",
              "    .dataframe tbody tr th:only-of-type {\n",
              "        vertical-align: middle;\n",
              "    }\n",
              "\n",
              "    .dataframe tbody tr th {\n",
              "        vertical-align: top;\n",
              "    }\n",
              "\n",
              "    .dataframe thead th {\n",
              "        text-align: right;\n",
              "    }\n",
              "</style>\n",
              "<table border=\"1\" class=\"dataframe\">\n",
              "  <thead>\n",
              "    <tr style=\"text-align: right;\">\n",
              "      <th></th>\n",
              "      <th>Domain</th>\n",
              "      <th>Have_IP</th>\n",
              "      <th>Have_At</th>\n",
              "      <th>URL_Length</th>\n",
              "      <th>URL_Depth</th>\n",
              "      <th>https_Domain</th>\n",
              "      <th>TinyURL</th>\n",
              "      <th>Prefix/Suffix</th>\n",
              "      <th>DNS_Record</th>\n",
              "      <th>Web_Traffic</th>\n",
              "      <th>Domain_Age</th>\n",
              "      <th>Label</th>\n",
              "    </tr>\n",
              "  </thead>\n",
              "  <tbody>\n",
              "    <tr>\n",
              "      <th>9995</th>\n",
              "      <td>mpnleiblepeanrjfdlzabmruiy-dot-gl099898987fhkl...</td>\n",
              "      <td>0</td>\n",
              "      <td>0</td>\n",
              "      <td>1</td>\n",
              "      <td>0</td>\n",
              "      <td>0</td>\n",
              "      <td>1</td>\n",
              "      <td>1</td>\n",
              "      <td>1</td>\n",
              "      <td>1</td>\n",
              "      <td>1</td>\n",
              "      <td>1</td>\n",
              "    </tr>\n",
              "    <tr>\n",
              "      <th>9996</th>\n",
              "      <td>sparxinteriors.co.zw</td>\n",
              "      <td>0</td>\n",
              "      <td>0</td>\n",
              "      <td>0</td>\n",
              "      <td>2</td>\n",
              "      <td>0</td>\n",
              "      <td>0</td>\n",
              "      <td>0</td>\n",
              "      <td>0</td>\n",
              "      <td>0</td>\n",
              "      <td>1</td>\n",
              "      <td>1</td>\n",
              "    </tr>\n",
              "    <tr>\n",
              "      <th>9997</th>\n",
              "      <td>sparkassenkundendienstservice02.xyz</td>\n",
              "      <td>0</td>\n",
              "      <td>0</td>\n",
              "      <td>0</td>\n",
              "      <td>1</td>\n",
              "      <td>0</td>\n",
              "      <td>0</td>\n",
              "      <td>0</td>\n",
              "      <td>0</td>\n",
              "      <td>1</td>\n",
              "      <td>0</td>\n",
              "      <td>1</td>\n",
              "    </tr>\n",
              "    <tr>\n",
              "      <th>9998</th>\n",
              "      <td>tracylalla.com</td>\n",
              "      <td>0</td>\n",
              "      <td>0</td>\n",
              "      <td>0</td>\n",
              "      <td>2</td>\n",
              "      <td>0</td>\n",
              "      <td>0</td>\n",
              "      <td>0</td>\n",
              "      <td>0</td>\n",
              "      <td>1</td>\n",
              "      <td>0</td>\n",
              "      <td>1</td>\n",
              "    </tr>\n",
              "    <tr>\n",
              "      <th>9999</th>\n",
              "      <td>hsv-k12-org.ml</td>\n",
              "      <td>0</td>\n",
              "      <td>0</td>\n",
              "      <td>0</td>\n",
              "      <td>0</td>\n",
              "      <td>0</td>\n",
              "      <td>0</td>\n",
              "      <td>1</td>\n",
              "      <td>0</td>\n",
              "      <td>1</td>\n",
              "      <td>1</td>\n",
              "      <td>1</td>\n",
              "    </tr>\n",
              "  </tbody>\n",
              "</table>\n",
              "</div>"
            ],
            "text/plain": [
              "                                                 Domain  Have_IP  Have_At  \\\n",
              "9995  mpnleiblepeanrjfdlzabmruiy-dot-gl099898987fhkl...        0        0   \n",
              "9996                               sparxinteriors.co.zw        0        0   \n",
              "9997                sparkassenkundendienstservice02.xyz        0        0   \n",
              "9998                                     tracylalla.com        0        0   \n",
              "9999                                     hsv-k12-org.ml        0        0   \n",
              "\n",
              "      URL_Length  URL_Depth  https_Domain  TinyURL  Prefix/Suffix  DNS_Record  \\\n",
              "9995           1          0             0        1              1           1   \n",
              "9996           0          2             0        0              0           0   \n",
              "9997           0          1             0        0              0           0   \n",
              "9998           0          2             0        0              0           0   \n",
              "9999           0          0             0        0              1           0   \n",
              "\n",
              "      Web_Traffic  Domain_Age  Label  \n",
              "9995            1           1      1  \n",
              "9996            0           1      1  \n",
              "9997            1           0      1  \n",
              "9998            1           0      1  \n",
              "9999            1           1      1  "
            ]
          },
          "execution_count": 35,
          "metadata": {},
          "output_type": "execute_result"
        }
      ]
    },
    {
      "cell_type": "code",
      "metadata": {
        "colab": {
          "base_uri": "https://localhost:8080/"
        },
        "id": "0k6xCUS0iTNS",
        "outputId": "d972f2ce-15a0-4891-ce27-0bf5aacceb43"
      },
      "source": [
        "urldata.shape"
      ],
      "execution_count": null,
      "outputs": [
        {
          "data": {
            "text/plain": [
              "(10000, 12)"
            ]
          },
          "execution_count": 36,
          "metadata": {},
          "output_type": "execute_result"
        }
      ]
    },
    {
      "cell_type": "code",
      "metadata": {
        "id": "_qfq_o1NiY5M",
        "outputId": "3d6c3b81-9bdd-4b15-bc32-fb8ef579d090"
      },
      "source": [
        "# Storing the data in CSV file\n",
        "urldata.to_csv('urldata.csv', index=False)"
      ],
      "execution_count": null,
      "outputs": [
        {
          "name": "stdout",
          "output_type": "stream",
          "text": [
            "\n"
          ]
        }
      ]
    },
    {
      "cell_type": "markdown",
      "metadata": {
        "id": "yneiXWDyl1ib"
      },
      "source": [
        "# ***Classifiers***\n",
        "1.   Loading Data \n",
        "\n"
      ]
    },
    {
      "cell_type": "code",
      "metadata": {
        "id": "4aqWtp7vmJ9v"
      },
      "source": [
        "#importing basic packages\n",
        "import pandas as pd\n",
        "import numpy as np\n",
        "import seaborn as sns\n",
        "import matplotlib.pyplot as plt"
      ],
      "execution_count": null,
      "outputs": []
    },
    {
      "cell_type": "code",
      "metadata": {
        "colab": {
          "base_uri": "https://localhost:8080/",
          "height": 194
        },
        "id": "6HcxAN-RmK8r",
        "outputId": "7cbb2bb5-fba7-4220-84c4-b33860759205"
      },
      "source": [
        "#Loading the data\n",
        "data0 = pd.read_csv('urldata.csv')\n",
        "data0.head()"
      ],
      "execution_count": null,
      "outputs": [
        {
          "data": {
            "text/html": [
              "<div>\n",
              "<style scoped>\n",
              "    .dataframe tbody tr th:only-of-type {\n",
              "        vertical-align: middle;\n",
              "    }\n",
              "\n",
              "    .dataframe tbody tr th {\n",
              "        vertical-align: top;\n",
              "    }\n",
              "\n",
              "    .dataframe thead th {\n",
              "        text-align: right;\n",
              "    }\n",
              "</style>\n",
              "<table border=\"1\" class=\"dataframe\">\n",
              "  <thead>\n",
              "    <tr style=\"text-align: right;\">\n",
              "      <th></th>\n",
              "      <th>Domain</th>\n",
              "      <th>Have_IP</th>\n",
              "      <th>Have_At</th>\n",
              "      <th>URL_Length</th>\n",
              "      <th>URL_Depth</th>\n",
              "      <th>Redirection</th>\n",
              "      <th>https_Domain</th>\n",
              "      <th>TinyURL</th>\n",
              "      <th>Prefix/Suffix</th>\n",
              "      <th>DNS_Record</th>\n",
              "      <th>Web_Traffic</th>\n",
              "      <th>Domain_Age</th>\n",
              "      <th>Domain_End</th>\n",
              "      <th>iFrame</th>\n",
              "      <th>Mouse_Over</th>\n",
              "      <th>Right_Click</th>\n",
              "      <th>Web_Forwards</th>\n",
              "      <th>Label</th>\n",
              "    </tr>\n",
              "  </thead>\n",
              "  <tbody>\n",
              "    <tr>\n",
              "      <th>0</th>\n",
              "      <td>graphicriver.net</td>\n",
              "      <td>0</td>\n",
              "      <td>0</td>\n",
              "      <td>1</td>\n",
              "      <td>1</td>\n",
              "      <td>0</td>\n",
              "      <td>0</td>\n",
              "      <td>0</td>\n",
              "      <td>0</td>\n",
              "      <td>0</td>\n",
              "      <td>1</td>\n",
              "      <td>1</td>\n",
              "      <td>1</td>\n",
              "      <td>0</td>\n",
              "      <td>0</td>\n",
              "      <td>1</td>\n",
              "      <td>0</td>\n",
              "      <td>0</td>\n",
              "    </tr>\n",
              "    <tr>\n",
              "      <th>1</th>\n",
              "      <td>ecnavi.jp</td>\n",
              "      <td>0</td>\n",
              "      <td>0</td>\n",
              "      <td>1</td>\n",
              "      <td>1</td>\n",
              "      <td>1</td>\n",
              "      <td>0</td>\n",
              "      <td>0</td>\n",
              "      <td>0</td>\n",
              "      <td>0</td>\n",
              "      <td>1</td>\n",
              "      <td>1</td>\n",
              "      <td>1</td>\n",
              "      <td>0</td>\n",
              "      <td>0</td>\n",
              "      <td>1</td>\n",
              "      <td>0</td>\n",
              "      <td>0</td>\n",
              "    </tr>\n",
              "    <tr>\n",
              "      <th>2</th>\n",
              "      <td>hubpages.com</td>\n",
              "      <td>0</td>\n",
              "      <td>0</td>\n",
              "      <td>1</td>\n",
              "      <td>1</td>\n",
              "      <td>0</td>\n",
              "      <td>0</td>\n",
              "      <td>0</td>\n",
              "      <td>0</td>\n",
              "      <td>0</td>\n",
              "      <td>1</td>\n",
              "      <td>0</td>\n",
              "      <td>1</td>\n",
              "      <td>0</td>\n",
              "      <td>0</td>\n",
              "      <td>1</td>\n",
              "      <td>0</td>\n",
              "      <td>0</td>\n",
              "    </tr>\n",
              "    <tr>\n",
              "      <th>3</th>\n",
              "      <td>extratorrent.cc</td>\n",
              "      <td>0</td>\n",
              "      <td>0</td>\n",
              "      <td>1</td>\n",
              "      <td>3</td>\n",
              "      <td>0</td>\n",
              "      <td>0</td>\n",
              "      <td>0</td>\n",
              "      <td>0</td>\n",
              "      <td>0</td>\n",
              "      <td>1</td>\n",
              "      <td>0</td>\n",
              "      <td>1</td>\n",
              "      <td>0</td>\n",
              "      <td>0</td>\n",
              "      <td>1</td>\n",
              "      <td>0</td>\n",
              "      <td>0</td>\n",
              "    </tr>\n",
              "    <tr>\n",
              "      <th>4</th>\n",
              "      <td>icicibank.com</td>\n",
              "      <td>0</td>\n",
              "      <td>0</td>\n",
              "      <td>1</td>\n",
              "      <td>3</td>\n",
              "      <td>0</td>\n",
              "      <td>0</td>\n",
              "      <td>0</td>\n",
              "      <td>0</td>\n",
              "      <td>0</td>\n",
              "      <td>1</td>\n",
              "      <td>0</td>\n",
              "      <td>1</td>\n",
              "      <td>0</td>\n",
              "      <td>0</td>\n",
              "      <td>1</td>\n",
              "      <td>0</td>\n",
              "      <td>0</td>\n",
              "    </tr>\n",
              "  </tbody>\n",
              "</table>\n",
              "</div>"
            ],
            "text/plain": [
              "             Domain  Have_IP  Have_At  URL_Length  URL_Depth  Redirection  \\\n",
              "0  graphicriver.net        0        0           1          1            0   \n",
              "1         ecnavi.jp        0        0           1          1            1   \n",
              "2      hubpages.com        0        0           1          1            0   \n",
              "3   extratorrent.cc        0        0           1          3            0   \n",
              "4     icicibank.com        0        0           1          3            0   \n",
              "\n",
              "   https_Domain  TinyURL  Prefix/Suffix  DNS_Record  Web_Traffic  Domain_Age  \\\n",
              "0             0        0              0           0            1           1   \n",
              "1             0        0              0           0            1           1   \n",
              "2             0        0              0           0            1           0   \n",
              "3             0        0              0           0            1           0   \n",
              "4             0        0              0           0            1           0   \n",
              "\n",
              "   Domain_End  iFrame  Mouse_Over  Right_Click  Web_Forwards  Label  \n",
              "0           1       0           0            1             0      0  \n",
              "1           1       0           0            1             0      0  \n",
              "2           1       0           0            1             0      0  \n",
              "3           1       0           0            1             0      0  \n",
              "4           1       0           0            1             0      0  "
            ]
          },
          "execution_count": 2,
          "metadata": {},
          "output_type": "execute_result"
        }
      ]
    },
    {
      "cell_type": "code",
      "metadata": {
        "colab": {
          "base_uri": "https://localhost:8080/"
        },
        "id": "CRYmtN33mOM9",
        "outputId": "28a879c2-1787-488a-c6eb-ed1342ed7df4"
      },
      "source": [
        "#Checking the shape of the dataset\n",
        "data0.shape"
      ],
      "execution_count": null,
      "outputs": [
        {
          "data": {
            "text/plain": [
              "(10000, 18)"
            ]
          },
          "execution_count": 3,
          "metadata": {},
          "output_type": "execute_result"
        }
      ]
    },
    {
      "cell_type": "code",
      "metadata": {
        "colab": {
          "base_uri": "https://localhost:8080/"
        },
        "id": "kLu4JOtJmQTT",
        "outputId": "13242628-8e8b-4fab-8d80-ac9460879879"
      },
      "source": [
        "#Listing the features of the dataset\n",
        "data0.columns"
      ],
      "execution_count": null,
      "outputs": [
        {
          "data": {
            "text/plain": [
              "Index(['Domain', 'Have_IP', 'Have_At', 'URL_Length', 'URL_Depth',\n",
              "       'Redirection', 'https_Domain', 'TinyURL', 'Prefix/Suffix', 'DNS_Record',\n",
              "       'Web_Traffic', 'Domain_Age', 'Domain_End', 'iFrame', 'Mouse_Over',\n",
              "       'Right_Click', 'Web_Forwards', 'Label'],\n",
              "      dtype='object')"
            ]
          },
          "execution_count": 4,
          "metadata": {},
          "output_type": "execute_result"
        }
      ]
    },
    {
      "cell_type": "code",
      "metadata": {
        "colab": {
          "base_uri": "https://localhost:8080/"
        },
        "id": "S68gGkkdmS74",
        "outputId": "8f9ac6d6-e2de-49da-ad57-7fa4f5c0c8f0"
      },
      "source": [
        "#Information about the dataset\n",
        "data0.info()"
      ],
      "execution_count": null,
      "outputs": [
        {
          "name": "stdout",
          "output_type": "stream",
          "text": [
            "<class 'pandas.core.frame.DataFrame'>\n",
            "RangeIndex: 10000 entries, 0 to 9999\n",
            "Data columns (total 18 columns):\n",
            " #   Column         Non-Null Count  Dtype \n",
            "---  ------         --------------  ----- \n",
            " 0   Domain         10000 non-null  object\n",
            " 1   Have_IP        10000 non-null  int64 \n",
            " 2   Have_At        10000 non-null  int64 \n",
            " 3   URL_Length     10000 non-null  int64 \n",
            " 4   URL_Depth      10000 non-null  int64 \n",
            " 5   Redirection    10000 non-null  int64 \n",
            " 6   https_Domain   10000 non-null  int64 \n",
            " 7   TinyURL        10000 non-null  int64 \n",
            " 8   Prefix/Suffix  10000 non-null  int64 \n",
            " 9   DNS_Record     10000 non-null  int64 \n",
            " 10  Web_Traffic    10000 non-null  int64 \n",
            " 11  Domain_Age     10000 non-null  int64 \n",
            " 12  Domain_End     10000 non-null  int64 \n",
            " 13  iFrame         10000 non-null  int64 \n",
            " 14  Mouse_Over     10000 non-null  int64 \n",
            " 15  Right_Click    10000 non-null  int64 \n",
            " 16  Web_Forwards   10000 non-null  int64 \n",
            " 17  Label          10000 non-null  int64 \n",
            "dtypes: int64(17), object(1)\n",
            "memory usage: 1.4+ MB\n"
          ]
        }
      ]
    },
    {
      "cell_type": "code",
      "metadata": {
        "colab": {
          "base_uri": "https://localhost:8080/",
          "height": 879
        },
        "id": "kzMhf212mbuK",
        "outputId": "7027aac3-d1c9-474d-c834-03d3d0136970"
      },
      "source": [
        "#Plotting the data distribution\n",
        "data0.hist(bins = 50,figsize = (15,15))\n",
        "plt.show()"
      ],
      "execution_count": null,
      "outputs": [
        {
          "data": {
            "image/png": "[encoded data removed]",
            "text/plain": [
              "<Figure size 1080x1080 with 20 Axes>"
            ]
          },
          "metadata": {
            "needs_background": "light"
          },
          "output_type": "display_data"
        }
      ]
    },
    {
      "cell_type": "code",
      "metadata": {
        "colab": {
          "base_uri": "https://localhost:8080/",
          "height": 818
        },
        "id": "n-DWTbx5mcbh",
        "outputId": "8f86e10d-2848-42c3-b93e-9b7a86a6c081"
      },
      "source": [
        "#Correlation heatmap\n",
        "\n",
        "plt.figure(figsize=(15,13))\n",
        "sns.heatmap(data0.corr())\n",
        "plt.show()"
      ],
      "execution_count": null,
      "outputs": [
        {
          "data": {
            "image/png": "[encoded data removed]",
            "text/plain": [
              "<Figure size 1080x936 with 2 Axes>"
            ]
          },
          "metadata": {
            "needs_background": "light"
          },
          "output_type": "display_data"
        }
      ]
    },
    {
      "cell_type": "markdown",
      "metadata": {
        "id": "ddn1_cZWmlrn"
      },
      "source": [
        "#   Data Preprocessing\n",
        "\n"
      ]
    },
    {
      "cell_type": "code",
      "metadata": {
        "colab": {
          "base_uri": "https://localhost:8080/",
          "height": 282
        },
        "id": "Osl14zKxmiew",
        "outputId": "f4858867-e381-4c45-8b15-31a6e8d8d8a9"
      },
      "source": [
        "data0.describe()"
      ],
      "execution_count": null,
      "outputs": [
        {
          "data": {
            "text/html": [
              "<div>\n",
              "<style scoped>\n",
              "    .dataframe tbody tr th:only-of-type {\n",
              "        vertical-align: middle;\n",
              "    }\n",
              "\n",
              "    .dataframe tbody tr th {\n",
              "        vertical-align: top;\n",
              "    }\n",
              "\n",
              "    .dataframe thead th {\n",
              "        text-align: right;\n",
              "    }\n",
              "</style>\n",
              "<table border=\"1\" class=\"dataframe\">\n",
              "  <thead>\n",
              "    <tr style=\"text-align: right;\">\n",
              "      <th></th>\n",
              "      <th>Have_IP</th>\n",
              "      <th>Have_At</th>\n",
              "      <th>URL_Length</th>\n",
              "      <th>URL_Depth</th>\n",
              "      <th>Redirection</th>\n",
              "      <th>https_Domain</th>\n",
              "      <th>TinyURL</th>\n",
              "      <th>Prefix/Suffix</th>\n",
              "      <th>DNS_Record</th>\n",
              "      <th>Web_Traffic</th>\n",
              "      <th>Domain_Age</th>\n",
              "      <th>Domain_End</th>\n",
              "      <th>iFrame</th>\n",
              "      <th>Mouse_Over</th>\n",
              "      <th>Right_Click</th>\n",
              "      <th>Web_Forwards</th>\n",
              "      <th>Label</th>\n",
              "    </tr>\n",
              "  </thead>\n",
              "  <tbody>\n",
              "    <tr>\n",
              "      <th>count</th>\n",
              "      <td>10000.000000</td>\n",
              "      <td>10000.000000</td>\n",
              "      <td>10000.000000</td>\n",
              "      <td>10000.000000</td>\n",
              "      <td>10000.000000</td>\n",
              "      <td>10000.000000</td>\n",
              "      <td>10000.000000</td>\n",
              "      <td>10000.000000</td>\n",
              "      <td>10000.000000</td>\n",
              "      <td>10000.000000</td>\n",
              "      <td>10000.000000</td>\n",
              "      <td>10000.0000</td>\n",
              "      <td>10000.000000</td>\n",
              "      <td>10000.00000</td>\n",
              "      <td>10000.00000</td>\n",
              "      <td>10000.000000</td>\n",
              "      <td>10000.000000</td>\n",
              "    </tr>\n",
              "    <tr>\n",
              "      <th>mean</th>\n",
              "      <td>0.005500</td>\n",
              "      <td>0.022600</td>\n",
              "      <td>0.773400</td>\n",
              "      <td>3.072000</td>\n",
              "      <td>0.013500</td>\n",
              "      <td>0.000200</td>\n",
              "      <td>0.090300</td>\n",
              "      <td>0.093200</td>\n",
              "      <td>0.100800</td>\n",
              "      <td>0.845700</td>\n",
              "      <td>0.413700</td>\n",
              "      <td>0.8099</td>\n",
              "      <td>0.090900</td>\n",
              "      <td>0.06660</td>\n",
              "      <td>0.99930</td>\n",
              "      <td>0.105300</td>\n",
              "      <td>0.500000</td>\n",
              "    </tr>\n",
              "    <tr>\n",
              "      <th>std</th>\n",
              "      <td>0.073961</td>\n",
              "      <td>0.148632</td>\n",
              "      <td>0.418653</td>\n",
              "      <td>2.128631</td>\n",
              "      <td>0.115408</td>\n",
              "      <td>0.014141</td>\n",
              "      <td>0.286625</td>\n",
              "      <td>0.290727</td>\n",
              "      <td>0.301079</td>\n",
              "      <td>0.361254</td>\n",
              "      <td>0.492521</td>\n",
              "      <td>0.3924</td>\n",
              "      <td>0.287481</td>\n",
              "      <td>0.24934</td>\n",
              "      <td>0.02645</td>\n",
              "      <td>0.306955</td>\n",
              "      <td>0.500025</td>\n",
              "    </tr>\n",
              "    <tr>\n",
              "      <th>min</th>\n",
              "      <td>0.000000</td>\n",
              "      <td>0.000000</td>\n",
              "      <td>0.000000</td>\n",
              "      <td>0.000000</td>\n",
              "      <td>0.000000</td>\n",
              "      <td>0.000000</td>\n",
              "      <td>0.000000</td>\n",
              "      <td>0.000000</td>\n",
              "      <td>0.000000</td>\n",
              "      <td>0.000000</td>\n",
              "      <td>0.000000</td>\n",
              "      <td>0.0000</td>\n",
              "      <td>0.000000</td>\n",
              "      <td>0.00000</td>\n",
              "      <td>0.00000</td>\n",
              "      <td>0.000000</td>\n",
              "      <td>0.000000</td>\n",
              "    </tr>\n",
              "    <tr>\n",
              "      <th>25%</th>\n",
              "      <td>0.000000</td>\n",
              "      <td>0.000000</td>\n",
              "      <td>1.000000</td>\n",
              "      <td>2.000000</td>\n",
              "      <td>0.000000</td>\n",
              "      <td>0.000000</td>\n",
              "      <td>0.000000</td>\n",
              "      <td>0.000000</td>\n",
              "      <td>0.000000</td>\n",
              "      <td>1.000000</td>\n",
              "      <td>0.000000</td>\n",
              "      <td>1.0000</td>\n",
              "      <td>0.000000</td>\n",
              "      <td>0.00000</td>\n",
              "      <td>1.00000</td>\n",
              "      <td>0.000000</td>\n",
              "      <td>0.000000</td>\n",
              "    </tr>\n",
              "    <tr>\n",
              "      <th>50%</th>\n",
              "      <td>0.000000</td>\n",
              "      <td>0.000000</td>\n",
              "      <td>1.000000</td>\n",
              "      <td>3.000000</td>\n",
              "      <td>0.000000</td>\n",
              "      <td>0.000000</td>\n",
              "      <td>0.000000</td>\n",
              "      <td>0.000000</td>\n",
              "      <td>0.000000</td>\n",
              "      <td>1.000000</td>\n",
              "      <td>0.000000</td>\n",
              "      <td>1.0000</td>\n",
              "      <td>0.000000</td>\n",
              "      <td>0.00000</td>\n",
              "      <td>1.00000</td>\n",
              "      <td>0.000000</td>\n",
              "      <td>0.500000</td>\n",
              "    </tr>\n",
              "    <tr>\n",
              "      <th>75%</th>\n",
              "      <td>0.000000</td>\n",
              "      <td>0.000000</td>\n",
              "      <td>1.000000</td>\n",
              "      <td>4.000000</td>\n",
              "      <td>0.000000</td>\n",
              "      <td>0.000000</td>\n",
              "      <td>0.000000</td>\n",
              "      <td>0.000000</td>\n",
              "      <td>0.000000</td>\n",
              "      <td>1.000000</td>\n",
              "      <td>1.000000</td>\n",
              "      <td>1.0000</td>\n",
              "      <td>0.000000</td>\n",
              "      <td>0.00000</td>\n",
              "      <td>1.00000</td>\n",
              "      <td>0.000000</td>\n",
              "      <td>1.000000</td>\n",
              "    </tr>\n",
              "    <tr>\n",
              "      <th>max</th>\n",
              "      <td>1.000000</td>\n",
              "      <td>1.000000</td>\n",
              "      <td>1.000000</td>\n",
              "      <td>20.000000</td>\n",
              "      <td>1.000000</td>\n",
              "      <td>1.000000</td>\n",
              "      <td>1.000000</td>\n",
              "      <td>1.000000</td>\n",
              "      <td>1.000000</td>\n",
              "      <td>1.000000</td>\n",
              "      <td>1.000000</td>\n",
              "      <td>1.0000</td>\n",
              "      <td>1.000000</td>\n",
              "      <td>1.00000</td>\n",
              "      <td>1.00000</td>\n",
              "      <td>1.000000</td>\n",
              "      <td>1.000000</td>\n",
              "    </tr>\n",
              "  </tbody>\n",
              "</table>\n",
              "</div>"
            ],
            "text/plain": [
              "            Have_IP       Have_At    URL_Length     URL_Depth   Redirection  \\\n",
              "count  10000.000000  10000.000000  10000.000000  10000.000000  10000.000000   \n",
              "mean       0.005500      0.022600      0.773400      3.072000      0.013500   \n",
              "std        0.073961      0.148632      0.418653      2.128631      0.115408   \n",
              "min        0.000000      0.000000      0.000000      0.000000      0.000000   \n",
              "25%        0.000000      0.000000      1.000000      2.000000      0.000000   \n",
              "50%        0.000000      0.000000      1.000000      3.000000      0.000000   \n",
              "75%        0.000000      0.000000      1.000000      4.000000      0.000000   \n",
              "max        1.000000      1.000000      1.000000     20.000000      1.000000   \n",
              "\n",
              "       https_Domain       TinyURL  Prefix/Suffix    DNS_Record   Web_Traffic  \\\n",
              "count  10000.000000  10000.000000   10000.000000  10000.000000  10000.000000   \n",
              "mean       0.000200      0.090300       0.093200      0.100800      0.845700   \n",
              "std        0.014141      0.286625       0.290727      0.301079      0.361254   \n",
              "min        0.000000      0.000000       0.000000      0.000000      0.000000   \n",
              "25%        0.000000      0.000000       0.000000      0.000000      1.000000   \n",
              "50%        0.000000      0.000000       0.000000      0.000000      1.000000   \n",
              "75%        0.000000      0.000000       0.000000      0.000000      1.000000   \n",
              "max        1.000000      1.000000       1.000000      1.000000      1.000000   \n",
              "\n",
              "         Domain_Age  Domain_End        iFrame   Mouse_Over  Right_Click  \\\n",
              "count  10000.000000  10000.0000  10000.000000  10000.00000  10000.00000   \n",
              "mean       0.413700      0.8099      0.090900      0.06660      0.99930   \n",
              "std        0.492521      0.3924      0.287481      0.24934      0.02645   \n",
              "min        0.000000      0.0000      0.000000      0.00000      0.00000   \n",
              "25%        0.000000      1.0000      0.000000      0.00000      1.00000   \n",
              "50%        0.000000      1.0000      0.000000      0.00000      1.00000   \n",
              "75%        1.000000      1.0000      0.000000      0.00000      1.00000   \n",
              "max        1.000000      1.0000      1.000000      1.00000      1.00000   \n",
              "\n",
              "       Web_Forwards         Label  \n",
              "count  10000.000000  10000.000000  \n",
              "mean       0.105300      0.500000  \n",
              "std        0.306955      0.500025  \n",
              "min        0.000000      0.000000  \n",
              "25%        0.000000      0.000000  \n",
              "50%        0.000000      0.500000  \n",
              "75%        0.000000      1.000000  \n",
              "max        1.000000      1.000000  "
            ]
          },
          "execution_count": 8,
          "metadata": {},
          "output_type": "execute_result"
        }
      ]
    },
    {
      "cell_type": "code",
      "metadata": {
        "id": "2lZKMEvMmsRe"
      },
      "source": [
        "#Dropping the Domain column\n",
        "data = data0.drop(['Domain'], axis = 1).copy()"
      ],
      "execution_count": null,
      "outputs": []
    },
    {
      "cell_type": "code",
      "metadata": {
        "colab": {
          "base_uri": "https://localhost:8080/"
        },
        "id": "t2kjDLFkmtQF",
        "outputId": "d06bbc93-0cde-484c-a6a2-d373b6f1b374"
      },
      "source": [
        "#checking the data for null or missing values\n",
        "data.isnull().sum()"
      ],
      "execution_count": null,
      "outputs": [
        {
          "data": {
            "text/plain": [
              "Have_IP          0\n",
              "Have_At          0\n",
              "URL_Length       0\n",
              "URL_Depth        0\n",
              "Redirection      0\n",
              "https_Domain     0\n",
              "TinyURL          0\n",
              "Prefix/Suffix    0\n",
              "DNS_Record       0\n",
              "Web_Traffic      0\n",
              "Domain_Age       0\n",
              "Domain_End       0\n",
              "iFrame           0\n",
              "Mouse_Over       0\n",
              "Right_Click      0\n",
              "Web_Forwards     0\n",
              "Label            0\n",
              "dtype: int64"
            ]
          },
          "execution_count": 10,
          "metadata": {},
          "output_type": "execute_result"
        }
      ]
    },
    {
      "cell_type": "code",
      "metadata": {
        "colab": {
          "base_uri": "https://localhost:8080/",
          "height": 194
        },
        "id": "0AMvMlYtmuvU",
        "outputId": "320033cd-2e2c-4abf-bed3-8e34c76c8b2f"
      },
      "source": [
        "# shuffling the rows in the dataset so that when splitting the train and test set are equally distributed\n",
        "data = data.sample(frac=1).reset_index(drop=True)\n",
        "data.head()"
      ],
      "execution_count": null,
      "outputs": [
        {
          "data": {
            "text/html": [
              "<div>\n",
              "<style scoped>\n",
              "    .dataframe tbody tr th:only-of-type {\n",
              "        vertical-align: middle;\n",
              "    }\n",
              "\n",
              "    .dataframe tbody tr th {\n",
              "        vertical-align: top;\n",
              "    }\n",
              "\n",
              "    .dataframe thead th {\n",
              "        text-align: right;\n",
              "    }\n",
              "</style>\n",
              "<table border=\"1\" class=\"dataframe\">\n",
              "  <thead>\n",
              "    <tr style=\"text-align: right;\">\n",
              "      <th></th>\n",
              "      <th>Have_IP</th>\n",
              "      <th>Have_At</th>\n",
              "      <th>URL_Length</th>\n",
              "      <th>URL_Depth</th>\n",
              "      <th>Redirection</th>\n",
              "      <th>https_Domain</th>\n",
              "      <th>TinyURL</th>\n",
              "      <th>Prefix/Suffix</th>\n",
              "      <th>DNS_Record</th>\n",
              "      <th>Web_Traffic</th>\n",
              "      <th>Domain_Age</th>\n",
              "      <th>Domain_End</th>\n",
              "      <th>iFrame</th>\n",
              "      <th>Mouse_Over</th>\n",
              "      <th>Right_Click</th>\n",
              "      <th>Web_Forwards</th>\n",
              "      <th>Label</th>\n",
              "    </tr>\n",
              "  </thead>\n",
              "  <tbody>\n",
              "    <tr>\n",
              "      <th>0</th>\n",
              "      <td>0</td>\n",
              "      <td>0</td>\n",
              "      <td>1</td>\n",
              "      <td>2</td>\n",
              "      <td>0</td>\n",
              "      <td>0</td>\n",
              "      <td>0</td>\n",
              "      <td>0</td>\n",
              "      <td>0</td>\n",
              "      <td>1</td>\n",
              "      <td>1</td>\n",
              "      <td>1</td>\n",
              "      <td>0</td>\n",
              "      <td>0</td>\n",
              "      <td>1</td>\n",
              "      <td>0</td>\n",
              "      <td>0</td>\n",
              "    </tr>\n",
              "    <tr>\n",
              "      <th>1</th>\n",
              "      <td>0</td>\n",
              "      <td>0</td>\n",
              "      <td>1</td>\n",
              "      <td>3</td>\n",
              "      <td>0</td>\n",
              "      <td>0</td>\n",
              "      <td>0</td>\n",
              "      <td>0</td>\n",
              "      <td>1</td>\n",
              "      <td>1</td>\n",
              "      <td>1</td>\n",
              "      <td>1</td>\n",
              "      <td>0</td>\n",
              "      <td>0</td>\n",
              "      <td>1</td>\n",
              "      <td>0</td>\n",
              "      <td>0</td>\n",
              "    </tr>\n",
              "    <tr>\n",
              "      <th>2</th>\n",
              "      <td>0</td>\n",
              "      <td>0</td>\n",
              "      <td>0</td>\n",
              "      <td>1</td>\n",
              "      <td>0</td>\n",
              "      <td>0</td>\n",
              "      <td>0</td>\n",
              "      <td>0</td>\n",
              "      <td>0</td>\n",
              "      <td>1</td>\n",
              "      <td>0</td>\n",
              "      <td>1</td>\n",
              "      <td>0</td>\n",
              "      <td>0</td>\n",
              "      <td>1</td>\n",
              "      <td>0</td>\n",
              "      <td>1</td>\n",
              "    </tr>\n",
              "    <tr>\n",
              "      <th>3</th>\n",
              "      <td>0</td>\n",
              "      <td>0</td>\n",
              "      <td>0</td>\n",
              "      <td>1</td>\n",
              "      <td>0</td>\n",
              "      <td>0</td>\n",
              "      <td>0</td>\n",
              "      <td>0</td>\n",
              "      <td>0</td>\n",
              "      <td>1</td>\n",
              "      <td>0</td>\n",
              "      <td>1</td>\n",
              "      <td>0</td>\n",
              "      <td>0</td>\n",
              "      <td>1</td>\n",
              "      <td>0</td>\n",
              "      <td>1</td>\n",
              "    </tr>\n",
              "    <tr>\n",
              "      <th>4</th>\n",
              "      <td>0</td>\n",
              "      <td>0</td>\n",
              "      <td>1</td>\n",
              "      <td>3</td>\n",
              "      <td>0</td>\n",
              "      <td>0</td>\n",
              "      <td>0</td>\n",
              "      <td>0</td>\n",
              "      <td>0</td>\n",
              "      <td>1</td>\n",
              "      <td>0</td>\n",
              "      <td>0</td>\n",
              "      <td>0</td>\n",
              "      <td>0</td>\n",
              "      <td>1</td>\n",
              "      <td>0</td>\n",
              "      <td>0</td>\n",
              "    </tr>\n",
              "  </tbody>\n",
              "</table>\n",
              "</div>"
            ],
            "text/plain": [
              "   Have_IP  Have_At  URL_Length  URL_Depth  Redirection  https_Domain  \\\n",
              "0        0        0           1          2            0             0   \n",
              "1        0        0           1          3            0             0   \n",
              "2        0        0           0          1            0             0   \n",
              "3        0        0           0          1            0             0   \n",
              "4        0        0           1          3            0             0   \n",
              "\n",
              "   TinyURL  Prefix/Suffix  DNS_Record  Web_Traffic  Domain_Age  Domain_End  \\\n",
              "0        0              0           0            1           1           1   \n",
              "1        0              0           1            1           1           1   \n",
              "2        0              0           0            1           0           1   \n",
              "3        0              0           0            1           0           1   \n",
              "4        0              0           0            1           0           0   \n",
              "\n",
              "   iFrame  Mouse_Over  Right_Click  Web_Forwards  Label  \n",
              "0       0           0            1             0      0  \n",
              "1       0           0            1             0      0  \n",
              "2       0           0            1             0      1  \n",
              "3       0           0            1             0      1  \n",
              "4       0           0            1             0      0  "
            ]
          },
          "execution_count": 11,
          "metadata": {},
          "output_type": "execute_result"
        }
      ]
    },
    {
      "cell_type": "markdown",
      "metadata": {
        "id": "vZr6hwg3myyN"
      },
      "source": [
        "\n",
        "3.   Splitting the data\n",
        "\n"
      ]
    },
    {
      "cell_type": "code",
      "metadata": {
        "colab": {
          "base_uri": "https://localhost:8080/"
        },
        "id": "4PPV2G4mmwQv",
        "outputId": "c4b114e7-cd03-4f66-d15a-d20d34f2a3fe"
      },
      "source": [
        "# Sepratating & assigning features and target columns to X & y\n",
        "y = data['Label']\n",
        "X = data.drop('Label',axis=1)\n",
        "X.shape, y.shape"
      ],
      "execution_count": null,
      "outputs": [
        {
          "data": {
            "text/plain": [
              "((10000, 16), (10000,))"
            ]
          },
          "execution_count": 12,
          "metadata": {},
          "output_type": "execute_result"
        }
      ]
    },
    {
      "cell_type": "code",
      "metadata": {
        "colab": {
          "base_uri": "https://localhost:8080/"
        },
        "id": "VUYR7AEPm6tj",
        "outputId": "2c8834fc-9d6f-4208-c618-6a77aafbfd93"
      },
      "source": [
        "# Splitting the dataset into train and test sets: 80-20 split\n",
        "from sklearn.model_selection import train_test_split\n",
        "\n",
        "X_train, X_test, y_train, y_test = train_test_split(X, y,test_size = 0.2, random_state = 12)\n",
        "X_train.shape, X_test.shape"
      ],
      "execution_count": null,
      "outputs": [
        {
          "data": {
            "text/plain": [
              "((8000, 16), (2000, 16))"
            ]
          },
          "execution_count": 13,
          "metadata": {},
          "output_type": "execute_result"
        }
      ]
    },
    {
      "cell_type": "markdown",
      "metadata": {
        "id": "FPE8T7CSwWLz"
      },
      "source": [
        "# This section is for Performance results"
      ]
    },
    {
      "cell_type": "code",
      "metadata": {
        "id": "Ms5-smnRwWLz"
      },
      "source": [
        "#importing packages\n",
        "from sklearn.metrics import accuracy_score\n",
        "from sklearn.model_selection import cross_val_score"
      ],
      "execution_count": null,
      "outputs": []
    },
    {
      "cell_type": "code",
      "metadata": {
        "id": "wG9ybfBVwWLz"
      },
      "source": [
        "# Creating holders to store the model performance results\n",
        "ML_Model = []\n",
        "acc_train = []\n",
        "acc_test = []\n",
        "\n",
        "#function to call for storing the results\n",
        "def storeResults(model, a,b):\n",
        "  ML_Model.append(model)\n",
        "  acc_train.append(round(a, 3))\n",
        "  acc_test.append(round(b, 3))"
      ],
      "execution_count": null,
      "outputs": []
    },
    {
      "cell_type": "markdown",
      "metadata": {
        "id": "LngKntlIwWLz"
      },
      "source": [
        "# Classifier: Decision Tree"
      ]
    },
    {
      "cell_type": "code",
      "metadata": {
        "id": "6gI3mtAVwWLz",
        "outputId": "ad027cab-266c-4dd1-d90d-0e2d39523ec5"
      },
      "source": [
        "# Decision Tree model \n",
        "from sklearn.tree import DecisionTreeClassifier\n",
        "\n",
        "# instantiate the model \n",
        "tree = DecisionTreeClassifier(max_depth = 10)\n",
        "# fit the model \n",
        "tree.fit(X_train, y_train)\n",
        "scores = cross_val_score(tree, X_train, y_train, cv=10)\n",
        "scores.mean()"
      ],
      "execution_count": null,
      "outputs": [
        {
          "data": {
            "text/plain": [
              "0.8300000000000001"
            ]
          },
          "execution_count": 23,
          "metadata": {},
          "output_type": "execute_result"
        }
      ]
    },
    {
      "cell_type": "code",
      "metadata": {
        "id": "7-d36z3bwWL0"
      },
      "source": [
        "#predicting the target value from the model for the samples\n",
        "y_test_tree = tree.predict(X_test)\n",
        "y_train_tree = tree.predict(X_train)"
      ],
      "execution_count": null,
      "outputs": []
    },
    {
      "cell_type": "markdown",
      "metadata": {
        "id": "3uNoCH1hwWL0"
      },
      "source": [
        "Performance Evaluation"
      ]
    },
    {
      "cell_type": "code",
      "metadata": {
        "id": "7r3qDqNFwWL0",
        "outputId": "6a32ab44-4e11-430d-fcef-9ce1169c31a2"
      },
      "source": [
        "#computing the accuracy of the model performance\n",
        "acc_train_tree = scores.mean()\n",
        "acc_test_tree = accuracy_score(y_test,y_test_tree)\n",
        "\n",
        "print(\"Decision Tree: Accuracy on training Data: {:.3f}\".format(acc_train_tree))\n",
        "print(\"Decision Tree: Accuracy on test Data: {:.3f}\".format(acc_test_tree))"
      ],
      "execution_count": null,
      "outputs": [
        {
          "name": "stdout",
          "output_type": "stream",
          "text": [
            "Decision Tree: Accuracy on training Data: 0.830\n",
            "Decision Tree: Accuracy on test Data: 0.834\n"
          ]
        }
      ]
    },
    {
      "cell_type": "markdown",
      "metadata": {
        "id": "Dcc2stxkwWL1"
      },
      "source": [
        "Storing the results"
      ]
    },
    {
      "cell_type": "code",
      "metadata": {
        "id": "eEzMg9lIwWL1"
      },
      "source": [
        "#storing the results. The below mentioned order of parameter passing is important.\n",
        "#Caution: Execute only once to avoid duplications.\n",
        "storeResults('Decision Tree', acc_train_tree, acc_test_tree)"
      ],
      "execution_count": null,
      "outputs": []
    },
    {
      "cell_type": "markdown",
      "metadata": {
        "id": "IAUgFNEYwWL1"
      },
      "source": [
        "# Classifier: Random Forest"
      ]
    },
    {
      "cell_type": "code",
      "metadata": {
        "id": "h8ap0n40wWL1",
        "outputId": "4baf0aa1-e4da-4ee0-e878-425951b84217"
      },
      "source": [
        "# Random Forest model\n",
        "from sklearn.ensemble import RandomForestClassifier\n",
        "\n",
        "# instantiate the model\n",
        "forest = RandomForestClassifier(max_depth=10)\n",
        "\n",
        "# fit the model \n",
        "forest.fit(X_train, y_train)\n",
        "scores = cross_val_score(forest, X_train, y_train, cv=10)\n",
        "scores.mean()"
      ],
      "execution_count": null,
      "outputs": [
        {
          "data": {
            "text/plain": [
              "0.836125"
            ]
          },
          "execution_count": 29,
          "metadata": {},
          "output_type": "execute_result"
        }
      ]
    },
    {
      "cell_type": "code",
      "metadata": {
        "id": "OLs0vKEYwWL1"
      },
      "source": [
        "#predicting the target value from the model for the samples\n",
        "y_test_forest = forest.predict(X_test)\n",
        "y_train_forest = forest.predict(X_train)"
      ],
      "execution_count": null,
      "outputs": []
    },
    {
      "cell_type": "markdown",
      "metadata": {
        "id": "C2gyi0bVwWL1"
      },
      "source": [
        "Performance Evaluation"
      ]
    },
    {
      "cell_type": "code",
      "metadata": {
        "id": "2N06o7aIwWL1",
        "outputId": "3287702c-4edd-418b-a5e1-29d1e285554c"
      },
      "source": [
        "#computing the accuracy of the model performance\n",
        "acc_train_forest = scores.mean()\n",
        "acc_test_forest = accuracy_score(y_test,y_test_forest)\n",
        "\n",
        "print(\"Random forest: Accuracy on training Data: {:.3f}\".format(acc_train_forest))\n",
        "print(\"Random forest: Accuracy on test Data: {:.3f}\".format(acc_test_forest))"
      ],
      "execution_count": null,
      "outputs": [
        {
          "name": "stdout",
          "output_type": "stream",
          "text": [
            "Random forest: Accuracy on training Data: 0.836\n",
            "Random forest: Accuracy on test Data: 0.850\n"
          ]
        }
      ]
    },
    {
      "cell_type": "markdown",
      "metadata": {
        "id": "V2GCC80PwWL2"
      },
      "source": [
        "Storing the results"
      ]
    },
    {
      "cell_type": "code",
      "metadata": {
        "id": "kW2QyzZ-wWL2"
      },
      "source": [
        "#storing the results. The below mentioned order of parameter passing is important.\n",
        "#Caution: Execute only once to avoid duplications.\n",
        "storeResults('Random Forest', acc_train_forest, acc_test_forest)"
      ],
      "execution_count": null,
      "outputs": []
    },
    {
      "cell_type": "markdown",
      "metadata": {
        "id": "PxYIbDOHwWL2"
      },
      "source": [
        "# XGBoost Classifier "
      ]
    },
    {
      "cell_type": "code",
      "metadata": {
        "id": "yrTMgy5CwWL2",
        "outputId": "777e2c6d-7d8e-4e57-ea65-deff01e5f6c7"
      },
      "source": [
        "#XGBoost Classification model\n",
        "from xgboost import XGBClassifier\n",
        "\n",
        "# instantiate the model\n",
        "xgb = XGBClassifier(learning_rate=0.4,max_depth=10)\n",
        "#fit the model\n",
        "xgb.fit(X_train, y_train)\n",
        "scores = cross_val_score(xgb, X_train, y_train, cv=10)\n",
        "scores.mean()"
      ],
      "execution_count": null,
      "outputs": [
        {
          "name": "stdout",
          "output_type": "stream",
          "text": [
            "[19:29:39] WARNING: C:/Users/Administrator/workspace/xgboost-win64_release_1.3.0/src/learner.cc:1061: Starting in XGBoost 1.3.0, the default evaluation metric used with the objective 'binary:logistic' was changed from 'error' to 'logloss'. Explicitly set eval_metric if you'd like to restore the old behavior.\n"
          ]
        },
        {
          "name": "stderr",
          "output_type": "stream",
          "text": [
            "C:\\Users\\HASNAE\\anaconda3\\lib\\site-packages\\xgboost\\sklearn.py:888: UserWarning: The use of label encoder in XGBClassifier is deprecated and will be removed in a future release. To remove this warning, do the following: 1) Pass option use_label_encoder=False when constructing XGBClassifier object; and 2) Encode your labels (y) as integers starting with 0, i.e. 0, 1, 2, ..., [num_class - 1].\n",
            "  warnings.warn(label_encoder_deprecation_msg, UserWarning)\n"
          ]
        },
        {
          "name": "stdout",
          "output_type": "stream",
          "text": [
            "[19:29:39] WARNING: C:/Users/Administrator/workspace/xgboost-win64_release_1.3.0/src/learner.cc:1061: Starting in XGBoost 1.3.0, the default evaluation metric used with the objective 'binary:logistic' was changed from 'error' to 'logloss'. Explicitly set eval_metric if you'd like to restore the old behavior.\n",
            "[19:29:39] WARNING: C:/Users/Administrator/workspace/xgboost-win64_release_1.3.0/src/learner.cc:1061: Starting in XGBoost 1.3.0, the default evaluation metric used with the objective 'binary:logistic' was changed from 'error' to 'logloss'. Explicitly set eval_metric if you'd like to restore the old behavior.\n",
            "[19:29:40] WARNING: C:/Users/Administrator/workspace/xgboost-win64_release_1.3.0/src/learner.cc:1061: Starting in XGBoost 1.3.0, the default evaluation metric used with the objective 'binary:logistic' was changed from 'error' to 'logloss'. Explicitly set eval_metric if you'd like to restore the old behavior.\n",
            "[19:29:40] WARNING: C:/Users/Administrator/workspace/xgboost-win64_release_1.3.0/src/learner.cc:1061: Starting in XGBoost 1.3.0, the default evaluation metric used with the objective 'binary:logistic' was changed from 'error' to 'logloss'. Explicitly set eval_metric if you'd like to restore the old behavior.\n",
            "[19:29:40] WARNING: C:/Users/Administrator/workspace/xgboost-win64_release_1.3.0/src/learner.cc:1061: Starting in XGBoost 1.3.0, the default evaluation metric used with the objective 'binary:logistic' was changed from 'error' to 'logloss'. Explicitly set eval_metric if you'd like to restore the old behavior.\n",
            "[19:29:40] WARNING: C:/Users/Administrator/workspace/xgboost-win64_release_1.3.0/src/learner.cc:1061: Starting in XGBoost 1.3.0, the default evaluation metric used with the objective 'binary:logistic' was changed from 'error' to 'logloss'. Explicitly set eval_metric if you'd like to restore the old behavior.\n",
            "[19:29:41] WARNING: C:/Users/Administrator/workspace/xgboost-win64_release_1.3.0/src/learner.cc:1061: Starting in XGBoost 1.3.0, the default evaluation metric used with the objective 'binary:logistic' was changed from 'error' to 'logloss'. Explicitly set eval_metric if you'd like to restore the old behavior.\n",
            "[19:29:41] WARNING: C:/Users/Administrator/workspace/xgboost-win64_release_1.3.0/src/learner.cc:1061: Starting in XGBoost 1.3.0, the default evaluation metric used with the objective 'binary:logistic' was changed from 'error' to 'logloss'. Explicitly set eval_metric if you'd like to restore the old behavior.\n",
            "[19:29:41] WARNING: C:/Users/Administrator/workspace/xgboost-win64_release_1.3.0/src/learner.cc:1061: Starting in XGBoost 1.3.0, the default evaluation metric used with the objective 'binary:logistic' was changed from 'error' to 'logloss'. Explicitly set eval_metric if you'd like to restore the old behavior.\n",
            "[19:29:42] WARNING: C:/Users/Administrator/workspace/xgboost-win64_release_1.3.0/src/learner.cc:1061: Starting in XGBoost 1.3.0, the default evaluation metric used with the objective 'binary:logistic' was changed from 'error' to 'logloss'. Explicitly set eval_metric if you'd like to restore the old behavior.\n"
          ]
        },
        {
          "data": {
            "text/plain": [
              "0.85725"
            ]
          },
          "execution_count": 35,
          "metadata": {},
          "output_type": "execute_result"
        }
      ]
    },
    {
      "cell_type": "code",
      "metadata": {
        "id": "Xbvu7skEwWL2"
      },
      "source": [
        "#predicting the target value from the model for the samples\n",
        "y_test_xgb = xgb.predict(X_test)\n",
        "y_train_xgb = xgb.predict(X_train)"
      ],
      "execution_count": null,
      "outputs": []
    },
    {
      "cell_type": "markdown",
      "metadata": {
        "id": "Ua7hL8VewWL2"
      },
      "source": [
        "Performance evaluation"
      ]
    },
    {
      "cell_type": "code",
      "metadata": {
        "id": "dCEa14apwWL3",
        "outputId": "ca331637-b83b-437b-d89d-49948816b0bc"
      },
      "source": [
        "#computing the accuracy of the model performance\n",
        "acc_train_xgb = scores.mean()\n",
        "acc_test_xgb = accuracy_score(y_test,y_test_xgb)\n",
        "\n",
        "print(\"XGBoost: Accuracy on training Data: {:.3f}\".format(acc_train_xgb))\n",
        "print(\"XGBoost : Accuracy on test Data: {:.3f}\".format(acc_test_xgb))"
      ],
      "execution_count": null,
      "outputs": [
        {
          "name": "stdout",
          "output_type": "stream",
          "text": [
            "XGBoost: Accuracy on training Data: 0.857\n",
            "XGBoost : Accuracy on test Data: 0.873\n"
          ]
        }
      ]
    },
    {
      "cell_type": "markdown",
      "metadata": {
        "id": "GDDg1L7swWL3"
      },
      "source": [
        "Storing the results"
      ]
    },
    {
      "cell_type": "code",
      "metadata": {
        "id": "shbZtKr2wWL3"
      },
      "source": [
        "#storing the results. The below mentioned order of parameter passing is important.\n",
        "#Caution: Execute only once to avoid duplications.\n",
        "storeResults('XGBoost', acc_train_xgb, acc_test_xgb)"
      ],
      "execution_count": null,
      "outputs": []
    },
    {
      "cell_type": "markdown",
      "metadata": {
        "id": "L1rDjatEwWL3"
      },
      "source": [
        "# **Classifier: Artificial Neural Network**"
      ]
    },
    {
      "cell_type": "code",
      "metadata": {
        "id": "PJ6Yq34WwWL3"
      },
      "source": [
        "#importing required packages\n",
        "import keras\n",
        "from keras.layers import Input, Dense\n",
        "from keras import regularizers\n",
        "import tensorflow as tf\n",
        "from keras.models import Model\n",
        "from sklearn import metrics"
      ],
      "execution_count": null,
      "outputs": []
    },
    {
      "cell_type": "code",
      "metadata": {
        "id": "lAO4a71ZwWL3"
      },
      "source": [
        "\n",
        "from sklearn.preprocessing import StandardScaler                   # for normalization of our data\n",
        "from keras.wrappers.scikit_learn import KerasClassifier            #package allowing keras to work with python\n",
        "from sklearn.model_selection import cross_val_score, GridSearchCV  #using Kfold and if needed, GridSearch object in analysis\n",
        "from sklearn.utils import shuffle                                  # shuffling our own made dataset\n",
        "from keras.models import Sequential                                # linear layer stacks model for keras\n",
        "from keras.layers import Dense, Dropout     "
      ],
      "execution_count": null,
      "outputs": []
    },
    {
      "cell_type": "code",
      "metadata": {
        "id": "VF3h14DvwWL3",
        "outputId": "7b803bf9-02f1-4de2-e8b7-a2a8349352f8"
      },
      "source": [
        "    epoch = 20\n",
        "        \n",
        "    classifier = Sequential()\n",
        "    classifier.add(Dense(units = 40, activation='relu',kernel_initializer='uniform', input_dim = 16))\n",
        "    #classifier.add(Dropout(p= 0.1))\n",
        "    classifier.add(Dense(units = 40, activation='relu',kernel_initializer='uniform'))\n",
        "    #classifier.add(Dropout(p= 0.1))\n",
        "    classifier.add(Dense(units = 40, activation='relu',kernel_initializer='uniform'))\n",
        "    #classifier.add(Dropout(p= 0.1))\n",
        "    classifier.add(Dense(units = 40, activation='relu',kernel_initializer='uniform'))      \n",
        "    #classifier.add(Dropout(p= 0.1))   \n",
        "    classifier.add(Dense(units = 1, activation='sigmoid',kernel_initializer='uniform'))\n",
        "    #classifier.add(Dropout(p= 0.1))\n",
        "    classifier.compile(optimizer='adam', loss='binary_crossentropy',metrics=['accuracy'])\n",
        "    history = classifier.fit(X_train, y_train, epochs=epoch, validation_data=(X_test, y_test), verbose=1)"
      ],
      "execution_count": null,
      "outputs": [
        {
          "name": "stdout",
          "output_type": "stream",
          "text": [
            "Epoch 1/20\n",
            "250/250 [==============================] - 1s 1ms/step - loss: 0.6553 - accuracy: 0.5990 - val_loss: 0.4152 - val_accuracy: 0.8110\n",
            "Epoch 2/20\n",
            "250/250 [==============================] - 0s 708us/step - loss: 0.4211 - accuracy: 0.8005 - val_loss: 0.3968 - val_accuracy: 0.8185\n",
            "Epoch 3/20\n",
            "250/250 [==============================] - 0s 661us/step - loss: 0.3953 - accuracy: 0.8148 - val_loss: 0.4320 - val_accuracy: 0.7865\n",
            "Epoch 4/20\n",
            "250/250 [==============================] - 0s 735us/step - loss: 0.3991 - accuracy: 0.8073 - val_loss: 0.3748 - val_accuracy: 0.8325\n",
            "Epoch 5/20\n",
            "250/250 [==============================] - 0s 658us/step - loss: 0.3700 - accuracy: 0.8242 - val_loss: 0.3756 - val_accuracy: 0.8355\n",
            "Epoch 6/20\n",
            "250/250 [==============================] - 0s 666us/step - loss: 0.3731 - accuracy: 0.8240 - val_loss: 0.3897 - val_accuracy: 0.8115\n",
            "Epoch 7/20\n",
            "250/250 [==============================] - 0s 666us/step - loss: 0.3744 - accuracy: 0.8221 - val_loss: 0.3656 - val_accuracy: 0.8350\n",
            "Epoch 8/20\n",
            "250/250 [==============================] - 0s 738us/step - loss: 0.3840 - accuracy: 0.8219 - val_loss: 0.3650 - val_accuracy: 0.8400\n",
            "Epoch 9/20\n",
            "250/250 [==============================] - 0s 725us/step - loss: 0.3620 - accuracy: 0.8372 - val_loss: 0.3607 - val_accuracy: 0.8520\n",
            "Epoch 10/20\n",
            "250/250 [==============================] - 0s 871us/step - loss: 0.3752 - accuracy: 0.8282 - val_loss: 0.3590 - val_accuracy: 0.8495\n",
            "Epoch 11/20\n",
            "250/250 [==============================] - 0s 856us/step - loss: 0.3602 - accuracy: 0.8380 - val_loss: 0.3583 - val_accuracy: 0.8380\n",
            "Epoch 12/20\n",
            "250/250 [==============================] - 0s 715us/step - loss: 0.3651 - accuracy: 0.8329 - val_loss: 0.3711 - val_accuracy: 0.8265\n",
            "Epoch 13/20\n",
            "250/250 [==============================] - 0s 672us/step - loss: 0.3565 - accuracy: 0.8392 - val_loss: 0.3532 - val_accuracy: 0.8535\n",
            "Epoch 14/20\n",
            "250/250 [==============================] - 0s 745us/step - loss: 0.3635 - accuracy: 0.8329 - val_loss: 0.3595 - val_accuracy: 0.8355\n",
            "Epoch 15/20\n",
            "250/250 [==============================] - 0s 719us/step - loss: 0.3661 - accuracy: 0.8329 - val_loss: 0.3512 - val_accuracy: 0.8510\n",
            "Epoch 16/20\n",
            "250/250 [==============================] - 0s 664us/step - loss: 0.3542 - accuracy: 0.8393 - val_loss: 0.3502 - val_accuracy: 0.8555\n",
            "Epoch 17/20\n",
            "250/250 [==============================] - 0s 738us/step - loss: 0.3495 - accuracy: 0.8450 - val_loss: 0.3522 - val_accuracy: 0.8515\n",
            "Epoch 18/20\n",
            "250/250 [==============================] - 0s 706us/step - loss: 0.3591 - accuracy: 0.8359 - val_loss: 0.3498 - val_accuracy: 0.8555\n",
            "Epoch 19/20\n",
            "250/250 [==============================] - 0s 706us/step - loss: 0.3459 - accuracy: 0.8452 - val_loss: 0.3529 - val_accuracy: 0.8590\n",
            "Epoch 20/20\n",
            "250/250 [==============================] - 0s 707us/step - loss: 0.3429 - accuracy: 0.8481 - val_loss: 0.3541 - val_accuracy: 0.8550\n"
          ]
        }
      ]
    },
    {
      "cell_type": "code",
      "metadata": {
        "id": "uZpReD2awWL4",
        "outputId": "6ded89b2-6421-4749-d36e-fa7f44c9faef"
      },
      "source": [
        "scores.mean()"
      ],
      "execution_count": null,
      "outputs": [
        {
          "data": {
            "text/plain": [
              "0.860125"
            ]
          },
          "execution_count": 72,
          "metadata": {},
          "output_type": "execute_result"
        }
      ]
    },
    {
      "cell_type": "markdown",
      "metadata": {
        "id": "D6HJb-_mwWL4"
      },
      "source": [
        "Performance Evaluation"
      ]
    },
    {
      "cell_type": "code",
      "metadata": {
        "id": "P2Mh2KKKwWL4"
      },
      "source": [
        "scores = cross_val_score(\n",
        "                        estimator=classifier, \n",
        "                        X = X_train,\n",
        "                        y = y_train,\n",
        "                        cv=10)\n",
        "#scores.mean()"
      ],
      "execution_count": null,
      "outputs": []
    },
    {
      "cell_type": "code",
      "metadata": {
        "id": "JAEIogBLwWL4"
      },
      "source": [
        "y_test_ann  = classifier.predict(X_test)\n",
        "y_train_ann = classifier.predict(X_train)"
      ],
      "execution_count": null,
      "outputs": []
    },
    {
      "cell_type": "code",
      "metadata": {
        "id": "SJDu7NIgwWL4",
        "outputId": "ce1f65a2-3681-4800-c3ea-bc0f79eada15"
      },
      "source": [
        "acc_train_ann = classifier.evaluate(X_train,y_train)[1]\n",
        "acc_test_ann = classifier.evaluate(X_test,y_test)[1]\n",
        "\n",
        "print('\\nANN: Accuracy on training Data: {:.3f}' .format(acc_train_ann))\n",
        "print('ANN: Accuracy on test Data: {:.3f}' .format(acc_test_ann))"
      ],
      "execution_count": null,
      "outputs": [
        {
          "name": "stdout",
          "output_type": "stream",
          "text": [
            "250/250 [==============================] - 0s 733us/step - loss: 0.3497 - accuracy: 0.8475\n",
            "63/63 [==============================] - 0s 515us/step - loss: 0.3541 - accuracy: 0.8550\n",
            "\n",
            "ANN: Accuracy on training Data: 0.848\n",
            "ANN: Accuracy on test Data: 0.855\n"
          ]
        }
      ]
    },
    {
      "cell_type": "markdown",
      "metadata": {
        "id": "TPHjM2-qwWL4"
      },
      "source": [
        "Storing the results"
      ]
    },
    {
      "cell_type": "code",
      "metadata": {
        "id": "DxzFI8oOwWL4"
      },
      "source": [
        "#storing the results. The below mentioned order of parameter passing is important.\n",
        "#Caution: Execute only once to avoid duplications.\n",
        "storeResults('ANN', acc_train_ann, acc_test_ann)"
      ],
      "execution_count": null,
      "outputs": []
    },
    {
      "cell_type": "markdown",
      "metadata": {
        "id": "YLzdomtHnKpT"
      },
      "source": [
        "# **Classifier: Convolutional Neural Network**\n"
      ]
    },
    {
      "cell_type": "code",
      "metadata": {
        "id": "mlpkXoMrwWL5"
      },
      "source": [
        "X_train = X_train.to_numpy()\n",
        "X_test = X_test.to_numpy()\n",
        "y_train = y_train.to_numpy()\n",
        "y_test = y_test.to_numpy()"
      ],
      "execution_count": null,
      "outputs": []
    },
    {
      "cell_type": "code",
      "metadata": {
        "id": "RADCM2wvnNfC"
      },
      "source": [
        "#importing required packages\n",
        "import keras\n",
        "from keras.layers import Input, Dense\n",
        "from keras import regularizers\n",
        "import tensorflow as tf\n",
        "from keras.models import Model\n",
        "from sklearn import metrics"
      ],
      "execution_count": null,
      "outputs": []
    },
    {
      "cell_type": "code",
      "metadata": {
        "id": "TF-wddO2wWL5"
      },
      "source": [
        "from tensorflow import keras\n",
        "from tensorflow.keras import Sequential\n",
        "from tensorflow.keras.layers import Flatten,Dense,Dropout,BatchNormalization\n",
        "from tensorflow.keras.layers import Conv1D,MaxPool1D\n",
        "from tensorflow.keras.optimizers import Adam"
      ],
      "execution_count": null,
      "outputs": []
    },
    {
      "cell_type": "code",
      "metadata": {
        "id": "TJJDMcVowWL5",
        "outputId": "3ab178ba-bfb1-4835-852d-486aa3256bf4"
      },
      "source": [
        "X_train = X_train.reshape(X_train.shape[0],X_train.shape[1],1)\n",
        "X_test = X_test.reshape(X_test.shape[0],X_test.shape[1],1)\n",
        "\n",
        "\n",
        "epoch = 20\n",
        "model = Sequential()\n",
        "model.add(Conv1D(32,2,activation='relu',input_shape = X_train[0].shape))\n",
        "model.add(BatchNormalization())\n",
        "model.add(Dropout(0.2))\n",
        "\n",
        "model.add(Conv1D(64,2,activation='relu'))\n",
        "model.add(BatchNormalization())\n",
        "model.add(Dropout(0.5))\n",
        "\n",
        "model.add(Flatten())\n",
        "model.add(Dense(64,activation='relu'))\n",
        "model.add(Dropout(0.5))\n",
        "\n",
        "model.add(Dense(1,activation='sigmoid'))\n",
        "\n",
        "model.summary()\n",
        "\n",
        "model.compile(optimizer=Adam(lr=0.0001), loss = 'binary_crossentropy', metrics=['accuracy'])"
      ],
      "execution_count": null,
      "outputs": [
        {
          "name": "stdout",
          "output_type": "stream",
          "text": [
            "Model: \"sequential_6\"\n",
            "_________________________________________________________________\n",
            "Layer (type)                 Output Shape              Param #   \n",
            "=================================================================\n",
            "conv1d (Conv1D)              (None, 15, 32)            96        \n",
            "_________________________________________________________________\n",
            "batch_normalization (BatchNo (None, 15, 32)            128       \n",
            "_________________________________________________________________\n",
            "dropout (Dropout)            (None, 15, 32)            0         \n",
            "_________________________________________________________________\n",
            "conv1d_1 (Conv1D)            (None, 14, 64)            4160      \n",
            "_________________________________________________________________\n",
            "batch_normalization_1 (Batch (None, 14, 64)            256       \n",
            "_________________________________________________________________\n",
            "dropout_1 (Dropout)          (None, 14, 64)            0         \n",
            "_________________________________________________________________\n",
            "flatten (Flatten)            (None, 896)               0         \n",
            "_________________________________________________________________\n",
            "dense_78 (Dense)             (None, 64)                57408     \n",
            "_________________________________________________________________\n",
            "dropout_2 (Dropout)          (None, 64)                0         \n",
            "_________________________________________________________________\n",
            "dense_79 (Dense)             (None, 1)                 65        \n",
            "=================================================================\n",
            "Total params: 62,113\n",
            "Trainable params: 61,921\n",
            "Non-trainable params: 192\n",
            "_________________________________________________________________\n"
          ]
        }
      ]
    },
    {
      "cell_type": "code",
      "metadata": {
        "id": "qCsZye0zwWL5"
      },
      "source": [
        "# X_train = X_train.reshape(X_train.shape[0],X_train.shape[1],1)\n",
        "# X_test = X_test.reshape(X_test.shape[0],X_test.shape[1],1)\n",
        "epoch = 20\n",
        "model = Sequential()\n",
        "model.add(Conv1D(32,2,activation='relu',input_shape = X_train[0].shape))\n",
        "model.add(BatchNormalization())\n",
        "model.add(Dropout(0.2))\n",
        "\n",
        "model.add(Conv1D(64,2,activation='relu'))\n",
        "model.add(BatchNormalization())\n",
        "model.add(Dropout(0.5))\n",
        "\n",
        "model.add(Flatten())\n",
        "model.add(Dense(64,activation='relu'))\n",
        "model.add(Dropout(0.5))\n",
        "\n",
        "model.add(Dense(1,activation='sigmoid'))\n",
        "\n",
        "#model.summary()\n",
        "\n",
        "model.compile(optimizer=Adam(lr=0.0001), loss = 'binary_crossentropy', metrics=['accuracy'])\n"
      ],
      "execution_count": null,
      "outputs": []
    },
    {
      "cell_type": "code",
      "metadata": {
        "id": "vhI-CKCRwWL6",
        "outputId": "42be570b-171c-47a2-f4b2-2374fe76cc40"
      },
      "source": [
        "history = model.fit(X_train, y_train, epochs=epoch, validation_data=(X_test, y_test), verbose=1)\n",
        "# classifier = KerasClassifier(build_fn= CNN_builder,\n",
        "#                              batch_size = 10,\n",
        "#                              nb_epoch = 100)\n",
        "scores = cross_val_score(classifier, X_train, y_train, cv=10)"
      ],
      "execution_count": null,
      "outputs": [
        {
          "name": "stdout",
          "output_type": "stream",
          "text": [
            "Epoch 1/20\n",
            "250/250 [==============================] - 2s 3ms/step - loss: 0.9586 - accuracy: 0.5522 - val_loss: 0.5983 - val_accuracy: 0.7425\n",
            "Epoch 2/20\n",
            "250/250 [==============================] - 1s 2ms/step - loss: 0.6553 - accuracy: 0.6602 - val_loss: 0.5201 - val_accuracy: 0.7950\n",
            "Epoch 3/20\n",
            "250/250 [==============================] - 1s 2ms/step - loss: 0.5747 - accuracy: 0.6998 - val_loss: 0.4877 - val_accuracy: 0.7740\n",
            "Epoch 4/20\n",
            "250/250 [==============================] - 1s 2ms/step - loss: 0.5421 - accuracy: 0.7308 - val_loss: 0.4721 - val_accuracy: 0.7735\n",
            "Epoch 5/20\n",
            "250/250 [==============================] - 1s 2ms/step - loss: 0.5068 - accuracy: 0.7499 - val_loss: 0.4575 - val_accuracy: 0.7990\n",
            "Epoch 6/20\n",
            "250/250 [==============================] - 1s 2ms/step - loss: 0.4961 - accuracy: 0.7503 - val_loss: 0.4439 - val_accuracy: 0.8010\n",
            "Epoch 7/20\n",
            "250/250 [==============================] - 1s 2ms/step - loss: 0.4898 - accuracy: 0.7524 - val_loss: 0.4389 - val_accuracy: 0.8100\n",
            "Epoch 8/20\n",
            "250/250 [==============================] - 1s 2ms/step - loss: 0.4736 - accuracy: 0.7718 - val_loss: 0.4303 - val_accuracy: 0.8075\n",
            "Epoch 9/20\n",
            "250/250 [==============================] - 1s 2ms/step - loss: 0.4694 - accuracy: 0.7732 - val_loss: 0.4272 - val_accuracy: 0.8090\n",
            "Epoch 10/20\n",
            "250/250 [==============================] - 1s 2ms/step - loss: 0.4505 - accuracy: 0.7792 - val_loss: 0.4239 - val_accuracy: 0.8150\n",
            "Epoch 11/20\n",
            "250/250 [==============================] - 1s 2ms/step - loss: 0.4613 - accuracy: 0.7706 - val_loss: 0.4215 - val_accuracy: 0.8070\n",
            "Epoch 12/20\n",
            "250/250 [==============================] - 1s 2ms/step - loss: 0.4576 - accuracy: 0.7767 - val_loss: 0.4180 - val_accuracy: 0.8085\n",
            "Epoch 13/20\n",
            "250/250 [==============================] - 1s 2ms/step - loss: 0.4496 - accuracy: 0.7792 - val_loss: 0.4157 - val_accuracy: 0.8125\n",
            "Epoch 14/20\n",
            "250/250 [==============================] - 1s 2ms/step - loss: 0.4452 - accuracy: 0.7830 - val_loss: 0.4140 - val_accuracy: 0.8140\n",
            "Epoch 15/20\n",
            "250/250 [==============================] - 1s 2ms/step - loss: 0.4521 - accuracy: 0.7808 - val_loss: 0.4110 - val_accuracy: 0.8130\n",
            "Epoch 16/20\n",
            "250/250 [==============================] - 1s 2ms/step - loss: 0.4401 - accuracy: 0.7873 - val_loss: 0.4089 - val_accuracy: 0.8140\n",
            "Epoch 17/20\n",
            "250/250 [==============================] - 1s 2ms/step - loss: 0.4564 - accuracy: 0.7704 - val_loss: 0.4087 - val_accuracy: 0.8165\n",
            "Epoch 18/20\n",
            "250/250 [==============================] - 1s 2ms/step - loss: 0.4318 - accuracy: 0.7926 - val_loss: 0.4075 - val_accuracy: 0.8180\n",
            "Epoch 19/20\n",
            "250/250 [==============================] - 1s 2ms/step - loss: 0.4367 - accuracy: 0.7922 - val_loss: 0.4069 - val_accuracy: 0.8155\n",
            "Epoch 20/20\n",
            "250/250 [==============================] - 1s 2ms/step - loss: 0.4436 - accuracy: 0.7840 - val_loss: 0.4035 - val_accuracy: 0.8140\n",
            "720/720 [==============================] - 1s 1ms/step - loss: 0.8895 - accuracy: 0.6201\n",
            "80/80 [==============================] - 0s 739us/step - loss: 0.5268 - accuracy: 0.7600\n",
            "720/720 [==============================] - 2s 1ms/step - loss: 0.9608 - accuracy: 0.5632\n",
            "80/80 [==============================] - 0s 536us/step - loss: 0.5243 - accuracy: 0.7725\n",
            "720/720 [==============================] - 1s 1ms/step - loss: 0.9254 - accuracy: 0.5550\n",
            "80/80 [==============================] - 0s 762us/step - loss: 0.5245 - accuracy: 0.8012\n",
            "720/720 [==============================] - 1s 1ms/step - loss: 0.9801 - accuracy: 0.5684\n",
            "80/80 [==============================] - 0s 964us/step - loss: 0.5484 - accuracy: 0.7650\n",
            "720/720 [==============================] - 1s 1ms/step - loss: 0.9518 - accuracy: 0.5800\n",
            "80/80 [==============================] - 0s 543us/step - loss: 0.5428 - accuracy: 0.7613\n",
            "720/720 [==============================] - 1s 1ms/step - loss: 0.8619 - accuracy: 0.5936\n",
            "80/80 [==============================] - ETA: 8s - loss: 0.5919 - accuracy: 0.70 - 0s 588us/step - loss: 0.5521 - accuracy: 0.7500\n",
            "720/720 [==============================] - 2s 1ms/step - loss: 0.8125 - accuracy: 0.5952\n",
            "80/80 [==============================] - 0s 592us/step - loss: 0.5282 - accuracy: 0.7350\n",
            "720/720 [==============================] - 1s 1ms/step - loss: 0.8365 - accuracy: 0.5697\n",
            "80/80 [==============================] - 0s 573us/step - loss: 0.5551 - accuracy: 0.7663\n",
            "720/720 [==============================] - 2s 1ms/step - loss: 0.8878 - accuracy: 0.5762\n",
            "80/80 [==============================] - 0s 741us/step - loss: 0.5186 - accuracy: 0.7875\n",
            "720/720 [==============================] - 2s 1ms/step - loss: 0.9164 - accuracy: 0.5952\n",
            "80/80 [==============================] - 0s 760us/step - loss: 0.5672 - accuracy: 0.7237\n"
          ]
        }
      ]
    },
    {
      "cell_type": "markdown",
      "metadata": {
        "id": "XevWjljAwWL6"
      },
      "source": [
        "Performance evaluation"
      ]
    },
    {
      "cell_type": "code",
      "metadata": {
        "id": "rF_x-zV2wWL6",
        "outputId": "cbddb2f3-f8f6-4558-afae-04b9fb877fe0"
      },
      "source": [
        "acc_train_cnn = scores.mean()\n",
        "acc_test_cnn = model.evaluate(X_test, y_test)[1]\n",
        "\n",
        "print('\\nCNN: Accuracy on training Data: {:.3f}' .format(acc_train_cnn))\n",
        "print('CNN: Accuracy on test Data: {:.3f}' .format(acc_test_cnn))"
      ],
      "execution_count": null,
      "outputs": [
        {
          "name": "stdout",
          "output_type": "stream",
          "text": [
            "63/63 [==============================] - 0s 753us/step - loss: 0.4035 - accuracy: 0.8140\n",
            "\n",
            "CNN: Accuracy on training Data: 0.762\n",
            "CNN: Accuracy on test Data: 0.814\n"
          ]
        }
      ]
    },
    {
      "cell_type": "markdown",
      "metadata": {
        "id": "wauFtWLewWL6"
      },
      "source": [
        "Storing the results"
      ]
    },
    {
      "cell_type": "code",
      "metadata": {
        "id": "N5fVqpenwWL6"
      },
      "source": [
        "#storing the results. The below mentioned order of parameter passing is important.\n",
        "#Caution: Execute only once to avoid duplications.\n",
        "storeResults('CNN', acc_train_cnn, acc_test_cnn)"
      ],
      "execution_count": null,
      "outputs": []
    },
    {
      "cell_type": "markdown",
      "metadata": {
        "id": "umunp_FuwWL6"
      },
      "source": [
        "# Performance Comparison"
      ]
    },
    {
      "cell_type": "code",
      "metadata": {
        "id": "I9d4Q2-9wWL6",
        "outputId": "f4ec0592-dec4-4e6b-9974-0c6054d6b544"
      },
      "source": [
        "#creating dataframe\n",
        "results = pd.DataFrame({ 'ML Model': ML_Model,    \n",
        "    'Train Accuracy': acc_train,\n",
        "    'Test Accuracy': acc_test})\n",
        "results"
      ],
      "execution_count": null,
      "outputs": [
        {
          "data": {
            "text/html": [
              "<div>\n",
              "<style scoped>\n",
              "    .dataframe tbody tr th:only-of-type {\n",
              "        vertical-align: middle;\n",
              "    }\n",
              "\n",
              "    .dataframe tbody tr th {\n",
              "        vertical-align: top;\n",
              "    }\n",
              "\n",
              "    .dataframe thead th {\n",
              "        text-align: right;\n",
              "    }\n",
              "</style>\n",
              "<table border=\"1\" class=\"dataframe\">\n",
              "  <thead>\n",
              "    <tr style=\"text-align: right;\">\n",
              "      <th></th>\n",
              "      <th>ML Model</th>\n",
              "      <th>Train Accuracy</th>\n",
              "      <th>Test Accuracy</th>\n",
              "    </tr>\n",
              "  </thead>\n",
              "  <tbody>\n",
              "    <tr>\n",
              "      <th>0</th>\n",
              "      <td>Decision Tree</td>\n",
              "      <td>0.830</td>\n",
              "      <td>0.834</td>\n",
              "    </tr>\n",
              "    <tr>\n",
              "      <th>1</th>\n",
              "      <td>Random Forest</td>\n",
              "      <td>0.836</td>\n",
              "      <td>0.850</td>\n",
              "    </tr>\n",
              "    <tr>\n",
              "      <th>2</th>\n",
              "      <td>XGBoost</td>\n",
              "      <td>0.857</td>\n",
              "      <td>0.872</td>\n",
              "    </tr>\n",
              "    <tr>\n",
              "      <th>3</th>\n",
              "      <td>ANN</td>\n",
              "      <td>0.848</td>\n",
              "      <td>0.855</td>\n",
              "    </tr>\n",
              "    <tr>\n",
              "      <th>4</th>\n",
              "      <td>CNN</td>\n",
              "      <td>0.762</td>\n",
              "      <td>0.814</td>\n",
              "    </tr>\n",
              "  </tbody>\n",
              "</table>\n",
              "</div>"
            ],
            "text/plain": [
              "        ML Model  Train Accuracy  Test Accuracy\n",
              "0  Decision Tree           0.830          0.834\n",
              "1  Random Forest           0.836          0.850\n",
              "2        XGBoost           0.857          0.872\n",
              "3            ANN           0.848          0.855\n",
              "4            CNN           0.762          0.814"
            ]
          },
          "execution_count": 75,
          "metadata": {},
          "output_type": "execute_result"
        }
      ]
    },
    {
      "cell_type": "code",
      "metadata": {
        "id": "-bhr6I2kwWL7",
        "outputId": "a084d1c4-3da0-4d1e-c345-1ee8a890d6e3"
      },
      "source": [
        "#Sorting the datafram on accuracy\n",
        "results.sort_values(by=['Test Accuracy', 'Train Accuracy'], ascending=False)"
      ],
      "execution_count": null,
      "outputs": [
        {
          "data": {
            "text/html": [
              "<div>\n",
              "<style scoped>\n",
              "    .dataframe tbody tr th:only-of-type {\n",
              "        vertical-align: middle;\n",
              "    }\n",
              "\n",
              "    .dataframe tbody tr th {\n",
              "        vertical-align: top;\n",
              "    }\n",
              "\n",
              "    .dataframe thead th {\n",
              "        text-align: right;\n",
              "    }\n",
              "</style>\n",
              "<table border=\"1\" class=\"dataframe\">\n",
              "  <thead>\n",
              "    <tr style=\"text-align: right;\">\n",
              "      <th></th>\n",
              "      <th>ML Model</th>\n",
              "      <th>Train Accuracy</th>\n",
              "      <th>Test Accuracy</th>\n",
              "    </tr>\n",
              "  </thead>\n",
              "  <tbody>\n",
              "    <tr>\n",
              "      <th>2</th>\n",
              "      <td>XGBoost</td>\n",
              "      <td>0.857</td>\n",
              "      <td>0.872</td>\n",
              "    </tr>\n",
              "    <tr>\n",
              "      <th>3</th>\n",
              "      <td>ANN</td>\n",
              "      <td>0.848</td>\n",
              "      <td>0.855</td>\n",
              "    </tr>\n",
              "    <tr>\n",
              "      <th>1</th>\n",
              "      <td>Random Forest</td>\n",
              "      <td>0.836</td>\n",
              "      <td>0.850</td>\n",
              "    </tr>\n",
              "    <tr>\n",
              "      <th>0</th>\n",
              "      <td>Decision Tree</td>\n",
              "      <td>0.830</td>\n",
              "      <td>0.834</td>\n",
              "    </tr>\n",
              "    <tr>\n",
              "      <th>4</th>\n",
              "      <td>CNN</td>\n",
              "      <td>0.762</td>\n",
              "      <td>0.814</td>\n",
              "    </tr>\n",
              "  </tbody>\n",
              "</table>\n",
              "</div>"
            ],
            "text/plain": [
              "        ML Model  Train Accuracy  Test Accuracy\n",
              "2        XGBoost           0.857          0.872\n",
              "3            ANN           0.848          0.855\n",
              "1  Random Forest           0.836          0.850\n",
              "0  Decision Tree           0.830          0.834\n",
              "4            CNN           0.762          0.814"
            ]
          },
          "execution_count": 76,
          "metadata": {},
          "output_type": "execute_result"
        }
      ]
    },
    {
      "cell_type": "code",
      "metadata": {
        "colab": {
          "base_uri": "https://localhost:8080/"
        },
        "id": "7WskwuXiTQb3",
        "outputId": "76445320-ca8e-4772-9c65-933378a809ca"
      },
      "source": [
        "# # Save model\n",
        "# model.save(\"CNN-Antiphishing\")"
      ],
      "execution_count": null,
      "outputs": [
        {
          "name": "stdout",
          "output_type": "stream",
          "text": [
            "INFO:tensorflow:Assets written to: CNN-Antiphishing\\assets\n"
          ]
        }
      ]
    }
  ]
}